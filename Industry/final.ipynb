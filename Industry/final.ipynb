{
 "cells": [
  {
   "cell_type": "markdown",
   "metadata": {
    "pycharm": {
     "name": "#%% md\n"
    }
   },
   "source": [
    "## Описание проекта"
   ]
  },
  {
   "cell_type": "markdown",
   "metadata": {},
   "source": [
    "Сталь обрабатывают в металлическом ковше вместимостью около 100 тонн. Чтобы ковш выдерживал высокие температуры, изнутри его облицовывают огнеупорным кирпичом. Расплавленную сталь заливают в ковш и подогревают до нужной температуры графитовыми электродами. Они установлены в крышке ковша. \n",
    "\n",
    "Из сплава выводится сера (десульфурация), добавлением примесей корректируется химический состав и отбираются пробы. Сталь легируют — изменяют её состав — подавая куски сплава из бункера для сыпучих материалов или проволоку через специальный трайб-аппарат (англ. tribe, «масса»).\n",
    "\n",
    "Перед тем как первый раз ввести легирующие добавки, измеряют температуру стали и производят её химический анализ. Потом температуру на несколько минут повышают, добавляют легирующие материалы и продувают сплав инертным газом. Затем его перемешивают и снова проводят измерения. Такой цикл повторяется до достижения целевого химического состава и оптимальной температуры плавки.\n",
    "\n",
    "Тогда расплавленная сталь отправляется на доводку металла или поступает в машину непрерывной разливки. Оттуда готовый продукт выходит в виде заготовок-слябов (англ. *slab*, «плита»)."
   ]
  },
  {
   "cell_type": "markdown",
   "metadata": {},
   "source": [
    "## Описание данных"
   ]
  },
  {
   "cell_type": "markdown",
   "metadata": {},
   "source": [
    "- `data_arc.csv` — данные об электродах;\n",
    "- `data_bulk.csv` — данные о подаче сыпучих материалов (объём);\n",
    "- `data_bulk_time.csv` — данные о подаче сыпучих материалов (время);\n",
    "- `data_gas.csv` — данные о продувке сплава газом;\n",
    "- `data_temp.csv` — результаты измерения температуры;\n",
    "- `data_wire.csv` — данные о проволочных материалах (объём);\n",
    "- `data_wire_time.csv` — данные о проволочных материалах (время)."
   ]
  },
  {
   "cell_type": "markdown",
   "metadata": {},
   "source": [
    "## Загрузка данных"
   ]
  },
  {
   "cell_type": "code",
   "execution_count": 1,
   "metadata": {},
   "outputs": [],
   "source": [
    "import pandas as pd\n",
    "import numpy as np\n",
    "import matplotlib.pyplot as plt\n",
    "plt.rcParams[\"figure.figsize\"] = (12,8)\n",
    "import seaborn as sns\n",
    "sns.set_style('darkgrid')\n",
    "\n",
    "from sklearn.model_selection import train_test_split\n",
    "from sklearn.metrics import mean_absolute_error\n",
    "from sklearn.ensemble import RandomForestRegressor\n",
    "from sklearn.linear_model import LinearRegression\n",
    "from catboost import CatBoostRegressor\n",
    "from sklearn.model_selection import RandomizedSearchCV\n",
    "from sklearn.model_selection import GridSearchCV"
   ]
  },
  {
   "cell_type": "code",
   "execution_count": 2,
   "metadata": {},
   "outputs": [],
   "source": [
    "root = 'datasets/final_steel/'\n",
    "data_arc = pd.read_csv(root + 'data_arc.csv', parse_dates = ['Начало нагрева дугой', 'Конец нагрева дугой'])\n",
    "data_bulk = pd.read_csv(root + 'data_bulk.csv')\n",
    "data_bulk_time = pd.read_csv(root + 'data_bulk_time.csv')\n",
    "data_gas = pd.read_csv(root + 'data_gas.csv')\n",
    "data_temp = pd.read_csv(root + 'data_temp.csv', parse_dates = ['Время замера'])\n",
    "data_wire = pd.read_csv(root + 'data_wire.csv')\n",
    "data_wire_time = pd.read_csv(root + 'data_wire_time.csv')"
   ]
  },
  {
   "cell_type": "code",
   "execution_count": 3,
   "metadata": {},
   "outputs": [
    {
     "data": {
      "text/plain": "        key Начало нагрева дугой Конец нагрева дугой  Активная мощность  \\\n0         1  2019-05-03 11:02:14 2019-05-03 11:06:02           0.976059   \n1         1  2019-05-03 11:07:28 2019-05-03 11:10:33           0.805607   \n2         1  2019-05-03 11:11:44 2019-05-03 11:14:36           0.744363   \n3         1  2019-05-03 11:18:14 2019-05-03 11:24:19           1.659363   \n4         1  2019-05-03 11:26:09 2019-05-03 11:28:37           0.692755   \n...     ...                  ...                 ...                ...   \n14871  3241  2019-09-01 03:58:58 2019-09-01 04:01:35           0.533670   \n14872  3241  2019-09-01 04:05:04 2019-09-01 04:08:04           0.676604   \n14873  3241  2019-09-01 04:16:41 2019-09-01 04:19:45           0.733899   \n14874  3241  2019-09-01 04:31:51 2019-09-01 04:32:48           0.220694   \n14875  3241  2019-09-01 04:34:47 2019-09-01 04:36:08           0.306580   \n\n       Реактивная мощность  \n0                 0.687084  \n1                 0.520285  \n2                 0.498805  \n3                 1.062669  \n4                 0.414397  \n...                    ...  \n14871             0.354439  \n14872             0.523631  \n14873             0.475654  \n14874             0.145768  \n14875             0.196708  \n\n[14876 rows x 5 columns]",
      "text/html": "<div>\n<style scoped>\n    .dataframe tbody tr th:only-of-type {\n        vertical-align: middle;\n    }\n\n    .dataframe tbody tr th {\n        vertical-align: top;\n    }\n\n    .dataframe thead th {\n        text-align: right;\n    }\n</style>\n<table border=\"1\" class=\"dataframe\">\n  <thead>\n    <tr style=\"text-align: right;\">\n      <th></th>\n      <th>key</th>\n      <th>Начало нагрева дугой</th>\n      <th>Конец нагрева дугой</th>\n      <th>Активная мощность</th>\n      <th>Реактивная мощность</th>\n    </tr>\n  </thead>\n  <tbody>\n    <tr>\n      <th>0</th>\n      <td>1</td>\n      <td>2019-05-03 11:02:14</td>\n      <td>2019-05-03 11:06:02</td>\n      <td>0.976059</td>\n      <td>0.687084</td>\n    </tr>\n    <tr>\n      <th>1</th>\n      <td>1</td>\n      <td>2019-05-03 11:07:28</td>\n      <td>2019-05-03 11:10:33</td>\n      <td>0.805607</td>\n      <td>0.520285</td>\n    </tr>\n    <tr>\n      <th>2</th>\n      <td>1</td>\n      <td>2019-05-03 11:11:44</td>\n      <td>2019-05-03 11:14:36</td>\n      <td>0.744363</td>\n      <td>0.498805</td>\n    </tr>\n    <tr>\n      <th>3</th>\n      <td>1</td>\n      <td>2019-05-03 11:18:14</td>\n      <td>2019-05-03 11:24:19</td>\n      <td>1.659363</td>\n      <td>1.062669</td>\n    </tr>\n    <tr>\n      <th>4</th>\n      <td>1</td>\n      <td>2019-05-03 11:26:09</td>\n      <td>2019-05-03 11:28:37</td>\n      <td>0.692755</td>\n      <td>0.414397</td>\n    </tr>\n    <tr>\n      <th>...</th>\n      <td>...</td>\n      <td>...</td>\n      <td>...</td>\n      <td>...</td>\n      <td>...</td>\n    </tr>\n    <tr>\n      <th>14871</th>\n      <td>3241</td>\n      <td>2019-09-01 03:58:58</td>\n      <td>2019-09-01 04:01:35</td>\n      <td>0.533670</td>\n      <td>0.354439</td>\n    </tr>\n    <tr>\n      <th>14872</th>\n      <td>3241</td>\n      <td>2019-09-01 04:05:04</td>\n      <td>2019-09-01 04:08:04</td>\n      <td>0.676604</td>\n      <td>0.523631</td>\n    </tr>\n    <tr>\n      <th>14873</th>\n      <td>3241</td>\n      <td>2019-09-01 04:16:41</td>\n      <td>2019-09-01 04:19:45</td>\n      <td>0.733899</td>\n      <td>0.475654</td>\n    </tr>\n    <tr>\n      <th>14874</th>\n      <td>3241</td>\n      <td>2019-09-01 04:31:51</td>\n      <td>2019-09-01 04:32:48</td>\n      <td>0.220694</td>\n      <td>0.145768</td>\n    </tr>\n    <tr>\n      <th>14875</th>\n      <td>3241</td>\n      <td>2019-09-01 04:34:47</td>\n      <td>2019-09-01 04:36:08</td>\n      <td>0.306580</td>\n      <td>0.196708</td>\n    </tr>\n  </tbody>\n</table>\n<p>14876 rows × 5 columns</p>\n</div>"
     },
     "execution_count": 3,
     "metadata": {},
     "output_type": "execute_result"
    }
   ],
   "source": [
    "data_arc"
   ]
  },
  {
   "cell_type": "code",
   "execution_count": 4,
   "metadata": {},
   "outputs": [
    {
     "name": "stdout",
     "output_type": "stream",
     "text": [
      "<class 'pandas.core.frame.DataFrame'>\n",
      "RangeIndex: 14876 entries, 0 to 14875\n",
      "Data columns (total 5 columns):\n",
      " #   Column                Non-Null Count  Dtype         \n",
      "---  ------                --------------  -----         \n",
      " 0   key                   14876 non-null  int64         \n",
      " 1   Начало нагрева дугой  14876 non-null  datetime64[ns]\n",
      " 2   Конец нагрева дугой   14876 non-null  datetime64[ns]\n",
      " 3   Активная мощность     14876 non-null  float64       \n",
      " 4   Реактивная мощность   14876 non-null  float64       \n",
      "dtypes: datetime64[ns](2), float64(2), int64(1)\n",
      "memory usage: 581.2 KB\n"
     ]
    }
   ],
   "source": [
    "data_arc.info()"
   ]
  },
  {
   "cell_type": "code",
   "execution_count": 5,
   "metadata": {},
   "outputs": [
    {
     "data": {
      "text/plain": "       key  Bulk 1  Bulk 2  Bulk 3  Bulk 4  Bulk 5  Bulk 6  Bulk 7  Bulk 8  \\\n0        1     NaN     NaN     NaN    43.0     NaN     NaN     NaN     NaN   \n1        2     NaN     NaN     NaN    73.0     NaN     NaN     NaN     NaN   \n2        3     NaN     NaN     NaN    34.0     NaN     NaN     NaN     NaN   \n3        4     NaN     NaN     NaN    81.0     NaN     NaN     NaN     NaN   \n4        5     NaN     NaN     NaN    78.0     NaN     NaN     NaN     NaN   \n...    ...     ...     ...     ...     ...     ...     ...     ...     ...   \n3124  3237     NaN     NaN   170.0     NaN     NaN     NaN     NaN     NaN   \n3125  3238     NaN     NaN   126.0     NaN     NaN     NaN     NaN     NaN   \n3126  3239     NaN     NaN     NaN     NaN     NaN   114.0     NaN     NaN   \n3127  3240     NaN     NaN     NaN     NaN     NaN    26.0     NaN     NaN   \n3128  3241     NaN     NaN     NaN     NaN     NaN     NaN     NaN     NaN   \n\n      Bulk 9  Bulk 10  Bulk 11  Bulk 12  Bulk 13  Bulk 14  Bulk 15  \n0        NaN      NaN      NaN    206.0      NaN    150.0    154.0  \n1        NaN      NaN      NaN    206.0      NaN    149.0    154.0  \n2        NaN      NaN      NaN    205.0      NaN    152.0    153.0  \n3        NaN      NaN      NaN    207.0      NaN    153.0    154.0  \n4        NaN      NaN      NaN    203.0      NaN    151.0    152.0  \n...      ...      ...      ...      ...      ...      ...      ...  \n3124     NaN      NaN      NaN    252.0      NaN    130.0    206.0  \n3125     NaN      NaN      NaN    254.0      NaN    108.0    106.0  \n3126     NaN      NaN      NaN    158.0      NaN    270.0     88.0  \n3127     NaN      NaN      NaN      NaN      NaN    192.0     54.0  \n3128     NaN      NaN      NaN      NaN      NaN    180.0     52.0  \n\n[3129 rows x 16 columns]",
      "text/html": "<div>\n<style scoped>\n    .dataframe tbody tr th:only-of-type {\n        vertical-align: middle;\n    }\n\n    .dataframe tbody tr th {\n        vertical-align: top;\n    }\n\n    .dataframe thead th {\n        text-align: right;\n    }\n</style>\n<table border=\"1\" class=\"dataframe\">\n  <thead>\n    <tr style=\"text-align: right;\">\n      <th></th>\n      <th>key</th>\n      <th>Bulk 1</th>\n      <th>Bulk 2</th>\n      <th>Bulk 3</th>\n      <th>Bulk 4</th>\n      <th>Bulk 5</th>\n      <th>Bulk 6</th>\n      <th>Bulk 7</th>\n      <th>Bulk 8</th>\n      <th>Bulk 9</th>\n      <th>Bulk 10</th>\n      <th>Bulk 11</th>\n      <th>Bulk 12</th>\n      <th>Bulk 13</th>\n      <th>Bulk 14</th>\n      <th>Bulk 15</th>\n    </tr>\n  </thead>\n  <tbody>\n    <tr>\n      <th>0</th>\n      <td>1</td>\n      <td>NaN</td>\n      <td>NaN</td>\n      <td>NaN</td>\n      <td>43.0</td>\n      <td>NaN</td>\n      <td>NaN</td>\n      <td>NaN</td>\n      <td>NaN</td>\n      <td>NaN</td>\n      <td>NaN</td>\n      <td>NaN</td>\n      <td>206.0</td>\n      <td>NaN</td>\n      <td>150.0</td>\n      <td>154.0</td>\n    </tr>\n    <tr>\n      <th>1</th>\n      <td>2</td>\n      <td>NaN</td>\n      <td>NaN</td>\n      <td>NaN</td>\n      <td>73.0</td>\n      <td>NaN</td>\n      <td>NaN</td>\n      <td>NaN</td>\n      <td>NaN</td>\n      <td>NaN</td>\n      <td>NaN</td>\n      <td>NaN</td>\n      <td>206.0</td>\n      <td>NaN</td>\n      <td>149.0</td>\n      <td>154.0</td>\n    </tr>\n    <tr>\n      <th>2</th>\n      <td>3</td>\n      <td>NaN</td>\n      <td>NaN</td>\n      <td>NaN</td>\n      <td>34.0</td>\n      <td>NaN</td>\n      <td>NaN</td>\n      <td>NaN</td>\n      <td>NaN</td>\n      <td>NaN</td>\n      <td>NaN</td>\n      <td>NaN</td>\n      <td>205.0</td>\n      <td>NaN</td>\n      <td>152.0</td>\n      <td>153.0</td>\n    </tr>\n    <tr>\n      <th>3</th>\n      <td>4</td>\n      <td>NaN</td>\n      <td>NaN</td>\n      <td>NaN</td>\n      <td>81.0</td>\n      <td>NaN</td>\n      <td>NaN</td>\n      <td>NaN</td>\n      <td>NaN</td>\n      <td>NaN</td>\n      <td>NaN</td>\n      <td>NaN</td>\n      <td>207.0</td>\n      <td>NaN</td>\n      <td>153.0</td>\n      <td>154.0</td>\n    </tr>\n    <tr>\n      <th>4</th>\n      <td>5</td>\n      <td>NaN</td>\n      <td>NaN</td>\n      <td>NaN</td>\n      <td>78.0</td>\n      <td>NaN</td>\n      <td>NaN</td>\n      <td>NaN</td>\n      <td>NaN</td>\n      <td>NaN</td>\n      <td>NaN</td>\n      <td>NaN</td>\n      <td>203.0</td>\n      <td>NaN</td>\n      <td>151.0</td>\n      <td>152.0</td>\n    </tr>\n    <tr>\n      <th>...</th>\n      <td>...</td>\n      <td>...</td>\n      <td>...</td>\n      <td>...</td>\n      <td>...</td>\n      <td>...</td>\n      <td>...</td>\n      <td>...</td>\n      <td>...</td>\n      <td>...</td>\n      <td>...</td>\n      <td>...</td>\n      <td>...</td>\n      <td>...</td>\n      <td>...</td>\n      <td>...</td>\n    </tr>\n    <tr>\n      <th>3124</th>\n      <td>3237</td>\n      <td>NaN</td>\n      <td>NaN</td>\n      <td>170.0</td>\n      <td>NaN</td>\n      <td>NaN</td>\n      <td>NaN</td>\n      <td>NaN</td>\n      <td>NaN</td>\n      <td>NaN</td>\n      <td>NaN</td>\n      <td>NaN</td>\n      <td>252.0</td>\n      <td>NaN</td>\n      <td>130.0</td>\n      <td>206.0</td>\n    </tr>\n    <tr>\n      <th>3125</th>\n      <td>3238</td>\n      <td>NaN</td>\n      <td>NaN</td>\n      <td>126.0</td>\n      <td>NaN</td>\n      <td>NaN</td>\n      <td>NaN</td>\n      <td>NaN</td>\n      <td>NaN</td>\n      <td>NaN</td>\n      <td>NaN</td>\n      <td>NaN</td>\n      <td>254.0</td>\n      <td>NaN</td>\n      <td>108.0</td>\n      <td>106.0</td>\n    </tr>\n    <tr>\n      <th>3126</th>\n      <td>3239</td>\n      <td>NaN</td>\n      <td>NaN</td>\n      <td>NaN</td>\n      <td>NaN</td>\n      <td>NaN</td>\n      <td>114.0</td>\n      <td>NaN</td>\n      <td>NaN</td>\n      <td>NaN</td>\n      <td>NaN</td>\n      <td>NaN</td>\n      <td>158.0</td>\n      <td>NaN</td>\n      <td>270.0</td>\n      <td>88.0</td>\n    </tr>\n    <tr>\n      <th>3127</th>\n      <td>3240</td>\n      <td>NaN</td>\n      <td>NaN</td>\n      <td>NaN</td>\n      <td>NaN</td>\n      <td>NaN</td>\n      <td>26.0</td>\n      <td>NaN</td>\n      <td>NaN</td>\n      <td>NaN</td>\n      <td>NaN</td>\n      <td>NaN</td>\n      <td>NaN</td>\n      <td>NaN</td>\n      <td>192.0</td>\n      <td>54.0</td>\n    </tr>\n    <tr>\n      <th>3128</th>\n      <td>3241</td>\n      <td>NaN</td>\n      <td>NaN</td>\n      <td>NaN</td>\n      <td>NaN</td>\n      <td>NaN</td>\n      <td>NaN</td>\n      <td>NaN</td>\n      <td>NaN</td>\n      <td>NaN</td>\n      <td>NaN</td>\n      <td>NaN</td>\n      <td>NaN</td>\n      <td>NaN</td>\n      <td>180.0</td>\n      <td>52.0</td>\n    </tr>\n  </tbody>\n</table>\n<p>3129 rows × 16 columns</p>\n</div>"
     },
     "execution_count": 5,
     "metadata": {},
     "output_type": "execute_result"
    }
   ],
   "source": [
    "data_bulk"
   ]
  },
  {
   "cell_type": "code",
   "execution_count": 6,
   "metadata": {},
   "outputs": [
    {
     "name": "stdout",
     "output_type": "stream",
     "text": [
      "<class 'pandas.core.frame.DataFrame'>\n",
      "RangeIndex: 3129 entries, 0 to 3128\n",
      "Data columns (total 16 columns):\n",
      " #   Column   Non-Null Count  Dtype  \n",
      "---  ------   --------------  -----  \n",
      " 0   key      3129 non-null   int64  \n",
      " 1   Bulk 1   252 non-null    float64\n",
      " 2   Bulk 2   22 non-null     float64\n",
      " 3   Bulk 3   1298 non-null   float64\n",
      " 4   Bulk 4   1014 non-null   float64\n",
      " 5   Bulk 5   77 non-null     float64\n",
      " 6   Bulk 6   576 non-null    float64\n",
      " 7   Bulk 7   25 non-null     float64\n",
      " 8   Bulk 8   1 non-null      float64\n",
      " 9   Bulk 9   19 non-null     float64\n",
      " 10  Bulk 10  176 non-null    float64\n",
      " 11  Bulk 11  177 non-null    float64\n",
      " 12  Bulk 12  2450 non-null   float64\n",
      " 13  Bulk 13  18 non-null     float64\n",
      " 14  Bulk 14  2806 non-null   float64\n",
      " 15  Bulk 15  2248 non-null   float64\n",
      "dtypes: float64(15), int64(1)\n",
      "memory usage: 391.2 KB\n"
     ]
    }
   ],
   "source": [
    "data_bulk.info()"
   ]
  },
  {
   "cell_type": "code",
   "execution_count": 7,
   "metadata": {},
   "outputs": [
    {
     "data": {
      "text/plain": "       key Bulk 1 Bulk 2               Bulk 3               Bulk 4 Bulk 5  \\\n0        1    NaN    NaN                  NaN  2019-05-03 11:21:30    NaN   \n1        2    NaN    NaN                  NaN  2019-05-03 11:46:38    NaN   \n2        3    NaN    NaN                  NaN  2019-05-03 12:31:06    NaN   \n3        4    NaN    NaN                  NaN  2019-05-03 12:48:43    NaN   \n4        5    NaN    NaN                  NaN  2019-05-03 13:18:50    NaN   \n...    ...    ...    ...                  ...                  ...    ...   \n3124  3237    NaN    NaN  2019-08-31 22:51:28                  NaN    NaN   \n3125  3238    NaN    NaN  2019-08-31 23:39:11                  NaN    NaN   \n3126  3239    NaN    NaN                  NaN                  NaN    NaN   \n3127  3240    NaN    NaN                  NaN                  NaN    NaN   \n3128  3241    NaN    NaN                  NaN                  NaN    NaN   \n\n                   Bulk 6 Bulk 7 Bulk 8 Bulk 9 Bulk 10 Bulk 11  \\\n0                     NaN    NaN    NaN    NaN     NaN     NaN   \n1                     NaN    NaN    NaN    NaN     NaN     NaN   \n2                     NaN    NaN    NaN    NaN     NaN     NaN   \n3                     NaN    NaN    NaN    NaN     NaN     NaN   \n4                     NaN    NaN    NaN    NaN     NaN     NaN   \n...                   ...    ...    ...    ...     ...     ...   \n3124                  NaN    NaN    NaN    NaN     NaN     NaN   \n3125                  NaN    NaN    NaN    NaN     NaN     NaN   \n3126  2019-09-01 01:51:58    NaN    NaN    NaN     NaN     NaN   \n3127  2019-09-01 03:12:40    NaN    NaN    NaN     NaN     NaN   \n3128                  NaN    NaN    NaN    NaN     NaN     NaN   \n\n                  Bulk 12 Bulk 13              Bulk 14              Bulk 15  \n0     2019-05-03 11:03:52     NaN  2019-05-03 11:03:52  2019-05-03 11:03:52  \n1     2019-05-03 11:40:20     NaN  2019-05-03 11:40:20  2019-05-03 11:40:20  \n2     2019-05-03 12:09:40     NaN  2019-05-03 12:09:40  2019-05-03 12:09:40  \n3     2019-05-03 12:41:24     NaN  2019-05-03 12:41:24  2019-05-03 12:41:24  \n4     2019-05-03 13:12:56     NaN  2019-05-03 13:12:56  2019-05-03 13:12:56  \n...                   ...     ...                  ...                  ...  \n3124  2019-08-31 22:46:52     NaN  2019-08-31 22:46:52  2019-08-31 22:46:52  \n3125  2019-08-31 23:33:09     NaN  2019-08-31 23:33:09  2019-08-31 23:33:09  \n3126  2019-09-01 01:39:41     NaN  2019-09-01 01:33:25  2019-09-01 01:33:25  \n3127                  NaN     NaN  2019-09-01 02:41:27  2019-09-01 02:41:27  \n3128                  NaN     NaN  2019-09-01 04:05:34  2019-09-01 04:05:34  \n\n[3129 rows x 16 columns]",
      "text/html": "<div>\n<style scoped>\n    .dataframe tbody tr th:only-of-type {\n        vertical-align: middle;\n    }\n\n    .dataframe tbody tr th {\n        vertical-align: top;\n    }\n\n    .dataframe thead th {\n        text-align: right;\n    }\n</style>\n<table border=\"1\" class=\"dataframe\">\n  <thead>\n    <tr style=\"text-align: right;\">\n      <th></th>\n      <th>key</th>\n      <th>Bulk 1</th>\n      <th>Bulk 2</th>\n      <th>Bulk 3</th>\n      <th>Bulk 4</th>\n      <th>Bulk 5</th>\n      <th>Bulk 6</th>\n      <th>Bulk 7</th>\n      <th>Bulk 8</th>\n      <th>Bulk 9</th>\n      <th>Bulk 10</th>\n      <th>Bulk 11</th>\n      <th>Bulk 12</th>\n      <th>Bulk 13</th>\n      <th>Bulk 14</th>\n      <th>Bulk 15</th>\n    </tr>\n  </thead>\n  <tbody>\n    <tr>\n      <th>0</th>\n      <td>1</td>\n      <td>NaN</td>\n      <td>NaN</td>\n      <td>NaN</td>\n      <td>2019-05-03 11:21:30</td>\n      <td>NaN</td>\n      <td>NaN</td>\n      <td>NaN</td>\n      <td>NaN</td>\n      <td>NaN</td>\n      <td>NaN</td>\n      <td>NaN</td>\n      <td>2019-05-03 11:03:52</td>\n      <td>NaN</td>\n      <td>2019-05-03 11:03:52</td>\n      <td>2019-05-03 11:03:52</td>\n    </tr>\n    <tr>\n      <th>1</th>\n      <td>2</td>\n      <td>NaN</td>\n      <td>NaN</td>\n      <td>NaN</td>\n      <td>2019-05-03 11:46:38</td>\n      <td>NaN</td>\n      <td>NaN</td>\n      <td>NaN</td>\n      <td>NaN</td>\n      <td>NaN</td>\n      <td>NaN</td>\n      <td>NaN</td>\n      <td>2019-05-03 11:40:20</td>\n      <td>NaN</td>\n      <td>2019-05-03 11:40:20</td>\n      <td>2019-05-03 11:40:20</td>\n    </tr>\n    <tr>\n      <th>2</th>\n      <td>3</td>\n      <td>NaN</td>\n      <td>NaN</td>\n      <td>NaN</td>\n      <td>2019-05-03 12:31:06</td>\n      <td>NaN</td>\n      <td>NaN</td>\n      <td>NaN</td>\n      <td>NaN</td>\n      <td>NaN</td>\n      <td>NaN</td>\n      <td>NaN</td>\n      <td>2019-05-03 12:09:40</td>\n      <td>NaN</td>\n      <td>2019-05-03 12:09:40</td>\n      <td>2019-05-03 12:09:40</td>\n    </tr>\n    <tr>\n      <th>3</th>\n      <td>4</td>\n      <td>NaN</td>\n      <td>NaN</td>\n      <td>NaN</td>\n      <td>2019-05-03 12:48:43</td>\n      <td>NaN</td>\n      <td>NaN</td>\n      <td>NaN</td>\n      <td>NaN</td>\n      <td>NaN</td>\n      <td>NaN</td>\n      <td>NaN</td>\n      <td>2019-05-03 12:41:24</td>\n      <td>NaN</td>\n      <td>2019-05-03 12:41:24</td>\n      <td>2019-05-03 12:41:24</td>\n    </tr>\n    <tr>\n      <th>4</th>\n      <td>5</td>\n      <td>NaN</td>\n      <td>NaN</td>\n      <td>NaN</td>\n      <td>2019-05-03 13:18:50</td>\n      <td>NaN</td>\n      <td>NaN</td>\n      <td>NaN</td>\n      <td>NaN</td>\n      <td>NaN</td>\n      <td>NaN</td>\n      <td>NaN</td>\n      <td>2019-05-03 13:12:56</td>\n      <td>NaN</td>\n      <td>2019-05-03 13:12:56</td>\n      <td>2019-05-03 13:12:56</td>\n    </tr>\n    <tr>\n      <th>...</th>\n      <td>...</td>\n      <td>...</td>\n      <td>...</td>\n      <td>...</td>\n      <td>...</td>\n      <td>...</td>\n      <td>...</td>\n      <td>...</td>\n      <td>...</td>\n      <td>...</td>\n      <td>...</td>\n      <td>...</td>\n      <td>...</td>\n      <td>...</td>\n      <td>...</td>\n      <td>...</td>\n    </tr>\n    <tr>\n      <th>3124</th>\n      <td>3237</td>\n      <td>NaN</td>\n      <td>NaN</td>\n      <td>2019-08-31 22:51:28</td>\n      <td>NaN</td>\n      <td>NaN</td>\n      <td>NaN</td>\n      <td>NaN</td>\n      <td>NaN</td>\n      <td>NaN</td>\n      <td>NaN</td>\n      <td>NaN</td>\n      <td>2019-08-31 22:46:52</td>\n      <td>NaN</td>\n      <td>2019-08-31 22:46:52</td>\n      <td>2019-08-31 22:46:52</td>\n    </tr>\n    <tr>\n      <th>3125</th>\n      <td>3238</td>\n      <td>NaN</td>\n      <td>NaN</td>\n      <td>2019-08-31 23:39:11</td>\n      <td>NaN</td>\n      <td>NaN</td>\n      <td>NaN</td>\n      <td>NaN</td>\n      <td>NaN</td>\n      <td>NaN</td>\n      <td>NaN</td>\n      <td>NaN</td>\n      <td>2019-08-31 23:33:09</td>\n      <td>NaN</td>\n      <td>2019-08-31 23:33:09</td>\n      <td>2019-08-31 23:33:09</td>\n    </tr>\n    <tr>\n      <th>3126</th>\n      <td>3239</td>\n      <td>NaN</td>\n      <td>NaN</td>\n      <td>NaN</td>\n      <td>NaN</td>\n      <td>NaN</td>\n      <td>2019-09-01 01:51:58</td>\n      <td>NaN</td>\n      <td>NaN</td>\n      <td>NaN</td>\n      <td>NaN</td>\n      <td>NaN</td>\n      <td>2019-09-01 01:39:41</td>\n      <td>NaN</td>\n      <td>2019-09-01 01:33:25</td>\n      <td>2019-09-01 01:33:25</td>\n    </tr>\n    <tr>\n      <th>3127</th>\n      <td>3240</td>\n      <td>NaN</td>\n      <td>NaN</td>\n      <td>NaN</td>\n      <td>NaN</td>\n      <td>NaN</td>\n      <td>2019-09-01 03:12:40</td>\n      <td>NaN</td>\n      <td>NaN</td>\n      <td>NaN</td>\n      <td>NaN</td>\n      <td>NaN</td>\n      <td>NaN</td>\n      <td>NaN</td>\n      <td>2019-09-01 02:41:27</td>\n      <td>2019-09-01 02:41:27</td>\n    </tr>\n    <tr>\n      <th>3128</th>\n      <td>3241</td>\n      <td>NaN</td>\n      <td>NaN</td>\n      <td>NaN</td>\n      <td>NaN</td>\n      <td>NaN</td>\n      <td>NaN</td>\n      <td>NaN</td>\n      <td>NaN</td>\n      <td>NaN</td>\n      <td>NaN</td>\n      <td>NaN</td>\n      <td>NaN</td>\n      <td>NaN</td>\n      <td>2019-09-01 04:05:34</td>\n      <td>2019-09-01 04:05:34</td>\n    </tr>\n  </tbody>\n</table>\n<p>3129 rows × 16 columns</p>\n</div>"
     },
     "execution_count": 7,
     "metadata": {},
     "output_type": "execute_result"
    }
   ],
   "source": [
    "data_bulk_time"
   ]
  },
  {
   "cell_type": "code",
   "execution_count": 8,
   "metadata": {},
   "outputs": [
    {
     "name": "stdout",
     "output_type": "stream",
     "text": [
      "<class 'pandas.core.frame.DataFrame'>\n",
      "RangeIndex: 3129 entries, 0 to 3128\n",
      "Data columns (total 16 columns):\n",
      " #   Column   Non-Null Count  Dtype \n",
      "---  ------   --------------  ----- \n",
      " 0   key      3129 non-null   int64 \n",
      " 1   Bulk 1   252 non-null    object\n",
      " 2   Bulk 2   22 non-null     object\n",
      " 3   Bulk 3   1298 non-null   object\n",
      " 4   Bulk 4   1014 non-null   object\n",
      " 5   Bulk 5   77 non-null     object\n",
      " 6   Bulk 6   576 non-null    object\n",
      " 7   Bulk 7   25 non-null     object\n",
      " 8   Bulk 8   1 non-null      object\n",
      " 9   Bulk 9   19 non-null     object\n",
      " 10  Bulk 10  176 non-null    object\n",
      " 11  Bulk 11  177 non-null    object\n",
      " 12  Bulk 12  2450 non-null   object\n",
      " 13  Bulk 13  18 non-null     object\n",
      " 14  Bulk 14  2806 non-null   object\n",
      " 15  Bulk 15  2248 non-null   object\n",
      "dtypes: int64(1), object(15)\n",
      "memory usage: 391.2+ KB\n"
     ]
    }
   ],
   "source": [
    "data_bulk_time.info()"
   ]
  },
  {
   "cell_type": "code",
   "execution_count": 9,
   "metadata": {},
   "outputs": [
    {
     "data": {
      "text/plain": "       key      Газ 1\n0        1  29.749986\n1        2  12.555561\n2        3  28.554793\n3        4  18.841219\n4        5   5.413692\n...    ...        ...\n3234  3237   5.543905\n3235  3238   6.745669\n3236  3239  16.023518\n3237  3240  11.863103\n3238  3241  12.680959\n\n[3239 rows x 2 columns]",
      "text/html": "<div>\n<style scoped>\n    .dataframe tbody tr th:only-of-type {\n        vertical-align: middle;\n    }\n\n    .dataframe tbody tr th {\n        vertical-align: top;\n    }\n\n    .dataframe thead th {\n        text-align: right;\n    }\n</style>\n<table border=\"1\" class=\"dataframe\">\n  <thead>\n    <tr style=\"text-align: right;\">\n      <th></th>\n      <th>key</th>\n      <th>Газ 1</th>\n    </tr>\n  </thead>\n  <tbody>\n    <tr>\n      <th>0</th>\n      <td>1</td>\n      <td>29.749986</td>\n    </tr>\n    <tr>\n      <th>1</th>\n      <td>2</td>\n      <td>12.555561</td>\n    </tr>\n    <tr>\n      <th>2</th>\n      <td>3</td>\n      <td>28.554793</td>\n    </tr>\n    <tr>\n      <th>3</th>\n      <td>4</td>\n      <td>18.841219</td>\n    </tr>\n    <tr>\n      <th>4</th>\n      <td>5</td>\n      <td>5.413692</td>\n    </tr>\n    <tr>\n      <th>...</th>\n      <td>...</td>\n      <td>...</td>\n    </tr>\n    <tr>\n      <th>3234</th>\n      <td>3237</td>\n      <td>5.543905</td>\n    </tr>\n    <tr>\n      <th>3235</th>\n      <td>3238</td>\n      <td>6.745669</td>\n    </tr>\n    <tr>\n      <th>3236</th>\n      <td>3239</td>\n      <td>16.023518</td>\n    </tr>\n    <tr>\n      <th>3237</th>\n      <td>3240</td>\n      <td>11.863103</td>\n    </tr>\n    <tr>\n      <th>3238</th>\n      <td>3241</td>\n      <td>12.680959</td>\n    </tr>\n  </tbody>\n</table>\n<p>3239 rows × 2 columns</p>\n</div>"
     },
     "execution_count": 9,
     "metadata": {},
     "output_type": "execute_result"
    }
   ],
   "source": [
    "data_gas"
   ]
  },
  {
   "cell_type": "code",
   "execution_count": 10,
   "metadata": {},
   "outputs": [
    {
     "name": "stdout",
     "output_type": "stream",
     "text": [
      "<class 'pandas.core.frame.DataFrame'>\n",
      "RangeIndex: 3239 entries, 0 to 3238\n",
      "Data columns (total 2 columns):\n",
      " #   Column  Non-Null Count  Dtype  \n",
      "---  ------  --------------  -----  \n",
      " 0   key     3239 non-null   int64  \n",
      " 1   Газ 1   3239 non-null   float64\n",
      "dtypes: float64(1), int64(1)\n",
      "memory usage: 50.7 KB\n"
     ]
    }
   ],
   "source": [
    "data_gas.info()"
   ]
  },
  {
   "cell_type": "code",
   "execution_count": 11,
   "metadata": {},
   "outputs": [
    {
     "data": {
      "text/plain": "        key        Время замера  Температура\n0         1 2019-05-03 11:16:18       1571.0\n1         1 2019-05-03 11:25:53       1604.0\n2         1 2019-05-03 11:29:11       1618.0\n3         1 2019-05-03 11:30:01       1601.0\n4         1 2019-05-03 11:30:39       1613.0\n...     ...                 ...          ...\n15902  3241 2019-09-01 04:03:30       1586.0\n15903  3241 2019-09-01 04:16:12          NaN\n15904  3241 2019-09-01 04:22:39          NaN\n15905  3241 2019-09-01 04:33:42          NaN\n15906  3241 2019-09-01 04:38:08          NaN\n\n[15907 rows x 3 columns]",
      "text/html": "<div>\n<style scoped>\n    .dataframe tbody tr th:only-of-type {\n        vertical-align: middle;\n    }\n\n    .dataframe tbody tr th {\n        vertical-align: top;\n    }\n\n    .dataframe thead th {\n        text-align: right;\n    }\n</style>\n<table border=\"1\" class=\"dataframe\">\n  <thead>\n    <tr style=\"text-align: right;\">\n      <th></th>\n      <th>key</th>\n      <th>Время замера</th>\n      <th>Температура</th>\n    </tr>\n  </thead>\n  <tbody>\n    <tr>\n      <th>0</th>\n      <td>1</td>\n      <td>2019-05-03 11:16:18</td>\n      <td>1571.0</td>\n    </tr>\n    <tr>\n      <th>1</th>\n      <td>1</td>\n      <td>2019-05-03 11:25:53</td>\n      <td>1604.0</td>\n    </tr>\n    <tr>\n      <th>2</th>\n      <td>1</td>\n      <td>2019-05-03 11:29:11</td>\n      <td>1618.0</td>\n    </tr>\n    <tr>\n      <th>3</th>\n      <td>1</td>\n      <td>2019-05-03 11:30:01</td>\n      <td>1601.0</td>\n    </tr>\n    <tr>\n      <th>4</th>\n      <td>1</td>\n      <td>2019-05-03 11:30:39</td>\n      <td>1613.0</td>\n    </tr>\n    <tr>\n      <th>...</th>\n      <td>...</td>\n      <td>...</td>\n      <td>...</td>\n    </tr>\n    <tr>\n      <th>15902</th>\n      <td>3241</td>\n      <td>2019-09-01 04:03:30</td>\n      <td>1586.0</td>\n    </tr>\n    <tr>\n      <th>15903</th>\n      <td>3241</td>\n      <td>2019-09-01 04:16:12</td>\n      <td>NaN</td>\n    </tr>\n    <tr>\n      <th>15904</th>\n      <td>3241</td>\n      <td>2019-09-01 04:22:39</td>\n      <td>NaN</td>\n    </tr>\n    <tr>\n      <th>15905</th>\n      <td>3241</td>\n      <td>2019-09-01 04:33:42</td>\n      <td>NaN</td>\n    </tr>\n    <tr>\n      <th>15906</th>\n      <td>3241</td>\n      <td>2019-09-01 04:38:08</td>\n      <td>NaN</td>\n    </tr>\n  </tbody>\n</table>\n<p>15907 rows × 3 columns</p>\n</div>"
     },
     "execution_count": 11,
     "metadata": {},
     "output_type": "execute_result"
    }
   ],
   "source": [
    "data_temp"
   ]
  },
  {
   "cell_type": "code",
   "execution_count": 12,
   "metadata": {},
   "outputs": [
    {
     "name": "stdout",
     "output_type": "stream",
     "text": [
      "<class 'pandas.core.frame.DataFrame'>\n",
      "RangeIndex: 15907 entries, 0 to 15906\n",
      "Data columns (total 3 columns):\n",
      " #   Column        Non-Null Count  Dtype         \n",
      "---  ------        --------------  -----         \n",
      " 0   key           15907 non-null  int64         \n",
      " 1   Время замера  15907 non-null  datetime64[ns]\n",
      " 2   Температура   13006 non-null  float64       \n",
      "dtypes: datetime64[ns](1), float64(1), int64(1)\n",
      "memory usage: 372.9 KB\n"
     ]
    }
   ],
   "source": [
    "data_temp.info()"
   ]
  },
  {
   "cell_type": "code",
   "execution_count": 13,
   "metadata": {},
   "outputs": [
    {
     "data": {
      "text/plain": "       key      Wire 1   Wire 2  Wire 3  Wire 4  Wire 5  Wire 6  Wire 7  \\\n0        1   60.059998      NaN     NaN     NaN     NaN     NaN     NaN   \n1        2   96.052315      NaN     NaN     NaN     NaN     NaN     NaN   \n2        3   91.160157      NaN     NaN     NaN     NaN     NaN     NaN   \n3        4   89.063515      NaN     NaN     NaN     NaN     NaN     NaN   \n4        5   89.238236  9.11456     NaN     NaN     NaN     NaN     NaN   \n...    ...         ...      ...     ...     ...     ...     ...     ...   \n3076  3237   38.088959      NaN     NaN     NaN     NaN     NaN     NaN   \n3077  3238   56.128799      NaN     NaN     NaN     NaN     NaN     NaN   \n3078  3239  143.357761      NaN     NaN     NaN     NaN     NaN     NaN   \n3079  3240   34.070400      NaN     NaN     NaN     NaN     NaN     NaN   \n3080  3241   63.117595      NaN     NaN     NaN     NaN     NaN     NaN   \n\n      Wire 8  Wire 9  \n0        NaN     NaN  \n1        NaN     NaN  \n2        NaN     NaN  \n3        NaN     NaN  \n4        NaN     NaN  \n...      ...     ...  \n3076     NaN     NaN  \n3077     NaN     NaN  \n3078     NaN     NaN  \n3079     NaN     NaN  \n3080     NaN     NaN  \n\n[3081 rows x 10 columns]",
      "text/html": "<div>\n<style scoped>\n    .dataframe tbody tr th:only-of-type {\n        vertical-align: middle;\n    }\n\n    .dataframe tbody tr th {\n        vertical-align: top;\n    }\n\n    .dataframe thead th {\n        text-align: right;\n    }\n</style>\n<table border=\"1\" class=\"dataframe\">\n  <thead>\n    <tr style=\"text-align: right;\">\n      <th></th>\n      <th>key</th>\n      <th>Wire 1</th>\n      <th>Wire 2</th>\n      <th>Wire 3</th>\n      <th>Wire 4</th>\n      <th>Wire 5</th>\n      <th>Wire 6</th>\n      <th>Wire 7</th>\n      <th>Wire 8</th>\n      <th>Wire 9</th>\n    </tr>\n  </thead>\n  <tbody>\n    <tr>\n      <th>0</th>\n      <td>1</td>\n      <td>60.059998</td>\n      <td>NaN</td>\n      <td>NaN</td>\n      <td>NaN</td>\n      <td>NaN</td>\n      <td>NaN</td>\n      <td>NaN</td>\n      <td>NaN</td>\n      <td>NaN</td>\n    </tr>\n    <tr>\n      <th>1</th>\n      <td>2</td>\n      <td>96.052315</td>\n      <td>NaN</td>\n      <td>NaN</td>\n      <td>NaN</td>\n      <td>NaN</td>\n      <td>NaN</td>\n      <td>NaN</td>\n      <td>NaN</td>\n      <td>NaN</td>\n    </tr>\n    <tr>\n      <th>2</th>\n      <td>3</td>\n      <td>91.160157</td>\n      <td>NaN</td>\n      <td>NaN</td>\n      <td>NaN</td>\n      <td>NaN</td>\n      <td>NaN</td>\n      <td>NaN</td>\n      <td>NaN</td>\n      <td>NaN</td>\n    </tr>\n    <tr>\n      <th>3</th>\n      <td>4</td>\n      <td>89.063515</td>\n      <td>NaN</td>\n      <td>NaN</td>\n      <td>NaN</td>\n      <td>NaN</td>\n      <td>NaN</td>\n      <td>NaN</td>\n      <td>NaN</td>\n      <td>NaN</td>\n    </tr>\n    <tr>\n      <th>4</th>\n      <td>5</td>\n      <td>89.238236</td>\n      <td>9.11456</td>\n      <td>NaN</td>\n      <td>NaN</td>\n      <td>NaN</td>\n      <td>NaN</td>\n      <td>NaN</td>\n      <td>NaN</td>\n      <td>NaN</td>\n    </tr>\n    <tr>\n      <th>...</th>\n      <td>...</td>\n      <td>...</td>\n      <td>...</td>\n      <td>...</td>\n      <td>...</td>\n      <td>...</td>\n      <td>...</td>\n      <td>...</td>\n      <td>...</td>\n      <td>...</td>\n    </tr>\n    <tr>\n      <th>3076</th>\n      <td>3237</td>\n      <td>38.088959</td>\n      <td>NaN</td>\n      <td>NaN</td>\n      <td>NaN</td>\n      <td>NaN</td>\n      <td>NaN</td>\n      <td>NaN</td>\n      <td>NaN</td>\n      <td>NaN</td>\n    </tr>\n    <tr>\n      <th>3077</th>\n      <td>3238</td>\n      <td>56.128799</td>\n      <td>NaN</td>\n      <td>NaN</td>\n      <td>NaN</td>\n      <td>NaN</td>\n      <td>NaN</td>\n      <td>NaN</td>\n      <td>NaN</td>\n      <td>NaN</td>\n    </tr>\n    <tr>\n      <th>3078</th>\n      <td>3239</td>\n      <td>143.357761</td>\n      <td>NaN</td>\n      <td>NaN</td>\n      <td>NaN</td>\n      <td>NaN</td>\n      <td>NaN</td>\n      <td>NaN</td>\n      <td>NaN</td>\n      <td>NaN</td>\n    </tr>\n    <tr>\n      <th>3079</th>\n      <td>3240</td>\n      <td>34.070400</td>\n      <td>NaN</td>\n      <td>NaN</td>\n      <td>NaN</td>\n      <td>NaN</td>\n      <td>NaN</td>\n      <td>NaN</td>\n      <td>NaN</td>\n      <td>NaN</td>\n    </tr>\n    <tr>\n      <th>3080</th>\n      <td>3241</td>\n      <td>63.117595</td>\n      <td>NaN</td>\n      <td>NaN</td>\n      <td>NaN</td>\n      <td>NaN</td>\n      <td>NaN</td>\n      <td>NaN</td>\n      <td>NaN</td>\n      <td>NaN</td>\n    </tr>\n  </tbody>\n</table>\n<p>3081 rows × 10 columns</p>\n</div>"
     },
     "execution_count": 13,
     "metadata": {},
     "output_type": "execute_result"
    }
   ],
   "source": [
    "data_wire"
   ]
  },
  {
   "cell_type": "code",
   "execution_count": 14,
   "metadata": {},
   "outputs": [
    {
     "name": "stdout",
     "output_type": "stream",
     "text": [
      "<class 'pandas.core.frame.DataFrame'>\n",
      "RangeIndex: 3081 entries, 0 to 3080\n",
      "Data columns (total 10 columns):\n",
      " #   Column  Non-Null Count  Dtype  \n",
      "---  ------  --------------  -----  \n",
      " 0   key     3081 non-null   int64  \n",
      " 1   Wire 1  3055 non-null   float64\n",
      " 2   Wire 2  1079 non-null   float64\n",
      " 3   Wire 3  63 non-null     float64\n",
      " 4   Wire 4  14 non-null     float64\n",
      " 5   Wire 5  1 non-null      float64\n",
      " 6   Wire 6  73 non-null     float64\n",
      " 7   Wire 7  11 non-null     float64\n",
      " 8   Wire 8  19 non-null     float64\n",
      " 9   Wire 9  29 non-null     float64\n",
      "dtypes: float64(9), int64(1)\n",
      "memory usage: 240.8 KB\n"
     ]
    }
   ],
   "source": [
    "data_wire.info()"
   ]
  },
  {
   "cell_type": "code",
   "execution_count": 15,
   "metadata": {},
   "outputs": [
    {
     "data": {
      "text/plain": "       key               Wire 1               Wire 2 Wire 3 Wire 4 Wire 5  \\\n0        1  2019-05-03 11:11:41                  NaN    NaN    NaN    NaN   \n1        2  2019-05-03 11:46:10                  NaN    NaN    NaN    NaN   \n2        3  2019-05-03 12:13:47                  NaN    NaN    NaN    NaN   \n3        4  2019-05-03 12:48:05                  NaN    NaN    NaN    NaN   \n4        5  2019-05-03 13:18:15  2019-05-03 13:32:06    NaN    NaN    NaN   \n...    ...                  ...                  ...    ...    ...    ...   \n3076  3237  2019-08-31 22:50:20                  NaN    NaN    NaN    NaN   \n3077  3238  2019-08-31 23:38:24                  NaN    NaN    NaN    NaN   \n3078  3239  2019-09-01 01:50:43                  NaN    NaN    NaN    NaN   \n3079  3240  2019-09-01 03:12:02                  NaN    NaN    NaN    NaN   \n3080  3241  2019-09-01 04:16:01                  NaN    NaN    NaN    NaN   \n\n     Wire 6 Wire 7 Wire 8 Wire 9  \n0       NaN    NaN    NaN    NaN  \n1       NaN    NaN    NaN    NaN  \n2       NaN    NaN    NaN    NaN  \n3       NaN    NaN    NaN    NaN  \n4       NaN    NaN    NaN    NaN  \n...     ...    ...    ...    ...  \n3076    NaN    NaN    NaN    NaN  \n3077    NaN    NaN    NaN    NaN  \n3078    NaN    NaN    NaN    NaN  \n3079    NaN    NaN    NaN    NaN  \n3080    NaN    NaN    NaN    NaN  \n\n[3081 rows x 10 columns]",
      "text/html": "<div>\n<style scoped>\n    .dataframe tbody tr th:only-of-type {\n        vertical-align: middle;\n    }\n\n    .dataframe tbody tr th {\n        vertical-align: top;\n    }\n\n    .dataframe thead th {\n        text-align: right;\n    }\n</style>\n<table border=\"1\" class=\"dataframe\">\n  <thead>\n    <tr style=\"text-align: right;\">\n      <th></th>\n      <th>key</th>\n      <th>Wire 1</th>\n      <th>Wire 2</th>\n      <th>Wire 3</th>\n      <th>Wire 4</th>\n      <th>Wire 5</th>\n      <th>Wire 6</th>\n      <th>Wire 7</th>\n      <th>Wire 8</th>\n      <th>Wire 9</th>\n    </tr>\n  </thead>\n  <tbody>\n    <tr>\n      <th>0</th>\n      <td>1</td>\n      <td>2019-05-03 11:11:41</td>\n      <td>NaN</td>\n      <td>NaN</td>\n      <td>NaN</td>\n      <td>NaN</td>\n      <td>NaN</td>\n      <td>NaN</td>\n      <td>NaN</td>\n      <td>NaN</td>\n    </tr>\n    <tr>\n      <th>1</th>\n      <td>2</td>\n      <td>2019-05-03 11:46:10</td>\n      <td>NaN</td>\n      <td>NaN</td>\n      <td>NaN</td>\n      <td>NaN</td>\n      <td>NaN</td>\n      <td>NaN</td>\n      <td>NaN</td>\n      <td>NaN</td>\n    </tr>\n    <tr>\n      <th>2</th>\n      <td>3</td>\n      <td>2019-05-03 12:13:47</td>\n      <td>NaN</td>\n      <td>NaN</td>\n      <td>NaN</td>\n      <td>NaN</td>\n      <td>NaN</td>\n      <td>NaN</td>\n      <td>NaN</td>\n      <td>NaN</td>\n    </tr>\n    <tr>\n      <th>3</th>\n      <td>4</td>\n      <td>2019-05-03 12:48:05</td>\n      <td>NaN</td>\n      <td>NaN</td>\n      <td>NaN</td>\n      <td>NaN</td>\n      <td>NaN</td>\n      <td>NaN</td>\n      <td>NaN</td>\n      <td>NaN</td>\n    </tr>\n    <tr>\n      <th>4</th>\n      <td>5</td>\n      <td>2019-05-03 13:18:15</td>\n      <td>2019-05-03 13:32:06</td>\n      <td>NaN</td>\n      <td>NaN</td>\n      <td>NaN</td>\n      <td>NaN</td>\n      <td>NaN</td>\n      <td>NaN</td>\n      <td>NaN</td>\n    </tr>\n    <tr>\n      <th>...</th>\n      <td>...</td>\n      <td>...</td>\n      <td>...</td>\n      <td>...</td>\n      <td>...</td>\n      <td>...</td>\n      <td>...</td>\n      <td>...</td>\n      <td>...</td>\n      <td>...</td>\n    </tr>\n    <tr>\n      <th>3076</th>\n      <td>3237</td>\n      <td>2019-08-31 22:50:20</td>\n      <td>NaN</td>\n      <td>NaN</td>\n      <td>NaN</td>\n      <td>NaN</td>\n      <td>NaN</td>\n      <td>NaN</td>\n      <td>NaN</td>\n      <td>NaN</td>\n    </tr>\n    <tr>\n      <th>3077</th>\n      <td>3238</td>\n      <td>2019-08-31 23:38:24</td>\n      <td>NaN</td>\n      <td>NaN</td>\n      <td>NaN</td>\n      <td>NaN</td>\n      <td>NaN</td>\n      <td>NaN</td>\n      <td>NaN</td>\n      <td>NaN</td>\n    </tr>\n    <tr>\n      <th>3078</th>\n      <td>3239</td>\n      <td>2019-09-01 01:50:43</td>\n      <td>NaN</td>\n      <td>NaN</td>\n      <td>NaN</td>\n      <td>NaN</td>\n      <td>NaN</td>\n      <td>NaN</td>\n      <td>NaN</td>\n      <td>NaN</td>\n    </tr>\n    <tr>\n      <th>3079</th>\n      <td>3240</td>\n      <td>2019-09-01 03:12:02</td>\n      <td>NaN</td>\n      <td>NaN</td>\n      <td>NaN</td>\n      <td>NaN</td>\n      <td>NaN</td>\n      <td>NaN</td>\n      <td>NaN</td>\n      <td>NaN</td>\n    </tr>\n    <tr>\n      <th>3080</th>\n      <td>3241</td>\n      <td>2019-09-01 04:16:01</td>\n      <td>NaN</td>\n      <td>NaN</td>\n      <td>NaN</td>\n      <td>NaN</td>\n      <td>NaN</td>\n      <td>NaN</td>\n      <td>NaN</td>\n      <td>NaN</td>\n    </tr>\n  </tbody>\n</table>\n<p>3081 rows × 10 columns</p>\n</div>"
     },
     "execution_count": 15,
     "metadata": {},
     "output_type": "execute_result"
    }
   ],
   "source": [
    "data_wire_time"
   ]
  },
  {
   "cell_type": "code",
   "execution_count": 16,
   "metadata": {},
   "outputs": [
    {
     "name": "stdout",
     "output_type": "stream",
     "text": [
      "<class 'pandas.core.frame.DataFrame'>\n",
      "RangeIndex: 3081 entries, 0 to 3080\n",
      "Data columns (total 10 columns):\n",
      " #   Column  Non-Null Count  Dtype \n",
      "---  ------  --------------  ----- \n",
      " 0   key     3081 non-null   int64 \n",
      " 1   Wire 1  3055 non-null   object\n",
      " 2   Wire 2  1079 non-null   object\n",
      " 3   Wire 3  63 non-null     object\n",
      " 4   Wire 4  14 non-null     object\n",
      " 5   Wire 5  1 non-null      object\n",
      " 6   Wire 6  73 non-null     object\n",
      " 7   Wire 7  11 non-null     object\n",
      " 8   Wire 8  19 non-null     object\n",
      " 9   Wire 9  29 non-null     object\n",
      "dtypes: int64(1), object(9)\n",
      "memory usage: 240.8+ KB\n"
     ]
    }
   ],
   "source": [
    "data_wire_time.info()"
   ]
  },
  {
   "cell_type": "markdown",
   "metadata": {},
   "source": [
    "## EDA"
   ]
  },
  {
   "cell_type": "markdown",
   "metadata": {},
   "source": [
    "### Данные об электродах"
   ]
  },
  {
   "cell_type": "code",
   "execution_count": 17,
   "metadata": {},
   "outputs": [
    {
     "data": {
      "text/plain": "                key  Активная мощность  Реактивная мощность\ncount  14876.000000       14876.000000         14876.000000\nmean    1615.220422           0.670441             0.452592\nstd      934.571502           0.408159             5.878702\nmin        1.000000           0.030002          -715.504924\n25%      806.000000           0.395297             0.290991\n50%     1617.000000           0.555517             0.415962\n75%     2429.000000           0.857034             0.637371\nmax     3241.000000           3.731596             2.676388",
      "text/html": "<div>\n<style scoped>\n    .dataframe tbody tr th:only-of-type {\n        vertical-align: middle;\n    }\n\n    .dataframe tbody tr th {\n        vertical-align: top;\n    }\n\n    .dataframe thead th {\n        text-align: right;\n    }\n</style>\n<table border=\"1\" class=\"dataframe\">\n  <thead>\n    <tr style=\"text-align: right;\">\n      <th></th>\n      <th>key</th>\n      <th>Активная мощность</th>\n      <th>Реактивная мощность</th>\n    </tr>\n  </thead>\n  <tbody>\n    <tr>\n      <th>count</th>\n      <td>14876.000000</td>\n      <td>14876.000000</td>\n      <td>14876.000000</td>\n    </tr>\n    <tr>\n      <th>mean</th>\n      <td>1615.220422</td>\n      <td>0.670441</td>\n      <td>0.452592</td>\n    </tr>\n    <tr>\n      <th>std</th>\n      <td>934.571502</td>\n      <td>0.408159</td>\n      <td>5.878702</td>\n    </tr>\n    <tr>\n      <th>min</th>\n      <td>1.000000</td>\n      <td>0.030002</td>\n      <td>-715.504924</td>\n    </tr>\n    <tr>\n      <th>25%</th>\n      <td>806.000000</td>\n      <td>0.395297</td>\n      <td>0.290991</td>\n    </tr>\n    <tr>\n      <th>50%</th>\n      <td>1617.000000</td>\n      <td>0.555517</td>\n      <td>0.415962</td>\n    </tr>\n    <tr>\n      <th>75%</th>\n      <td>2429.000000</td>\n      <td>0.857034</td>\n      <td>0.637371</td>\n    </tr>\n    <tr>\n      <th>max</th>\n      <td>3241.000000</td>\n      <td>3.731596</td>\n      <td>2.676388</td>\n    </tr>\n  </tbody>\n</table>\n</div>"
     },
     "execution_count": 17,
     "metadata": {},
     "output_type": "execute_result"
    }
   ],
   "source": [
    "data_arc.describe()"
   ]
  },
  {
   "cell_type": "code",
   "execution_count": 18,
   "metadata": {
    "scrolled": false
   },
   "outputs": [
    {
     "data": {
      "text/plain": "<Figure size 864x576 with 1 Axes>",
      "image/png": "[encoded data removed]"
     },
     "metadata": {},
     "output_type": "display_data"
    }
   ],
   "source": [
    "data_arc.boxplot(['Активная мощность', 'Реактивная мощность'])\n",
    "plt.title('Распределение мощностей')\n",
    "plt.ylabel('Значение')\n",
    "plt.show()"
   ]
  },
  {
   "cell_type": "code",
   "execution_count": 19,
   "metadata": {},
   "outputs": [],
   "source": [
    "# удалим выброс\n",
    "data_arc = data_arc[data_arc['Реактивная мощность'] > -50].reset_index(drop=True)\n"
   ]
  },
  {
   "cell_type": "code",
   "execution_count": 20,
   "metadata": {
    "scrolled": false
   },
   "outputs": [
    {
     "data": {
      "text/plain": "<Figure size 864x576 with 1 Axes>",
      "image/png": "[encoded data removed]"
     },
     "metadata": {},
     "output_type": "display_data"
    }
   ],
   "source": [
    "data_arc['Активная мощность'].plot(kind='hist', bins=70, legend=True, alpha=0.7)\n",
    "data_arc['Реактивная мощность'].plot(kind='hist', bins=70, legend=True, alpha=0.7)\n",
    "plt.title('Распределение мощностей')\n",
    "plt.xlabel('Значение')\n",
    "plt.ylabel('Количество')\n",
    "plt.show()"
   ]
  },
  {
   "cell_type": "markdown",
   "metadata": {},
   "source": [
    "Сразу восстановим значение полной мощности, которое является куда более показательным нежели активная и реактивная по отдельности. Таким образом мы заодно избавимся от мультиколлинеарности в дальнейшем.\n",
    "\n",
    "**Формула полной мощности**\n",
    "\n",
    "$$S = \\sqrt{P^2 + Q^2}$$ ,где P - активная мощность, Q - реактивная мощность"
   ]
  },
  {
   "cell_type": "code",
   "execution_count": 21,
   "metadata": {},
   "outputs": [],
   "source": [
    "data_arc['Полная мощность'] = np.sqrt(data_arc['Активная мощность']**2 + data_arc['Реактивная мощность']**2)\n"
   ]
  },
  {
   "cell_type": "markdown",
   "metadata": {},
   "source": [
    "Теперь нам не нужны значения активной и реактивной мощностей."
   ]
  },
  {
   "cell_type": "code",
   "execution_count": 22,
   "metadata": {},
   "outputs": [],
   "source": [
    "data_arc.drop(columns=['Активная мощность', 'Реактивная мощность'], inplace=True)"
   ]
  },
  {
   "cell_type": "code",
   "execution_count": 23,
   "metadata": {},
   "outputs": [
    {
     "data": {
      "text/plain": "<Figure size 864x576 with 1 Axes>",
      "image/png": "[encoded data removed]"
     },
     "metadata": {},
     "output_type": "display_data"
    }
   ],
   "source": [
    "data_arc['Полная мощность'].plot(kind='hist', bins=70, legend=True)\n",
    "plt.title('Распределение полной мощности')\n",
    "plt.xlabel('Значение')\n",
    "plt.ylabel('Количество')\n",
    "plt.show()"
   ]
  },
  {
   "cell_type": "markdown",
   "metadata": {},
   "source": [
    "**Средняя полная мощность**"
   ]
  },
  {
   "cell_type": "code",
   "execution_count": 24,
   "metadata": {},
   "outputs": [
    {
     "data": {
      "text/plain": "       key  Средняя полная мощность\n0        1                 1.165279\n1        2                 0.912304\n2        3                 0.597907\n3        4                 0.953741\n4        5                 1.008939\n...    ...                      ...\n3209  3237                 0.968996\n3210  3238                 0.898847\n3211  3239                 0.701485\n3212  3240                 0.778371\n3213  3241                 0.599903\n\n[3214 rows x 2 columns]",
      "text/html": "<div>\n<style scoped>\n    .dataframe tbody tr th:only-of-type {\n        vertical-align: middle;\n    }\n\n    .dataframe tbody tr th {\n        vertical-align: top;\n    }\n\n    .dataframe thead th {\n        text-align: right;\n    }\n</style>\n<table border=\"1\" class=\"dataframe\">\n  <thead>\n    <tr style=\"text-align: right;\">\n      <th></th>\n      <th>key</th>\n      <th>Средняя полная мощность</th>\n    </tr>\n  </thead>\n  <tbody>\n    <tr>\n      <th>0</th>\n      <td>1</td>\n      <td>1.165279</td>\n    </tr>\n    <tr>\n      <th>1</th>\n      <td>2</td>\n      <td>0.912304</td>\n    </tr>\n    <tr>\n      <th>2</th>\n      <td>3</td>\n      <td>0.597907</td>\n    </tr>\n    <tr>\n      <th>3</th>\n      <td>4</td>\n      <td>0.953741</td>\n    </tr>\n    <tr>\n      <th>4</th>\n      <td>5</td>\n      <td>1.008939</td>\n    </tr>\n    <tr>\n      <th>...</th>\n      <td>...</td>\n      <td>...</td>\n    </tr>\n    <tr>\n      <th>3209</th>\n      <td>3237</td>\n      <td>0.968996</td>\n    </tr>\n    <tr>\n      <th>3210</th>\n      <td>3238</td>\n      <td>0.898847</td>\n    </tr>\n    <tr>\n      <th>3211</th>\n      <td>3239</td>\n      <td>0.701485</td>\n    </tr>\n    <tr>\n      <th>3212</th>\n      <td>3240</td>\n      <td>0.778371</td>\n    </tr>\n    <tr>\n      <th>3213</th>\n      <td>3241</td>\n      <td>0.599903</td>\n    </tr>\n  </tbody>\n</table>\n<p>3214 rows × 2 columns</p>\n</div>"
     },
     "execution_count": 24,
     "metadata": {},
     "output_type": "execute_result"
    }
   ],
   "source": [
    "full_power = data_arc.groupby('key')['Полная мощность'].mean().reset_index()\n",
    "full_power.columns = ['key', 'Средняя полная мощность']\n",
    "full_power"
   ]
  },
  {
   "cell_type": "markdown",
   "metadata": {},
   "source": [
    "**Суммарное время нагрева электродами, то есть сумму значений по всем промежуткам между запусками нагрева электродов.**"
   ]
  },
  {
   "cell_type": "code",
   "execution_count": 25,
   "metadata": {},
   "outputs": [],
   "source": [
    "data_arc['Время нагрева'] = data_arc['Конец нагрева дугой'] - data_arc['Начало нагрева дугой']"
   ]
  },
  {
   "cell_type": "code",
   "execution_count": 26,
   "metadata": {},
   "outputs": [
    {
     "data": {
      "text/plain": "       key Суммарное время нагрева электродами\n0        1                     0 days 00:18:18\n1        2                     0 days 00:13:31\n2        3                     0 days 00:10:55\n3        4                     0 days 00:12:21\n4        5                     0 days 00:14:29\n...    ...                                 ...\n3209  3237                     0 days 00:15:09\n3210  3238                     0 days 00:09:06\n3211  3239                     0 days 00:20:16\n3212  3240                     0 days 00:13:59\n3213  3241                     0 days 00:10:59\n\n[3214 rows x 2 columns]",
      "text/html": "<div>\n<style scoped>\n    .dataframe tbody tr th:only-of-type {\n        vertical-align: middle;\n    }\n\n    .dataframe tbody tr th {\n        vertical-align: top;\n    }\n\n    .dataframe thead th {\n        text-align: right;\n    }\n</style>\n<table border=\"1\" class=\"dataframe\">\n  <thead>\n    <tr style=\"text-align: right;\">\n      <th></th>\n      <th>key</th>\n      <th>Суммарное время нагрева электродами</th>\n    </tr>\n  </thead>\n  <tbody>\n    <tr>\n      <th>0</th>\n      <td>1</td>\n      <td>0 days 00:18:18</td>\n    </tr>\n    <tr>\n      <th>1</th>\n      <td>2</td>\n      <td>0 days 00:13:31</td>\n    </tr>\n    <tr>\n      <th>2</th>\n      <td>3</td>\n      <td>0 days 00:10:55</td>\n    </tr>\n    <tr>\n      <th>3</th>\n      <td>4</td>\n      <td>0 days 00:12:21</td>\n    </tr>\n    <tr>\n      <th>4</th>\n      <td>5</td>\n      <td>0 days 00:14:29</td>\n    </tr>\n    <tr>\n      <th>...</th>\n      <td>...</td>\n      <td>...</td>\n    </tr>\n    <tr>\n      <th>3209</th>\n      <td>3237</td>\n      <td>0 days 00:15:09</td>\n    </tr>\n    <tr>\n      <th>3210</th>\n      <td>3238</td>\n      <td>0 days 00:09:06</td>\n    </tr>\n    <tr>\n      <th>3211</th>\n      <td>3239</td>\n      <td>0 days 00:20:16</td>\n    </tr>\n    <tr>\n      <th>3212</th>\n      <td>3240</td>\n      <td>0 days 00:13:59</td>\n    </tr>\n    <tr>\n      <th>3213</th>\n      <td>3241</td>\n      <td>0 days 00:10:59</td>\n    </tr>\n  </tbody>\n</table>\n<p>3214 rows × 2 columns</p>\n</div>"
     },
     "execution_count": 26,
     "metadata": {},
     "output_type": "execute_result"
    }
   ],
   "source": [
    "time_per_key = data_arc.groupby('key')['Время нагрева'].sum().reset_index()\n",
    "time_per_key.columns = ['key','Суммарное время нагрева электродами']\n",
    "time_per_key"
   ]
  },
  {
   "cell_type": "markdown",
   "metadata": {},
   "source": [
    "**Количество запусков нагрева электродами.** "
   ]
  },
  {
   "cell_type": "code",
   "execution_count": 27,
   "metadata": {},
   "outputs": [
    {
     "data": {
      "text/plain": "       key  Количество запусков нагрева\n0        1                            5\n1        2                            4\n2        3                            5\n3        4                            4\n4        5                            4\n...    ...                          ...\n3209  3237                            5\n3210  3238                            3\n3211  3239                            8\n3212  3240                            5\n3213  3241                            5\n\n[3214 rows x 2 columns]",
      "text/html": "<div>\n<style scoped>\n    .dataframe tbody tr th:only-of-type {\n        vertical-align: middle;\n    }\n\n    .dataframe tbody tr th {\n        vertical-align: top;\n    }\n\n    .dataframe thead th {\n        text-align: right;\n    }\n</style>\n<table border=\"1\" class=\"dataframe\">\n  <thead>\n    <tr style=\"text-align: right;\">\n      <th></th>\n      <th>key</th>\n      <th>Количество запусков нагрева</th>\n    </tr>\n  </thead>\n  <tbody>\n    <tr>\n      <th>0</th>\n      <td>1</td>\n      <td>5</td>\n    </tr>\n    <tr>\n      <th>1</th>\n      <td>2</td>\n      <td>4</td>\n    </tr>\n    <tr>\n      <th>2</th>\n      <td>3</td>\n      <td>5</td>\n    </tr>\n    <tr>\n      <th>3</th>\n      <td>4</td>\n      <td>4</td>\n    </tr>\n    <tr>\n      <th>4</th>\n      <td>5</td>\n      <td>4</td>\n    </tr>\n    <tr>\n      <th>...</th>\n      <td>...</td>\n      <td>...</td>\n    </tr>\n    <tr>\n      <th>3209</th>\n      <td>3237</td>\n      <td>5</td>\n    </tr>\n    <tr>\n      <th>3210</th>\n      <td>3238</td>\n      <td>3</td>\n    </tr>\n    <tr>\n      <th>3211</th>\n      <td>3239</td>\n      <td>8</td>\n    </tr>\n    <tr>\n      <th>3212</th>\n      <td>3240</td>\n      <td>5</td>\n    </tr>\n    <tr>\n      <th>3213</th>\n      <td>3241</td>\n      <td>5</td>\n    </tr>\n  </tbody>\n</table>\n<p>3214 rows × 2 columns</p>\n</div>"
     },
     "execution_count": 27,
     "metadata": {},
     "output_type": "execute_result"
    }
   ],
   "source": [
    "arc_count = data_arc.groupby('key')['Время нагрева'].count().reset_index()\n",
    "arc_count.columns = ['key','Количество запусков нагрева']\n",
    "arc_count"
   ]
  },
  {
   "cell_type": "markdown",
   "metadata": {},
   "source": [
    "### Данные о подаче сыпучих материалов"
   ]
  },
  {
   "cell_type": "markdown",
   "metadata": {},
   "source": [
    "Поскольку перед нами не стоит задача о поиске какой-либо зависимости от состава материала, а некоторые сыпучие материалы добавляются крайней редко(<300), то мы объеденим таковые в `Bulk_other`."
   ]
  },
  {
   "cell_type": "code",
   "execution_count": 28,
   "metadata": {},
   "outputs": [
    {
     "name": "stdout",
     "output_type": "stream",
     "text": [
      "<class 'pandas.core.frame.DataFrame'>\n",
      "RangeIndex: 3129 entries, 0 to 3128\n",
      "Data columns (total 16 columns):\n",
      " #   Column   Non-Null Count  Dtype  \n",
      "---  ------   --------------  -----  \n",
      " 0   key      3129 non-null   int64  \n",
      " 1   Bulk 1   252 non-null    float64\n",
      " 2   Bulk 2   22 non-null     float64\n",
      " 3   Bulk 3   1298 non-null   float64\n",
      " 4   Bulk 4   1014 non-null   float64\n",
      " 5   Bulk 5   77 non-null     float64\n",
      " 6   Bulk 6   576 non-null    float64\n",
      " 7   Bulk 7   25 non-null     float64\n",
      " 8   Bulk 8   1 non-null      float64\n",
      " 9   Bulk 9   19 non-null     float64\n",
      " 10  Bulk 10  176 non-null    float64\n",
      " 11  Bulk 11  177 non-null    float64\n",
      " 12  Bulk 12  2450 non-null   float64\n",
      " 13  Bulk 13  18 non-null     float64\n",
      " 14  Bulk 14  2806 non-null   float64\n",
      " 15  Bulk 15  2248 non-null   float64\n",
      "dtypes: float64(15), int64(1)\n",
      "memory usage: 391.2 KB\n"
     ]
    }
   ],
   "source": [
    "data_bulk.info()"
   ]
  },
  {
   "cell_type": "code",
   "execution_count": 29,
   "metadata": {},
   "outputs": [],
   "source": [
    "bulks_for_sum = ['Bulk 1', 'Bulk 2', 'Bulk 5', 'Bulk 7', 'Bulk 8', 'Bulk 9', 'Bulk 10', 'Bulk 11', 'Bulk 13']\n",
    "data_bulk['Bulk_other'] = data_bulk[bulks_for_sum].sum(axis=1)\n",
    "data_bulk.drop(bulks_for_sum, axis=1, inplace=True)"
   ]
  },
  {
   "cell_type": "markdown",
   "metadata": {},
   "source": [
    "Пропуски в объеме совпадают с пропусками по времени, логично предположить, что добавления сыпучих материалов не происходило в случае отсутствия значения. Заменим все пропуски на 0."
   ]
  },
  {
   "cell_type": "code",
   "execution_count": 30,
   "metadata": {},
   "outputs": [],
   "source": [
    "data_bulk.fillna(0,inplace=True)"
   ]
  },
  {
   "cell_type": "markdown",
   "metadata": {},
   "source": [
    "### Результаты измерения температуры"
   ]
  },
  {
   "cell_type": "code",
   "execution_count": 31,
   "metadata": {},
   "outputs": [
    {
     "name": "stdout",
     "output_type": "stream",
     "text": [
      "<class 'pandas.core.frame.DataFrame'>\n",
      "RangeIndex: 15907 entries, 0 to 15906\n",
      "Data columns (total 3 columns):\n",
      " #   Column        Non-Null Count  Dtype         \n",
      "---  ------        --------------  -----         \n",
      " 0   key           15907 non-null  int64         \n",
      " 1   Время замера  15907 non-null  datetime64[ns]\n",
      " 2   Температура   13006 non-null  float64       \n",
      "dtypes: datetime64[ns](1), float64(1), int64(1)\n",
      "memory usage: 372.9 KB\n"
     ]
    }
   ],
   "source": [
    "data_temp.info()"
   ]
  },
  {
   "cell_type": "markdown",
   "metadata": {},
   "source": [
    "Узнаем первую и последнюю температуры при замерах."
   ]
  },
  {
   "cell_type": "code",
   "execution_count": 32,
   "metadata": {},
   "outputs": [
    {
     "data": {
      "text/plain": "   key        Время замера Время первого замера  Начальная температура  \\\n0    1 2019-05-03 11:30:39  2019-05-03 11:16:18                 1571.0   \n1    2 2019-05-03 11:59:12  2019-05-03 11:37:27                 1577.0   \n2    3 2019-05-03 12:34:57  2019-05-03 12:13:17                 1596.0   \n3    4 2019-05-03 12:59:25  2019-05-03 12:52:57                 1601.0   \n4    5 2019-05-03 13:36:01  2019-05-03 13:23:19                 1576.0   \n\n   Температура  \n0       1613.0  \n1       1602.0  \n2       1599.0  \n3       1625.0  \n4       1602.0  ",
      "text/html": "<div>\n<style scoped>\n    .dataframe tbody tr th:only-of-type {\n        vertical-align: middle;\n    }\n\n    .dataframe tbody tr th {\n        vertical-align: top;\n    }\n\n    .dataframe thead th {\n        text-align: right;\n    }\n</style>\n<table border=\"1\" class=\"dataframe\">\n  <thead>\n    <tr style=\"text-align: right;\">\n      <th></th>\n      <th>key</th>\n      <th>Время замера</th>\n      <th>Время первого замера</th>\n      <th>Начальная температура</th>\n      <th>Температура</th>\n    </tr>\n  </thead>\n  <tbody>\n    <tr>\n      <th>0</th>\n      <td>1</td>\n      <td>2019-05-03 11:30:39</td>\n      <td>2019-05-03 11:16:18</td>\n      <td>1571.0</td>\n      <td>1613.0</td>\n    </tr>\n    <tr>\n      <th>1</th>\n      <td>2</td>\n      <td>2019-05-03 11:59:12</td>\n      <td>2019-05-03 11:37:27</td>\n      <td>1577.0</td>\n      <td>1602.0</td>\n    </tr>\n    <tr>\n      <th>2</th>\n      <td>3</td>\n      <td>2019-05-03 12:34:57</td>\n      <td>2019-05-03 12:13:17</td>\n      <td>1596.0</td>\n      <td>1599.0</td>\n    </tr>\n    <tr>\n      <th>3</th>\n      <td>4</td>\n      <td>2019-05-03 12:59:25</td>\n      <td>2019-05-03 12:52:57</td>\n      <td>1601.0</td>\n      <td>1625.0</td>\n    </tr>\n    <tr>\n      <th>4</th>\n      <td>5</td>\n      <td>2019-05-03 13:36:01</td>\n      <td>2019-05-03 13:23:19</td>\n      <td>1576.0</td>\n      <td>1602.0</td>\n    </tr>\n  </tbody>\n</table>\n</div>"
     },
     "execution_count": 32,
     "metadata": {},
     "output_type": "execute_result"
    }
   ],
   "source": [
    "data_temp_pivot = data_temp.pivot_table(index='key', aggfunc=['max','min']).reset_index()\n",
    "data_temp_pivot.columns = ['key','Время замера','Итоговая температура','Время первого замера','Начальная температура']\n",
    "# Удаляем столбец 'Итоговая температура', т.к. данные по последнему\n",
    "# замеру не соответствуют своему времени если есть пропуски\n",
    "data_temp_pivot.drop(columns=['Итоговая температура'], inplace=True)\n",
    "data_temp_pivot = data_temp_pivot.merge(data_temp, on=['key', 'Время замера'], how='left')\n",
    "data_temp_pivot.head()"
   ]
  },
  {
   "cell_type": "code",
   "execution_count": 33,
   "metadata": {},
   "outputs": [],
   "source": [
    "data_temp_pivot.columns = ['key', 'Время последнего замера',\n",
    "       'Время первого замера', 'Начальная температура',\n",
    "       'Итоговая температура']"
   ]
  },
  {
   "cell_type": "code",
   "execution_count": 34,
   "metadata": {},
   "outputs": [
    {
     "name": "stdout",
     "output_type": "stream",
     "text": [
      "<class 'pandas.core.frame.DataFrame'>\n",
      "Int64Index: 3216 entries, 0 to 3215\n",
      "Data columns (total 5 columns):\n",
      " #   Column                   Non-Null Count  Dtype         \n",
      "---  ------                   --------------  -----         \n",
      " 0   key                      3216 non-null   int64         \n",
      " 1   Время последнего замера  3216 non-null   datetime64[ns]\n",
      " 2   Время первого замера     3216 non-null   datetime64[ns]\n",
      " 3   Начальная температура    3216 non-null   float64       \n",
      " 4   Итоговая температура     2477 non-null   float64       \n",
      "dtypes: datetime64[ns](2), float64(2), int64(1)\n",
      "memory usage: 150.8 KB\n"
     ]
    }
   ],
   "source": [
    "data_temp_pivot.info()"
   ]
  },
  {
   "cell_type": "markdown",
   "metadata": {},
   "source": [
    "Поскольку температура является для нас целевым признаком, то мы никак не можем заполнить пропуски. Просто удаляем те записи в которые температура не замерялась."
   ]
  },
  {
   "cell_type": "code",
   "execution_count": 35,
   "metadata": {},
   "outputs": [],
   "source": [
    "data_temp_pivot.dropna(subset=['Итоговая температура'], inplace=True)"
   ]
  },
  {
   "cell_type": "markdown",
   "metadata": {},
   "source": [
    "**Длительность времени между первым и последним замером температуры**"
   ]
  },
  {
   "cell_type": "code",
   "execution_count": 36,
   "metadata": {},
   "outputs": [],
   "source": [
    "data_temp_pivot['Время между замерами'] = data_temp_pivot['Время последнего замера'] - data_temp_pivot['Время первого замера']"
   ]
  },
  {
   "cell_type": "markdown",
   "metadata": {},
   "source": [
    "### Данные о проволочных материалах"
   ]
  },
  {
   "cell_type": "markdown",
   "metadata": {},
   "source": [
    "По аналогии с данными о подаче сыпучих материалов оставим лишь наиболее часто используемые столбцы, а остальные сгруппируем."
   ]
  },
  {
   "cell_type": "code",
   "execution_count": 37,
   "metadata": {},
   "outputs": [
    {
     "name": "stdout",
     "output_type": "stream",
     "text": [
      "<class 'pandas.core.frame.DataFrame'>\n",
      "RangeIndex: 3081 entries, 0 to 3080\n",
      "Data columns (total 10 columns):\n",
      " #   Column  Non-Null Count  Dtype  \n",
      "---  ------  --------------  -----  \n",
      " 0   key     3081 non-null   int64  \n",
      " 1   Wire 1  3055 non-null   float64\n",
      " 2   Wire 2  1079 non-null   float64\n",
      " 3   Wire 3  63 non-null     float64\n",
      " 4   Wire 4  14 non-null     float64\n",
      " 5   Wire 5  1 non-null      float64\n",
      " 6   Wire 6  73 non-null     float64\n",
      " 7   Wire 7  11 non-null     float64\n",
      " 8   Wire 8  19 non-null     float64\n",
      " 9   Wire 9  29 non-null     float64\n",
      "dtypes: float64(9), int64(1)\n",
      "memory usage: 240.8 KB\n"
     ]
    }
   ],
   "source": [
    "data_wire.info()"
   ]
  },
  {
   "cell_type": "code",
   "execution_count": 38,
   "metadata": {},
   "outputs": [],
   "source": [
    "wires_for_sum = ['Wire 3', 'Wire 4', 'Wire 5', 'Wire 6', 'Wire 7', 'Wire 8', 'Wire 9']\n",
    "data_wire['Wire_other'] = data_wire[wires_for_sum].sum(axis=1)\n",
    "data_wire.drop(wires_for_sum, axis=1, inplace=True)"
   ]
  },
  {
   "cell_type": "code",
   "execution_count": 39,
   "metadata": {},
   "outputs": [],
   "source": [
    "data_wire.fillna(0,inplace=True)"
   ]
  },
  {
   "cell_type": "markdown",
   "metadata": {},
   "source": [
    "### Общая таблица данных"
   ]
  },
  {
   "cell_type": "markdown",
   "metadata": {},
   "source": [
    "Соединим все полученные данные."
   ]
  },
  {
   "cell_type": "code",
   "execution_count": 40,
   "metadata": {},
   "outputs": [],
   "source": [
    "data_final = time_per_key.merge(arc_count, on='key')\n",
    "data_final = data_final.merge(full_power, on ='key')"
   ]
  },
  {
   "cell_type": "code",
   "execution_count": 41,
   "metadata": {},
   "outputs": [
    {
     "data": {
      "text/plain": "               key Суммарное время нагрева электродами  \\\ncount  3214.000000                                3214   \nmean   1623.061294           0 days 00:13:14.545115121   \nstd     934.739859           0 days 00:05:32.491076408   \nmin       1.000000                     0 days 00:00:57   \n25%     817.250000                     0 days 00:09:31   \n50%    1623.500000                     0 days 00:12:50   \n75%    2431.750000                     0 days 00:16:23   \nmax    3241.000000                     0 days 01:09:49   \n\n       Количество запусков нагрева  Средняя полная мощность  \ncount                  3214.000000              3214.000000  \nmean                      4.628189                 0.839603  \nstd                       1.608866                 0.254801  \nmin                       1.000000                 0.228541  \n25%                       4.000000                 0.651715  \n50%                       4.000000                 0.816478  \n75%                       6.000000                 0.996717  \nmax                      16.000000                 2.147979  ",
      "text/html": "<div>\n<style scoped>\n    .dataframe tbody tr th:only-of-type {\n        vertical-align: middle;\n    }\n\n    .dataframe tbody tr th {\n        vertical-align: top;\n    }\n\n    .dataframe thead th {\n        text-align: right;\n    }\n</style>\n<table border=\"1\" class=\"dataframe\">\n  <thead>\n    <tr style=\"text-align: right;\">\n      <th></th>\n      <th>key</th>\n      <th>Суммарное время нагрева электродами</th>\n      <th>Количество запусков нагрева</th>\n      <th>Средняя полная мощность</th>\n    </tr>\n  </thead>\n  <tbody>\n    <tr>\n      <th>count</th>\n      <td>3214.000000</td>\n      <td>3214</td>\n      <td>3214.000000</td>\n      <td>3214.000000</td>\n    </tr>\n    <tr>\n      <th>mean</th>\n      <td>1623.061294</td>\n      <td>0 days 00:13:14.545115121</td>\n      <td>4.628189</td>\n      <td>0.839603</td>\n    </tr>\n    <tr>\n      <th>std</th>\n      <td>934.739859</td>\n      <td>0 days 00:05:32.491076408</td>\n      <td>1.608866</td>\n      <td>0.254801</td>\n    </tr>\n    <tr>\n      <th>min</th>\n      <td>1.000000</td>\n      <td>0 days 00:00:57</td>\n      <td>1.000000</td>\n      <td>0.228541</td>\n    </tr>\n    <tr>\n      <th>25%</th>\n      <td>817.250000</td>\n      <td>0 days 00:09:31</td>\n      <td>4.000000</td>\n      <td>0.651715</td>\n    </tr>\n    <tr>\n      <th>50%</th>\n      <td>1623.500000</td>\n      <td>0 days 00:12:50</td>\n      <td>4.000000</td>\n      <td>0.816478</td>\n    </tr>\n    <tr>\n      <th>75%</th>\n      <td>2431.750000</td>\n      <td>0 days 00:16:23</td>\n      <td>6.000000</td>\n      <td>0.996717</td>\n    </tr>\n    <tr>\n      <th>max</th>\n      <td>3241.000000</td>\n      <td>0 days 01:09:49</td>\n      <td>16.000000</td>\n      <td>2.147979</td>\n    </tr>\n  </tbody>\n</table>\n</div>"
     },
     "execution_count": 41,
     "metadata": {},
     "output_type": "execute_result"
    }
   ],
   "source": [
    "data_final.describe()"
   ]
  },
  {
   "cell_type": "code",
   "execution_count": 42,
   "metadata": {},
   "outputs": [],
   "source": [
    "data_final = data_temp_pivot.merge(data_final, on='key', how='left')"
   ]
  },
  {
   "cell_type": "code",
   "execution_count": 43,
   "metadata": {},
   "outputs": [],
   "source": [
    "data_final = data_final.merge(data_bulk, on ='key', how='left')"
   ]
  },
  {
   "cell_type": "code",
   "execution_count": 44,
   "metadata": {},
   "outputs": [],
   "source": [
    "data_final = data_final.merge(data_wire, on='key', how='left')"
   ]
  },
  {
   "cell_type": "code",
   "execution_count": 45,
   "metadata": {},
   "outputs": [],
   "source": [
    "data_final = data_final.merge(data_gas, on='key', how='left')"
   ]
  },
  {
   "cell_type": "markdown",
   "metadata": {},
   "source": [
    "Посмотрим на полученную финальную таблицу."
   ]
  },
  {
   "cell_type": "code",
   "execution_count": 46,
   "metadata": {},
   "outputs": [
    {
     "name": "stdout",
     "output_type": "stream",
     "text": [
      "<class 'pandas.core.frame.DataFrame'>\n",
      "Int64Index: 2477 entries, 0 to 2476\n",
      "Data columns (total 20 columns):\n",
      " #   Column                               Non-Null Count  Dtype          \n",
      "---  ------                               --------------  -----          \n",
      " 0   key                                  2477 non-null   int64          \n",
      " 1   Время последнего замера              2477 non-null   datetime64[ns] \n",
      " 2   Время первого замера                 2477 non-null   datetime64[ns] \n",
      " 3   Начальная температура                2477 non-null   float64        \n",
      " 4   Итоговая температура                 2477 non-null   float64        \n",
      " 5   Время между замерами                 2477 non-null   timedelta64[ns]\n",
      " 6   Суммарное время нагрева электродами  2475 non-null   timedelta64[ns]\n",
      " 7   Количество запусков нагрева          2475 non-null   float64        \n",
      " 8   Средняя полная мощность              2475 non-null   float64        \n",
      " 9   Bulk 3                               2408 non-null   float64        \n",
      " 10  Bulk 4                               2408 non-null   float64        \n",
      " 11  Bulk 6                               2408 non-null   float64        \n",
      " 12  Bulk 12                              2408 non-null   float64        \n",
      " 13  Bulk 14                              2408 non-null   float64        \n",
      " 14  Bulk 15                              2408 non-null   float64        \n",
      " 15  Bulk_other                           2408 non-null   float64        \n",
      " 16  Wire 1                               2373 non-null   float64        \n",
      " 17  Wire 2                               2373 non-null   float64        \n",
      " 18  Wire_other                           2373 non-null   float64        \n",
      " 19  Газ 1                                2475 non-null   float64        \n",
      "dtypes: datetime64[ns](2), float64(15), int64(1), timedelta64[ns](2)\n",
      "memory usage: 406.4 KB\n"
     ]
    }
   ],
   "source": [
    "data_final.info()"
   ]
  },
  {
   "cell_type": "markdown",
   "metadata": {},
   "source": [
    "Удалим записи содержащие NaN значения."
   ]
  },
  {
   "cell_type": "code",
   "execution_count": 47,
   "metadata": {},
   "outputs": [],
   "source": [
    "data_final.dropna(inplace=True)"
   ]
  },
  {
   "cell_type": "code",
   "execution_count": 48,
   "metadata": {},
   "outputs": [
    {
     "data": {
      "text/plain": "   key Время последнего замера Время первого замера  Начальная температура  \\\n0    1     2019-05-03 11:30:39  2019-05-03 11:16:18                 1571.0   \n1    2     2019-05-03 11:59:12  2019-05-03 11:37:27                 1577.0   \n2    3     2019-05-03 12:34:57  2019-05-03 12:13:17                 1596.0   \n3    4     2019-05-03 12:59:25  2019-05-03 12:52:57                 1601.0   \n4    5     2019-05-03 13:36:01  2019-05-03 13:23:19                 1576.0   \n\n   Итоговая температура Время между замерами  \\\n0                1613.0      0 days 00:14:21   \n1                1602.0      0 days 00:21:45   \n2                1599.0      0 days 00:21:40   \n3                1625.0      0 days 00:06:28   \n4                1602.0      0 days 00:12:42   \n\n  Суммарное время нагрева электродами  Количество запусков нагрева  \\\n0                     0 days 00:18:18                          5.0   \n1                     0 days 00:13:31                          4.0   \n2                     0 days 00:10:55                          5.0   \n3                     0 days 00:12:21                          4.0   \n4                     0 days 00:14:29                          4.0   \n\n   Средняя полная мощность  Bulk 3  Bulk 4  Bulk 6  Bulk 12  Bulk 14  Bulk 15  \\\n0                 1.165279     0.0    43.0     0.0    206.0    150.0    154.0   \n1                 0.912304     0.0    73.0     0.0    206.0    149.0    154.0   \n2                 0.597907     0.0    34.0     0.0    205.0    152.0    153.0   \n3                 0.953741     0.0    81.0     0.0    207.0    153.0    154.0   \n4                 1.008939     0.0    78.0     0.0    203.0    151.0    152.0   \n\n   Bulk_other     Wire 1   Wire 2  Wire_other      Газ 1  \n0         0.0  60.059998  0.00000         0.0  29.749986  \n1         0.0  96.052315  0.00000         0.0  12.555561  \n2         0.0  91.160157  0.00000         0.0  28.554793  \n3         0.0  89.063515  0.00000         0.0  18.841219  \n4         0.0  89.238236  9.11456         0.0   5.413692  ",
      "text/html": "<div>\n<style scoped>\n    .dataframe tbody tr th:only-of-type {\n        vertical-align: middle;\n    }\n\n    .dataframe tbody tr th {\n        vertical-align: top;\n    }\n\n    .dataframe thead th {\n        text-align: right;\n    }\n</style>\n<table border=\"1\" class=\"dataframe\">\n  <thead>\n    <tr style=\"text-align: right;\">\n      <th></th>\n      <th>key</th>\n      <th>Время последнего замера</th>\n      <th>Время первого замера</th>\n      <th>Начальная температура</th>\n      <th>Итоговая температура</th>\n      <th>Время между замерами</th>\n      <th>Суммарное время нагрева электродами</th>\n      <th>Количество запусков нагрева</th>\n      <th>Средняя полная мощность</th>\n      <th>Bulk 3</th>\n      <th>Bulk 4</th>\n      <th>Bulk 6</th>\n      <th>Bulk 12</th>\n      <th>Bulk 14</th>\n      <th>Bulk 15</th>\n      <th>Bulk_other</th>\n      <th>Wire 1</th>\n      <th>Wire 2</th>\n      <th>Wire_other</th>\n      <th>Газ 1</th>\n    </tr>\n  </thead>\n  <tbody>\n    <tr>\n      <th>0</th>\n      <td>1</td>\n      <td>2019-05-03 11:30:39</td>\n      <td>2019-05-03 11:16:18</td>\n      <td>1571.0</td>\n      <td>1613.0</td>\n      <td>0 days 00:14:21</td>\n      <td>0 days 00:18:18</td>\n      <td>5.0</td>\n      <td>1.165279</td>\n      <td>0.0</td>\n      <td>43.0</td>\n      <td>0.0</td>\n      <td>206.0</td>\n      <td>150.0</td>\n      <td>154.0</td>\n      <td>0.0</td>\n      <td>60.059998</td>\n      <td>0.00000</td>\n      <td>0.0</td>\n      <td>29.749986</td>\n    </tr>\n    <tr>\n      <th>1</th>\n      <td>2</td>\n      <td>2019-05-03 11:59:12</td>\n      <td>2019-05-03 11:37:27</td>\n      <td>1577.0</td>\n      <td>1602.0</td>\n      <td>0 days 00:21:45</td>\n      <td>0 days 00:13:31</td>\n      <td>4.0</td>\n      <td>0.912304</td>\n      <td>0.0</td>\n      <td>73.0</td>\n      <td>0.0</td>\n      <td>206.0</td>\n      <td>149.0</td>\n      <td>154.0</td>\n      <td>0.0</td>\n      <td>96.052315</td>\n      <td>0.00000</td>\n      <td>0.0</td>\n      <td>12.555561</td>\n    </tr>\n    <tr>\n      <th>2</th>\n      <td>3</td>\n      <td>2019-05-03 12:34:57</td>\n      <td>2019-05-03 12:13:17</td>\n      <td>1596.0</td>\n      <td>1599.0</td>\n      <td>0 days 00:21:40</td>\n      <td>0 days 00:10:55</td>\n      <td>5.0</td>\n      <td>0.597907</td>\n      <td>0.0</td>\n      <td>34.0</td>\n      <td>0.0</td>\n      <td>205.0</td>\n      <td>152.0</td>\n      <td>153.0</td>\n      <td>0.0</td>\n      <td>91.160157</td>\n      <td>0.00000</td>\n      <td>0.0</td>\n      <td>28.554793</td>\n    </tr>\n    <tr>\n      <th>3</th>\n      <td>4</td>\n      <td>2019-05-03 12:59:25</td>\n      <td>2019-05-03 12:52:57</td>\n      <td>1601.0</td>\n      <td>1625.0</td>\n      <td>0 days 00:06:28</td>\n      <td>0 days 00:12:21</td>\n      <td>4.0</td>\n      <td>0.953741</td>\n      <td>0.0</td>\n      <td>81.0</td>\n      <td>0.0</td>\n      <td>207.0</td>\n      <td>153.0</td>\n      <td>154.0</td>\n      <td>0.0</td>\n      <td>89.063515</td>\n      <td>0.00000</td>\n      <td>0.0</td>\n      <td>18.841219</td>\n    </tr>\n    <tr>\n      <th>4</th>\n      <td>5</td>\n      <td>2019-05-03 13:36:01</td>\n      <td>2019-05-03 13:23:19</td>\n      <td>1576.0</td>\n      <td>1602.0</td>\n      <td>0 days 00:12:42</td>\n      <td>0 days 00:14:29</td>\n      <td>4.0</td>\n      <td>1.008939</td>\n      <td>0.0</td>\n      <td>78.0</td>\n      <td>0.0</td>\n      <td>203.0</td>\n      <td>151.0</td>\n      <td>152.0</td>\n      <td>0.0</td>\n      <td>89.238236</td>\n      <td>9.11456</td>\n      <td>0.0</td>\n      <td>5.413692</td>\n    </tr>\n  </tbody>\n</table>\n</div>"
     },
     "execution_count": 48,
     "metadata": {},
     "output_type": "execute_result"
    }
   ],
   "source": [
    "data_final.head()"
   ]
  },
  {
   "cell_type": "markdown",
   "metadata": {},
   "source": [
    "Нам также необходимо перевести `время между замерами` и `суммарное время нагрева электродами` в секунды для удобства работы с ним и удалить признаки `Время последнего замера` и `Время первого замера`."
   ]
  },
  {
   "cell_type": "code",
   "execution_count": 49,
   "metadata": {},
   "outputs": [],
   "source": [
    "data_final['Суммарное время нагрева в секундах'] = data_final['Суммарное время нагрева электродами'].dt.total_seconds()\n",
    "data_final['Время между замерами в секундах'] = data_final['Время между замерами'].dt.total_seconds()"
   ]
  },
  {
   "cell_type": "code",
   "execution_count": 50,
   "metadata": {},
   "outputs": [],
   "source": [
    "data_final.drop(['Время последнего замера', 'Время первого замера', 'Время между замерами', 'Суммарное время нагрева электродами'], axis=1, inplace=True)"
   ]
  },
  {
   "cell_type": "markdown",
   "metadata": {},
   "source": [
    "**Итоговая таблица**"
   ]
  },
  {
   "cell_type": "code",
   "execution_count": 51,
   "metadata": {},
   "outputs": [
    {
     "data": {
      "text/plain": "   key  Начальная температура  Итоговая температура  \\\n0    1                 1571.0                1613.0   \n1    2                 1577.0                1602.0   \n2    3                 1596.0                1599.0   \n3    4                 1601.0                1625.0   \n4    5                 1576.0                1602.0   \n\n   Количество запусков нагрева  Средняя полная мощность  Bulk 3  Bulk 4  \\\n0                          5.0                 1.165279     0.0    43.0   \n1                          4.0                 0.912304     0.0    73.0   \n2                          5.0                 0.597907     0.0    34.0   \n3                          4.0                 0.953741     0.0    81.0   \n4                          4.0                 1.008939     0.0    78.0   \n\n   Bulk 6  Bulk 12  Bulk 14  Bulk 15  Bulk_other     Wire 1   Wire 2  \\\n0     0.0    206.0    150.0    154.0         0.0  60.059998  0.00000   \n1     0.0    206.0    149.0    154.0         0.0  96.052315  0.00000   \n2     0.0    205.0    152.0    153.0         0.0  91.160157  0.00000   \n3     0.0    207.0    153.0    154.0         0.0  89.063515  0.00000   \n4     0.0    203.0    151.0    152.0         0.0  89.238236  9.11456   \n\n   Wire_other      Газ 1  Суммарное время нагрева в секундах  \\\n0         0.0  29.749986                              1098.0   \n1         0.0  12.555561                               811.0   \n2         0.0  28.554793                               655.0   \n3         0.0  18.841219                               741.0   \n4         0.0   5.413692                               869.0   \n\n   Время между замерами в секундах  \n0                            861.0  \n1                           1305.0  \n2                           1300.0  \n3                            388.0  \n4                            762.0  ",
      "text/html": "<div>\n<style scoped>\n    .dataframe tbody tr th:only-of-type {\n        vertical-align: middle;\n    }\n\n    .dataframe tbody tr th {\n        vertical-align: top;\n    }\n\n    .dataframe thead th {\n        text-align: right;\n    }\n</style>\n<table border=\"1\" class=\"dataframe\">\n  <thead>\n    <tr style=\"text-align: right;\">\n      <th></th>\n      <th>key</th>\n      <th>Начальная температура</th>\n      <th>Итоговая температура</th>\n      <th>Количество запусков нагрева</th>\n      <th>Средняя полная мощность</th>\n      <th>Bulk 3</th>\n      <th>Bulk 4</th>\n      <th>Bulk 6</th>\n      <th>Bulk 12</th>\n      <th>Bulk 14</th>\n      <th>Bulk 15</th>\n      <th>Bulk_other</th>\n      <th>Wire 1</th>\n      <th>Wire 2</th>\n      <th>Wire_other</th>\n      <th>Газ 1</th>\n      <th>Суммарное время нагрева в секундах</th>\n      <th>Время между замерами в секундах</th>\n    </tr>\n  </thead>\n  <tbody>\n    <tr>\n      <th>0</th>\n      <td>1</td>\n      <td>1571.0</td>\n      <td>1613.0</td>\n      <td>5.0</td>\n      <td>1.165279</td>\n      <td>0.0</td>\n      <td>43.0</td>\n      <td>0.0</td>\n      <td>206.0</td>\n      <td>150.0</td>\n      <td>154.0</td>\n      <td>0.0</td>\n      <td>60.059998</td>\n      <td>0.00000</td>\n      <td>0.0</td>\n      <td>29.749986</td>\n      <td>1098.0</td>\n      <td>861.0</td>\n    </tr>\n    <tr>\n      <th>1</th>\n      <td>2</td>\n      <td>1577.0</td>\n      <td>1602.0</td>\n      <td>4.0</td>\n      <td>0.912304</td>\n      <td>0.0</td>\n      <td>73.0</td>\n      <td>0.0</td>\n      <td>206.0</td>\n      <td>149.0</td>\n      <td>154.0</td>\n      <td>0.0</td>\n      <td>96.052315</td>\n      <td>0.00000</td>\n      <td>0.0</td>\n      <td>12.555561</td>\n      <td>811.0</td>\n      <td>1305.0</td>\n    </tr>\n    <tr>\n      <th>2</th>\n      <td>3</td>\n      <td>1596.0</td>\n      <td>1599.0</td>\n      <td>5.0</td>\n      <td>0.597907</td>\n      <td>0.0</td>\n      <td>34.0</td>\n      <td>0.0</td>\n      <td>205.0</td>\n      <td>152.0</td>\n      <td>153.0</td>\n      <td>0.0</td>\n      <td>91.160157</td>\n      <td>0.00000</td>\n      <td>0.0</td>\n      <td>28.554793</td>\n      <td>655.0</td>\n      <td>1300.0</td>\n    </tr>\n    <tr>\n      <th>3</th>\n      <td>4</td>\n      <td>1601.0</td>\n      <td>1625.0</td>\n      <td>4.0</td>\n      <td>0.953741</td>\n      <td>0.0</td>\n      <td>81.0</td>\n      <td>0.0</td>\n      <td>207.0</td>\n      <td>153.0</td>\n      <td>154.0</td>\n      <td>0.0</td>\n      <td>89.063515</td>\n      <td>0.00000</td>\n      <td>0.0</td>\n      <td>18.841219</td>\n      <td>741.0</td>\n      <td>388.0</td>\n    </tr>\n    <tr>\n      <th>4</th>\n      <td>5</td>\n      <td>1576.0</td>\n      <td>1602.0</td>\n      <td>4.0</td>\n      <td>1.008939</td>\n      <td>0.0</td>\n      <td>78.0</td>\n      <td>0.0</td>\n      <td>203.0</td>\n      <td>151.0</td>\n      <td>152.0</td>\n      <td>0.0</td>\n      <td>89.238236</td>\n      <td>9.11456</td>\n      <td>0.0</td>\n      <td>5.413692</td>\n      <td>869.0</td>\n      <td>762.0</td>\n    </tr>\n  </tbody>\n</table>\n</div>"
     },
     "execution_count": 51,
     "metadata": {},
     "output_type": "execute_result"
    }
   ],
   "source": [
    "data_final.head()\n"
   ]
  },
  {
   "cell_type": "markdown",
   "metadata": {},
   "source": [
    "**Корреляция признаков**"
   ]
  },
  {
   "cell_type": "code",
   "execution_count": 52,
   "metadata": {},
   "outputs": [
    {
     "data": {
      "text/plain": "<pandas.io.formats.style.Styler at 0x1ac4fb9e220>",
      "text/html": "<style  type=\"text/css\" >\n#T_e2278_row0_col0,#T_e2278_row1_col1,#T_e2278_row2_col2,#T_e2278_row3_col3,#T_e2278_row4_col4,#T_e2278_row5_col5,#T_e2278_row6_col6,#T_e2278_row7_col7,#T_e2278_row8_col8,#T_e2278_row9_col9,#T_e2278_row10_col10,#T_e2278_row11_col11,#T_e2278_row12_col12,#T_e2278_row13_col13,#T_e2278_row14_col14,#T_e2278_row15_col15,#T_e2278_row16_col16,#T_e2278_row17_col17{\n            background-color:  #49006a;\n            color:  #f1f1f1;\n        }#T_e2278_row0_col1,#T_e2278_row3_col14,#T_e2278_row4_col6,#T_e2278_row11_col13,#T_e2278_row14_col15,#T_e2278_row15_col1{\n            background-color:  #fcd1cd;\n            color:  #000000;\n        }#T_e2278_row0_col2,#T_e2278_row1_col8,#T_e2278_row5_col0,#T_e2278_row11_col12{\n            background-color:  #fee6e3;\n            color:  #000000;\n        }#T_e2278_row0_col3,#T_e2278_row10_col7{\n            background-color:  #fde2df;\n            color:  #000000;\n        }#T_e2278_row0_col4,#T_e2278_row5_col7,#T_e2278_row8_col15,#T_e2278_row17_col2,#T_e2278_row17_col14{\n            background-color:  #fcc5c0;\n            color:  #000000;\n        }#T_e2278_row0_col5,#T_e2278_row15_col2{\n            background-color:  #fcccc7;\n            color:  #000000;\n        }#T_e2278_row0_col6,#T_e2278_row6_col10,#T_e2278_row13_col3{\n            background-color:  #fcceca;\n            color:  #000000;\n        }#T_e2278_row0_col7,#T_e2278_row4_col13,#T_e2278_row8_col1,#T_e2278_row9_col17,#T_e2278_row16_col6{\n            background-color:  #fccfcb;\n            color:  #000000;\n        }#T_e2278_row0_col8,#T_e2278_row5_col2{\n            background-color:  #fdddd9;\n            color:  #000000;\n        }#T_e2278_row0_col9,#T_e2278_row1_col3,#T_e2278_row1_col4,#T_e2278_row1_col15,#T_e2278_row1_col16,#T_e2278_row1_col17,#T_e2278_row4_col1,#T_e2278_row5_col6,#T_e2278_row6_col5,#T_e2278_row6_col7,#T_e2278_row6_col13,#T_e2278_row7_col12,#T_e2278_row8_col14,#T_e2278_row9_col0,#T_e2278_row10_col14,#T_e2278_row12_col11,#T_e2278_row13_col2,#T_e2278_row14_col8,#T_e2278_row14_col10{\n            background-color:  #fff7f3;\n            color:  #000000;\n        }#T_e2278_row0_col10,#T_e2278_row14_col0{\n            background-color:  #fee9e5;\n            color:  #000000;\n        }#T_e2278_row0_col11,#T_e2278_row9_col12,#T_e2278_row12_col4,#T_e2278_row13_col15{\n            background-color:  #fddcd8;\n            color:  #000000;\n        }#T_e2278_row0_col12,#T_e2278_row11_col5{\n            background-color:  #fdd4d0;\n            color:  #000000;\n        }#T_e2278_row0_col13,#T_e2278_row8_col5,#T_e2278_row10_col1{\n            background-color:  #fcc6c2;\n            color:  #000000;\n        }#T_e2278_row0_col14,#T_e2278_row2_col15,#T_e2278_row3_col1,#T_e2278_row5_col15,#T_e2278_row7_col0{\n            background-color:  #fde4e1;\n            color:  #000000;\n        }#T_e2278_row0_col15,#T_e2278_row2_col11{\n            background-color:  #fff6f2;\n            color:  #000000;\n        }#T_e2278_row0_col16,#T_e2278_row2_col5,#T_e2278_row2_col9,#T_e2278_row6_col4,#T_e2278_row6_col16,#T_e2278_row11_col1,#T_e2278_row13_col14,#T_e2278_row14_col6{\n            background-color:  #fcd0cc;\n            color:  #000000;\n        }#T_e2278_row0_col17,#T_e2278_row7_col2,#T_e2278_row7_col8,#T_e2278_row10_col11,#T_e2278_row13_col6{\n            background-color:  #fff3f0;\n            color:  #000000;\n        }#T_e2278_row1_col0,#T_e2278_row5_col11,#T_e2278_row12_col9{\n            background-color:  #feeeea;\n            color:  #000000;\n        }#T_e2278_row1_col2{\n            background-color:  #f878a7;\n            color:  #000000;\n        }#T_e2278_row1_col5,#T_e2278_row9_col6,#T_e2278_row12_col13,#T_e2278_row12_col15,#T_e2278_row14_col7,#T_e2278_row15_col10{\n            background-color:  #fdd9d6;\n            color:  #000000;\n        }#T_e2278_row1_col6,#T_e2278_row3_col2,#T_e2278_row3_col7,#T_e2278_row17_col12{\n            background-color:  #fbafba;\n            color:  #000000;\n        }#T_e2278_row1_col7,#T_e2278_row2_col17,#T_e2278_row4_col0,#T_e2278_row5_col14,#T_e2278_row7_col11,#T_e2278_row8_col0,#T_e2278_row11_col8{\n            background-color:  #fde1de;\n            color:  #000000;\n        }#T_e2278_row1_col9{\n            background-color:  #fff2ee;\n            color:  #000000;\n        }#T_e2278_row1_col10,#T_e2278_row8_col13,#T_e2278_row10_col13,#T_e2278_row13_col12{\n            background-color:  #fddedb;\n            color:  #000000;\n        }#T_e2278_row1_col11,#T_e2278_row1_col14,#T_e2278_row3_col0{\n            background-color:  #feebe7;\n            color:  #000000;\n        }#T_e2278_row1_col12,#T_e2278_row11_col16,#T_e2278_row11_col17,#T_e2278_row17_col7{\n            background-color:  #fbb0ba;\n            color:  #000000;\n        }#T_e2278_row1_col13,#T_e2278_row4_col14{\n            background-color:  #fde0dd;\n            color:  #000000;\n        }#T_e2278_row2_col0,#T_e2278_row12_col7,#T_e2278_row16_col1{\n            background-color:  #fff5f1;\n            color:  #000000;\n        }#T_e2278_row2_col1{\n            background-color:  #f767a1;\n            color:  #000000;\n        }#T_e2278_row2_col3,#T_e2278_row16_col5{\n            background-color:  #fbb6bc;\n            color:  #000000;\n        }#T_e2278_row2_col4,#T_e2278_row16_col10{\n            background-color:  #fa9db4;\n            color:  #000000;\n        }#T_e2278_row2_col6,#T_e2278_row7_col13{\n            background-color:  #faa0b5;\n            color:  #000000;\n        }#T_e2278_row2_col7,#T_e2278_row9_col11,#T_e2278_row10_col0{\n            background-color:  #feede9;\n            color:  #000000;\n        }#T_e2278_row2_col8,#T_e2278_row2_col10{\n            background-color:  #faa5b7;\n            color:  #000000;\n        }#T_e2278_row2_col12{\n            background-color:  #f87fa9;\n            color:  #000000;\n        }#T_e2278_row2_col13,#T_e2278_row5_col17,#T_e2278_row11_col9{\n            background-color:  #feeeeb;\n            color:  #000000;\n        }#T_e2278_row2_col14{\n            background-color:  #fef0ec;\n            color:  #000000;\n        }#T_e2278_row2_col16{\n            background-color:  #f883ab;\n            color:  #000000;\n        }#T_e2278_row3_col4,#T_e2278_row5_col4,#T_e2278_row7_col9,#T_e2278_row12_col3,#T_e2278_row12_col5,#T_e2278_row14_col16,#T_e2278_row15_col14{\n            background-color:  #fcc2bf;\n            color:  #000000;\n        }#T_e2278_row3_col5,#T_e2278_row8_col6,#T_e2278_row15_col8{\n            background-color:  #fbb3bb;\n            color:  #000000;\n        }#T_e2278_row3_col6,#T_e2278_row5_col12,#T_e2278_row12_col10,#T_e2278_row13_col4{\n            background-color:  #fccbc6;\n            color:  #000000;\n        }#T_e2278_row3_col8,#T_e2278_row8_col2,#T_e2278_row10_col2{\n            background-color:  #fa97b2;\n            color:  #000000;\n        }#T_e2278_row3_col9,#T_e2278_row16_col2{\n            background-color:  #f994b1;\n            color:  #000000;\n        }#T_e2278_row3_col10,#T_e2278_row3_col11,#T_e2278_row15_col5{\n            background-color:  #fcbebe;\n            color:  #000000;\n        }#T_e2278_row3_col12,#T_e2278_row9_col15,#T_e2278_row11_col3,#T_e2278_row13_col5,#T_e2278_row15_col4{\n            background-color:  #fbb5bb;\n            color:  #000000;\n        }#T_e2278_row3_col13,#T_e2278_row7_col3,#T_e2278_row12_col8{\n            background-color:  #fcbfbe;\n            color:  #000000;\n        }#T_e2278_row3_col15,#T_e2278_row6_col12{\n            background-color:  #f986ac;\n            color:  #000000;\n        }#T_e2278_row3_col16{\n            background-color:  #870179;\n            color:  #f1f1f1;\n        }#T_e2278_row3_col17{\n            background-color:  #e34099;\n            color:  #000000;\n        }#T_e2278_row4_col2,#T_e2278_row8_col12,#T_e2278_row15_col11,#T_e2278_row16_col7{\n            background-color:  #fbadb9;\n            color:  #000000;\n        }#T_e2278_row4_col3,#T_e2278_row9_col1{\n            background-color:  #fdd6d2;\n            color:  #000000;\n        }#T_e2278_row4_col5,#T_e2278_row16_col13,#T_e2278_row17_col13{\n            background-color:  #fcc4c0;\n            color:  #000000;\n        }#T_e2278_row4_col7,#T_e2278_row5_col3,#T_e2278_row9_col5,#T_e2278_row14_col4,#T_e2278_row16_col12,#T_e2278_row17_col10{\n            background-color:  #fcc8c3;\n            color:  #000000;\n        }#T_e2278_row4_col8,#T_e2278_row15_col17{\n            background-color:  #f877a6;\n            color:  #000000;\n        }#T_e2278_row4_col9,#T_e2278_row14_col11{\n            background-color:  #f991b0;\n            color:  #000000;\n        }#T_e2278_row4_col10{\n            background-color:  #f98faf;\n            color:  #000000;\n        }#T_e2278_row4_col11{\n            background-color:  #fee8e5;\n            color:  #000000;\n        }#T_e2278_row4_col12{\n            background-color:  #fde5e2;\n            color:  #000000;\n        }#T_e2278_row4_col15,#T_e2278_row13_col9{\n            background-color:  #fddfdc;\n            color:  #000000;\n        }#T_e2278_row4_col16{\n            background-color:  #cd238f;\n            color:  #f1f1f1;\n        }#T_e2278_row4_col17,#T_e2278_row6_col11,#T_e2278_row9_col14,#T_e2278_row14_col2,#T_e2278_row17_col0{\n            background-color:  #fde6e2;\n            color:  #000000;\n        }#T_e2278_row5_col1{\n            background-color:  #fdd8d5;\n            color:  #000000;\n        }#T_e2278_row5_col8,#T_e2278_row6_col3,#T_e2278_row11_col0,#T_e2278_row13_col0{\n            background-color:  #fdddda;\n            color:  #000000;\n        }#T_e2278_row5_col9,#T_e2278_row8_col11,#T_e2278_row12_col14{\n            background-color:  #fde4e0;\n            color:  #000000;\n        }#T_e2278_row5_col10,#T_e2278_row8_col7{\n            background-color:  #fde3e0;\n            color:  #000000;\n        }#T_e2278_row5_col13,#T_e2278_row10_col12,#T_e2278_row15_col12{\n            background-color:  #fbbabd;\n            color:  #000000;\n        }#T_e2278_row5_col16,#T_e2278_row15_col13{\n            background-color:  #fbb8bc;\n            color:  #000000;\n        }#T_e2278_row6_col0,#T_e2278_row7_col14,#T_e2278_row11_col2,#T_e2278_row13_col17{\n            background-color:  #fee9e6;\n            color:  #000000;\n        }#T_e2278_row6_col1,#T_e2278_row6_col2{\n            background-color:  #fbaeb9;\n            color:  #000000;\n        }#T_e2278_row6_col8,#T_e2278_row11_col4,#T_e2278_row11_col7,#T_e2278_row14_col3,#T_e2278_row17_col1{\n            background-color:  #fccdc9;\n            color:  #000000;\n        }#T_e2278_row6_col9{\n            background-color:  #fff4f0;\n            color:  #000000;\n        }#T_e2278_row6_col14,#T_e2278_row10_col15,#T_e2278_row12_col0,#T_e2278_row13_col11{\n            background-color:  #fee7e4;\n            color:  #000000;\n        }#T_e2278_row6_col15{\n            background-color:  #feebe8;\n            color:  #000000;\n        }#T_e2278_row6_col17,#T_e2278_row7_col10{\n            background-color:  #fff3ef;\n            color:  #000000;\n        }#T_e2278_row7_col1{\n            background-color:  #fddad7;\n            color:  #000000;\n        }#T_e2278_row7_col4,#T_e2278_row12_col16,#T_e2278_row13_col16{\n            background-color:  #fcc1bf;\n            color:  #000000;\n        }#T_e2278_row7_col5{\n            background-color:  #fcbcbd;\n            color:  #000000;\n        }#T_e2278_row7_col6,#T_e2278_row11_col10,#T_e2278_row13_col8,#T_e2278_row13_col10{\n            background-color:  #fef1ed;\n            color:  #000000;\n        }#T_e2278_row7_col15,#T_e2278_row14_col12{\n            background-color:  #fdd5d1;\n            color:  #000000;\n        }#T_e2278_row7_col16{\n            background-color:  #faa7b7;\n            color:  #000000;\n        }#T_e2278_row7_col17{\n            background-color:  #fdd7d3;\n            color:  #000000;\n        }#T_e2278_row8_col3{\n            background-color:  #f992b0;\n            color:  #000000;\n        }#T_e2278_row8_col4,#T_e2278_row8_col9,#T_e2278_row16_col8{\n            background-color:  #f05a9e;\n            color:  #000000;\n        }#T_e2278_row8_col10,#T_e2278_row10_col8,#T_e2278_row17_col16{\n            background-color:  #cf258f;\n            color:  #f1f1f1;\n        }#T_e2278_row8_col16{\n            background-color:  #e5459a;\n            color:  #000000;\n        }#T_e2278_row8_col17,#T_e2278_row9_col13,#T_e2278_row15_col6{\n            background-color:  #fcc7c3;\n            color:  #000000;\n        }#T_e2278_row9_col2,#T_e2278_row17_col9{\n            background-color:  #fcc0bf;\n            color:  #000000;\n        }#T_e2278_row9_col3{\n            background-color:  #f988ad;\n            color:  #000000;\n        }#T_e2278_row9_col4{\n            background-color:  #f76ba2;\n            color:  #000000;\n        }#T_e2278_row9_col7,#T_e2278_row15_col9{\n            background-color:  #fba9b8;\n            color:  #000000;\n        }#T_e2278_row9_col8{\n            background-color:  #ee559d;\n            color:  #000000;\n        }#T_e2278_row9_col10,#T_e2278_row12_col1{\n            background-color:  #faa6b7;\n            color:  #000000;\n        }#T_e2278_row9_col16{\n            background-color:  #e6479b;\n            color:  #000000;\n        }#T_e2278_row10_col3,#T_e2278_row17_col4{\n            background-color:  #fbb9bc;\n            color:  #000000;\n        }#T_e2278_row10_col4{\n            background-color:  #f76ea3;\n            color:  #000000;\n        }#T_e2278_row10_col5,#T_e2278_row11_col6,#T_e2278_row16_col11{\n            background-color:  #fcccc8;\n            color:  #000000;\n        }#T_e2278_row10_col6{\n            background-color:  #fbb4bb;\n            color:  #000000;\n        }#T_e2278_row10_col9{\n            background-color:  #fbaab8;\n            color:  #000000;\n        }#T_e2278_row10_col16{\n            background-color:  #f87ea9;\n            color:  #000000;\n        }#T_e2278_row10_col17,#T_e2278_row13_col1{\n            background-color:  #fddbd7;\n            color:  #000000;\n        }#T_e2278_row11_col14{\n            background-color:  #f98dae;\n            color:  #000000;\n        }#T_e2278_row11_col15,#T_e2278_row14_col13{\n            background-color:  #fbbbbd;\n            color:  #000000;\n        }#T_e2278_row12_col2{\n            background-color:  #f984ab;\n            color:  #000000;\n        }#T_e2278_row12_col6{\n            background-color:  #f87aa8;\n            color:  #000000;\n        }#T_e2278_row12_col17,#T_e2278_row14_col1{\n            background-color:  #fdd3cf;\n            color:  #000000;\n        }#T_e2278_row13_col7{\n            background-color:  #faa2b6;\n            color:  #000000;\n        }#T_e2278_row14_col5,#T_e2278_row17_col6{\n            background-color:  #fccac5;\n            color:  #000000;\n        }#T_e2278_row14_col9,#T_e2278_row16_col0{\n            background-color:  #feeae7;\n            color:  #000000;\n        }#T_e2278_row14_col17,#T_e2278_row16_col14{\n            background-color:  #fdd7d4;\n            color:  #000000;\n        }#T_e2278_row15_col0{\n            background-color:  #feece9;\n            color:  #000000;\n        }#T_e2278_row15_col3{\n            background-color:  #f76ca3;\n            color:  #000000;\n        }#T_e2278_row15_col7,#T_e2278_row17_col8{\n            background-color:  #fbb2ba;\n            color:  #000000;\n        }#T_e2278_row15_col16{\n            background-color:  #f15c9f;\n            color:  #000000;\n        }#T_e2278_row16_col3{\n            background-color:  #8e017a;\n            color:  #f1f1f1;\n        }#T_e2278_row16_col4{\n            background-color:  #cc218e;\n            color:  #f1f1f1;\n        }#T_e2278_row16_col9{\n            background-color:  #f462a0;\n            color:  #000000;\n        }#T_e2278_row16_col15{\n            background-color:  #f98aad;\n            color:  #000000;\n        }#T_e2278_row16_col17{\n            background-color:  #e7489b;\n            color:  #000000;\n        }#T_e2278_row17_col3{\n            background-color:  #d52b93;\n            color:  #f1f1f1;\n        }#T_e2278_row17_col5{\n            background-color:  #fcc6c1;\n            color:  #000000;\n        }#T_e2278_row17_col11{\n            background-color:  #fa9eb5;\n            color:  #000000;\n        }#T_e2278_row17_col15{\n            background-color:  #f871a4;\n            color:  #000000;\n        }</style><table id=\"T_e2278_\" ><thead>    <tr>        <th class=\"blank level0\" ></th>        <th class=\"col_heading level0 col0\" >key</th>        <th class=\"col_heading level0 col1\" >Начальная температура</th>        <th class=\"col_heading level0 col2\" >Итоговая температура</th>        <th class=\"col_heading level0 col3\" >Количество запусков нагрева</th>        <th class=\"col_heading level0 col4\" >Средняя полная мощность</th>        <th class=\"col_heading level0 col5\" >Bulk 3</th>        <th class=\"col_heading level0 col6\" >Bulk 4</th>        <th class=\"col_heading level0 col7\" >Bulk 6</th>        <th class=\"col_heading level0 col8\" >Bulk 12</th>        <th class=\"col_heading level0 col9\" >Bulk 14</th>        <th class=\"col_heading level0 col10\" >Bulk 15</th>        <th class=\"col_heading level0 col11\" >Bulk_other</th>        <th class=\"col_heading level0 col12\" >Wire 1</th>        <th class=\"col_heading level0 col13\" >Wire 2</th>        <th class=\"col_heading level0 col14\" >Wire_other</th>        <th class=\"col_heading level0 col15\" >Газ 1</th>        <th class=\"col_heading level0 col16\" >Суммарное время нагрева в секундах</th>        <th class=\"col_heading level0 col17\" >Время между замерами в секундах</th>    </tr></thead><tbody>\n                <tr>\n                        <th id=\"T_e2278_level0_row0\" class=\"row_heading level0 row0\" >key</th>\n                        <td id=\"T_e2278_row0_col0\" class=\"data row0 col0\" >1.000000</td>\n                        <td id=\"T_e2278_row0_col1\" class=\"data row0 col1\" >-0.049919</td>\n                        <td id=\"T_e2278_row0_col2\" class=\"data row0 col2\" >-0.097242</td>\n                        <td id=\"T_e2278_row0_col3\" class=\"data row0 col3\" >-0.033585</td>\n                        <td id=\"T_e2278_row0_col4\" class=\"data row0 col4\" >0.022759</td>\n                        <td id=\"T_e2278_row0_col5\" class=\"data row0 col5\" >-0.007271</td>\n                        <td id=\"T_e2278_row0_col6\" class=\"data row0 col6\" >-0.026147</td>\n                        <td id=\"T_e2278_row0_col7\" class=\"data row0 col7\" >0.006241</td>\n                        <td id=\"T_e2278_row0_col8\" class=\"data row0 col8\" >0.025958</td>\n                        <td id=\"T_e2278_row0_col9\" class=\"data row0 col9\" >-0.110275</td>\n                        <td id=\"T_e2278_row0_col10\" class=\"data row0 col10\" >-0.045531</td>\n                        <td id=\"T_e2278_row0_col11\" class=\"data row0 col11\" >0.042750</td>\n                        <td id=\"T_e2278_row0_col12\" class=\"data row0 col12\" >-0.013564</td>\n                        <td id=\"T_e2278_row0_col13\" class=\"data row0 col13\" >0.043149</td>\n                        <td id=\"T_e2278_row0_col14\" class=\"data row0 col14\" >-0.020594</td>\n                        <td id=\"T_e2278_row0_col15\" class=\"data row0 col15\" >-0.043486</td>\n                        <td id=\"T_e2278_row0_col16\" class=\"data row0 col16\" >-0.029519</td>\n                        <td id=\"T_e2278_row0_col17\" class=\"data row0 col17\" >-0.002600</td>\n            </tr>\n            <tr>\n                        <th id=\"T_e2278_level0_row1\" class=\"row_heading level0 row1\" >Начальная температура</th>\n                        <td id=\"T_e2278_row1_col0\" class=\"data row1 col0\" >-0.049919</td>\n                        <td id=\"T_e2278_row1_col1\" class=\"data row1 col1\" >1.000000</td>\n                        <td id=\"T_e2278_row1_col2\" class=\"data row1 col2\" >0.353292</td>\n                        <td id=\"T_e2278_row1_col3\" class=\"data row1 col3\" >-0.166090</td>\n                        <td id=\"T_e2278_row1_col4\" class=\"data row1 col4\" >-0.303082</td>\n                        <td id=\"T_e2278_row1_col5\" class=\"data row1 col5\" >-0.089475</td>\n                        <td id=\"T_e2278_row1_col6\" class=\"data row1 col6\" >0.122691</td>\n                        <td id=\"T_e2278_row1_col7\" class=\"data row1 col7\" >-0.101825</td>\n                        <td id=\"T_e2278_row1_col8\" class=\"data row1 col8\" >-0.035290</td>\n                        <td id=\"T_e2278_row1_col9\" class=\"data row1 col9\" >-0.077168</td>\n                        <td id=\"T_e2278_row1_col10\" class=\"data row1 col10\" >0.016995</td>\n                        <td id=\"T_e2278_row1_col11\" class=\"data row1 col11\" >-0.042919</td>\n                        <td id=\"T_e2278_row1_col12\" class=\"data row1 col12\" >0.155272</td>\n                        <td id=\"T_e2278_row1_col13\" class=\"data row1 col13\" >-0.106521</td>\n                        <td id=\"T_e2278_row1_col14\" class=\"data row1 col14\" >-0.062367</td>\n                        <td id=\"T_e2278_row1_col15\" class=\"data row1 col15\" >-0.048104</td>\n                        <td id=\"T_e2278_row1_col16\" class=\"data row1 col16\" >-0.285718</td>\n                        <td id=\"T_e2278_row1_col17\" class=\"data row1 col17\" >-0.025283</td>\n            </tr>\n            <tr>\n                        <th id=\"T_e2278_level0_row2\" class=\"row_heading level0 row2\" >Итоговая температура</th>\n                        <td id=\"T_e2278_row2_col0\" class=\"data row2 col0\" >-0.097242</td>\n                        <td id=\"T_e2278_row2_col1\" class=\"data row2 col1\" >0.353292</td>\n                        <td id=\"T_e2278_row2_col2\" class=\"data row2 col2\" >1.000000</td>\n                        <td id=\"T_e2278_row2_col3\" class=\"data row2 col3\" >0.181146</td>\n                        <td id=\"T_e2278_row2_col4\" class=\"data row2 col4\" >0.191027</td>\n                        <td id=\"T_e2278_row2_col5\" class=\"data row2 col5\" >-0.035977</td>\n                        <td id=\"T_e2278_row2_col6\" class=\"data row2 col6\" >0.187970</td>\n                        <td id=\"T_e2278_row2_col7\" class=\"data row2 col7\" >-0.181816</td>\n                        <td id=\"T_e2278_row2_col8\" class=\"data row2 col8\" >0.267424</td>\n                        <td id=\"T_e2278_row2_col9\" class=\"data row2 col9\" >0.114617</td>\n                        <td id=\"T_e2278_row2_col10\" class=\"data row2 col10\" >0.266414</td>\n                        <td id=\"T_e2278_row2_col11\" class=\"data row2 col11\" >-0.116145</td>\n                        <td id=\"T_e2278_row2_col12\" class=\"data row2 col12\" >0.317575</td>\n                        <td id=\"T_e2278_row2_col13\" class=\"data row2 col13\" >-0.206672</td>\n                        <td id=\"T_e2278_row2_col14\" class=\"data row2 col14\" >-0.091003</td>\n                        <td id=\"T_e2278_row2_col15\" class=\"data row2 col15\" >0.059160</td>\n                        <td id=\"T_e2278_row2_col16\" class=\"data row2 col16\" >0.278716</td>\n                        <td id=\"T_e2278_row2_col17\" class=\"data row2 col17\" >0.097480</td>\n            </tr>\n            <tr>\n                        <th id=\"T_e2278_level0_row3\" class=\"row_heading level0 row3\" >Количество запусков нагрева</th>\n                        <td id=\"T_e2278_row3_col0\" class=\"data row3 col0\" >-0.033585</td>\n                        <td id=\"T_e2278_row3_col1\" class=\"data row3 col1\" >-0.166090</td>\n                        <td id=\"T_e2278_row3_col2\" class=\"data row3 col2\" >0.181146</td>\n                        <td id=\"T_e2278_row3_col3\" class=\"data row3 col3\" >1.000000</td>\n                        <td id=\"T_e2278_row3_col4\" class=\"data row3 col4\" >0.035012</td>\n                        <td id=\"T_e2278_row3_col5\" class=\"data row3 col5\" >0.109238</td>\n                        <td id=\"T_e2278_row3_col6\" class=\"data row3 col6\" >-0.004237</td>\n                        <td id=\"T_e2278_row3_col7\" class=\"data row3 col7\" >0.152034</td>\n                        <td id=\"T_e2278_row3_col8\" class=\"data row3 col8\" >0.307230</td>\n                        <td id=\"T_e2278_row3_col9\" class=\"data row3 col9\" >0.333906</td>\n                        <td id=\"T_e2278_row3_col10\" class=\"data row3 col10\" >0.175047</td>\n                        <td id=\"T_e2278_row3_col11\" class=\"data row3 col11\" >0.187323</td>\n                        <td id=\"T_e2278_row3_col12\" class=\"data row3 col12\" >0.138280</td>\n                        <td id=\"T_e2278_row3_col13\" class=\"data row3 col13\" >0.078237</td>\n                        <td id=\"T_e2278_row3_col14\" class=\"data row3 col14\" >0.081376</td>\n                        <td id=\"T_e2278_row3_col15\" class=\"data row3 col15\" >0.403947</td>\n                        <td id=\"T_e2278_row3_col16\" class=\"data row3 col16\" >0.799038</td>\n                        <td id=\"T_e2278_row3_col17\" class=\"data row3 col17\" >0.587091</td>\n            </tr>\n            <tr>\n                        <th id=\"T_e2278_level0_row4\" class=\"row_heading level0 row4\" >Средняя полная мощность</th>\n                        <td id=\"T_e2278_row4_col0\" class=\"data row4 col0\" >0.022759</td>\n                        <td id=\"T_e2278_row4_col1\" class=\"data row4 col1\" >-0.303082</td>\n                        <td id=\"T_e2278_row4_col2\" class=\"data row4 col2\" >0.191027</td>\n                        <td id=\"T_e2278_row4_col3\" class=\"data row4 col3\" >0.035012</td>\n                        <td id=\"T_e2278_row4_col4\" class=\"data row4 col4\" >1.000000</td>\n                        <td id=\"T_e2278_row4_col5\" class=\"data row4 col5\" >0.035880</td>\n                        <td id=\"T_e2278_row4_col6\" class=\"data row4 col6\" >-0.043016</td>\n                        <td id=\"T_e2278_row4_col7\" class=\"data row4 col7\" >0.042726</td>\n                        <td id=\"T_e2278_row4_col8\" class=\"data row4 col8\" >0.392658</td>\n                        <td id=\"T_e2278_row4_col9\" class=\"data row4 col9\" >0.340856</td>\n                        <td id=\"T_e2278_row4_col10\" class=\"data row4 col10\" >0.330532</td>\n                        <td id=\"T_e2278_row4_col11\" class=\"data row4 col11\" >-0.026985</td>\n                        <td id=\"T_e2278_row4_col12\" class=\"data row4 col12\" >-0.113784</td>\n                        <td id=\"T_e2278_row4_col13\" class=\"data row4 col13\" >-0.010163</td>\n                        <td id=\"T_e2278_row4_col14\" class=\"data row4 col14\" >0.003971</td>\n                        <td id=\"T_e2278_row4_col15\" class=\"data row4 col15\" >0.090084</td>\n                        <td id=\"T_e2278_row4_col16\" class=\"data row4 col16\" >0.568778</td>\n                        <td id=\"T_e2278_row4_col17\" class=\"data row4 col17\" >0.074563</td>\n            </tr>\n            <tr>\n                        <th id=\"T_e2278_level0_row5\" class=\"row_heading level0 row5\" >Bulk 3</th>\n                        <td id=\"T_e2278_row5_col0\" class=\"data row5 col0\" >-0.007271</td>\n                        <td id=\"T_e2278_row5_col1\" class=\"data row5 col1\" >-0.089475</td>\n                        <td id=\"T_e2278_row5_col2\" class=\"data row5 col2\" >-0.035977</td>\n                        <td id=\"T_e2278_row5_col3\" class=\"data row5 col3\" >0.109238</td>\n                        <td id=\"T_e2278_row5_col4\" class=\"data row5 col4\" >0.035880</td>\n                        <td id=\"T_e2278_row5_col5\" class=\"data row5 col5\" >1.000000</td>\n                        <td id=\"T_e2278_row5_col6\" class=\"data row5 col6\" >-0.295431</td>\n                        <td id=\"T_e2278_row5_col7\" class=\"data row5 col7\" >0.065284</td>\n                        <td id=\"T_e2278_row5_col8\" class=\"data row5 col8\" >0.018371</td>\n                        <td id=\"T_e2278_row5_col9\" class=\"data row5 col9\" >0.010772</td>\n                        <td id=\"T_e2278_row5_col10\" class=\"data row5 col10\" >-0.012860</td>\n                        <td id=\"T_e2278_row5_col11\" class=\"data row5 col11\" >-0.061826</td>\n                        <td id=\"T_e2278_row5_col12\" class=\"data row5 col12\" >0.039637</td>\n                        <td id=\"T_e2278_row5_col13\" class=\"data row5 col13\" >0.095723</td>\n                        <td id=\"T_e2278_row5_col14\" class=\"data row5 col14\" >0.001943</td>\n                        <td id=\"T_e2278_row5_col15\" class=\"data row5 col15\" >0.059628</td>\n                        <td id=\"T_e2278_row5_col16\" class=\"data row5 col16\" >0.092682</td>\n                        <td id=\"T_e2278_row5_col17\" class=\"data row5 col17\" >0.025857</td>\n            </tr>\n            <tr>\n                        <th id=\"T_e2278_level0_row6\" class=\"row_heading level0 row6\" >Bulk 4</th>\n                        <td id=\"T_e2278_row6_col0\" class=\"data row6 col0\" >-0.026147</td>\n                        <td id=\"T_e2278_row6_col1\" class=\"data row6 col1\" >0.122691</td>\n                        <td id=\"T_e2278_row6_col2\" class=\"data row6 col2\" >0.187970</td>\n                        <td id=\"T_e2278_row6_col3\" class=\"data row6 col3\" >-0.004237</td>\n                        <td id=\"T_e2278_row6_col4\" class=\"data row6 col4\" >-0.043016</td>\n                        <td id=\"T_e2278_row6_col5\" class=\"data row6 col5\" >-0.295431</td>\n                        <td id=\"T_e2278_row6_col6\" class=\"data row6 col6\" >1.000000</td>\n                        <td id=\"T_e2278_row6_col7\" class=\"data row6 col7\" >-0.251562</td>\n                        <td id=\"T_e2278_row6_col8\" class=\"data row6 col8\" >0.105791</td>\n                        <td id=\"T_e2278_row6_col9\" class=\"data row6 col9\" >-0.090602</td>\n                        <td id=\"T_e2278_row6_col10\" class=\"data row6 col10\" >0.101514</td>\n                        <td id=\"T_e2278_row6_col11\" class=\"data row6 col11\" >-0.016073</td>\n                        <td id=\"T_e2278_row6_col12\" class=\"data row6 col12\" >0.297591</td>\n                        <td id=\"T_e2278_row6_col13\" class=\"data row6 col13\" >-0.268142</td>\n                        <td id=\"T_e2278_row6_col14\" class=\"data row6 col14\" >-0.036253</td>\n                        <td id=\"T_e2278_row6_col15\" class=\"data row6 col15\" >0.017578</td>\n                        <td id=\"T_e2278_row6_col16\" class=\"data row6 col16\" >-0.028237</td>\n                        <td id=\"T_e2278_row6_col17\" class=\"data row6 col17\" >0.000188</td>\n            </tr>\n            <tr>\n                        <th id=\"T_e2278_level0_row7\" class=\"row_heading level0 row7\" >Bulk 6</th>\n                        <td id=\"T_e2278_row7_col0\" class=\"data row7 col0\" >0.006241</td>\n                        <td id=\"T_e2278_row7_col1\" class=\"data row7 col1\" >-0.101825</td>\n                        <td id=\"T_e2278_row7_col2\" class=\"data row7 col2\" >-0.181816</td>\n                        <td id=\"T_e2278_row7_col3\" class=\"data row7 col3\" >0.152034</td>\n                        <td id=\"T_e2278_row7_col4\" class=\"data row7 col4\" >0.042726</td>\n                        <td id=\"T_e2278_row7_col5\" class=\"data row7 col5\" >0.065284</td>\n                        <td id=\"T_e2278_row7_col6\" class=\"data row7 col6\" >-0.251562</td>\n                        <td id=\"T_e2278_row7_col7\" class=\"data row7 col7\" >1.000000</td>\n                        <td id=\"T_e2278_row7_col8\" class=\"data row7 col8\" >-0.112902</td>\n                        <td id=\"T_e2278_row7_col9\" class=\"data row7 col9\" >0.177490</td>\n                        <td id=\"T_e2278_row7_col10\" class=\"data row7 col10\" >-0.109316</td>\n                        <td id=\"T_e2278_row7_col11\" class=\"data row7 col11\" >0.013621</td>\n                        <td id=\"T_e2278_row7_col12\" class=\"data row7 col12\" >-0.235793</td>\n                        <td id=\"T_e2278_row7_col13\" class=\"data row7 col13\" >0.204627</td>\n                        <td id=\"T_e2278_row7_col14\" class=\"data row7 col14\" >-0.053967</td>\n                        <td id=\"T_e2278_row7_col15\" class=\"data row7 col15\" >0.139625</td>\n                        <td id=\"T_e2278_row7_col16\" class=\"data row7 col16\" >0.161597</td>\n                        <td id=\"T_e2278_row7_col17\" class=\"data row7 col17\" >0.149048</td>\n            </tr>\n            <tr>\n                        <th id=\"T_e2278_level0_row8\" class=\"row_heading level0 row8\" >Bulk 12</th>\n                        <td id=\"T_e2278_row8_col0\" class=\"data row8 col0\" >0.025958</td>\n                        <td id=\"T_e2278_row8_col1\" class=\"data row8 col1\" >-0.035290</td>\n                        <td id=\"T_e2278_row8_col2\" class=\"data row8 col2\" >0.267424</td>\n                        <td id=\"T_e2278_row8_col3\" class=\"data row8 col3\" >0.307230</td>\n                        <td id=\"T_e2278_row8_col4\" class=\"data row8 col4\" >0.392658</td>\n                        <td id=\"T_e2278_row8_col5\" class=\"data row8 col5\" >0.018371</td>\n                        <td id=\"T_e2278_row8_col6\" class=\"data row8 col6\" >0.105791</td>\n                        <td id=\"T_e2278_row8_col7\" class=\"data row8 col7\" >-0.112902</td>\n                        <td id=\"T_e2278_row8_col8\" class=\"data row8 col8\" >1.000000</td>\n                        <td id=\"T_e2278_row8_col9\" class=\"data row8 col9\" >0.481541</td>\n                        <td id=\"T_e2278_row8_col10\" class=\"data row8 col10\" >0.614479</td>\n                        <td id=\"T_e2278_row8_col11\" class=\"data row8 col11\" >0.000652</td>\n                        <td id=\"T_e2278_row8_col12\" class=\"data row8 col12\" >0.170167</td>\n                        <td id=\"T_e2278_row8_col13\" class=\"data row8 col13\" >-0.098263</td>\n                        <td id=\"T_e2278_row8_col14\" class=\"data row8 col14\" >-0.138347</td>\n                        <td id=\"T_e2278_row8_col15\" class=\"data row8 col15\" >0.217332</td>\n                        <td id=\"T_e2278_row8_col16\" class=\"data row8 col16\" >0.466789</td>\n                        <td id=\"T_e2278_row8_col17\" class=\"data row8 col17\" >0.220503</td>\n            </tr>\n            <tr>\n                        <th id=\"T_e2278_level0_row9\" class=\"row_heading level0 row9\" >Bulk 14</th>\n                        <td id=\"T_e2278_row9_col0\" class=\"data row9 col0\" >-0.110275</td>\n                        <td id=\"T_e2278_row9_col1\" class=\"data row9 col1\" >-0.077168</td>\n                        <td id=\"T_e2278_row9_col2\" class=\"data row9 col2\" >0.114617</td>\n                        <td id=\"T_e2278_row9_col3\" class=\"data row9 col3\" >0.333906</td>\n                        <td id=\"T_e2278_row9_col4\" class=\"data row9 col4\" >0.340856</td>\n                        <td id=\"T_e2278_row9_col5\" class=\"data row9 col5\" >0.010772</td>\n                        <td id=\"T_e2278_row9_col6\" class=\"data row9 col6\" >-0.090602</td>\n                        <td id=\"T_e2278_row9_col7\" class=\"data row9 col7\" >0.177490</td>\n                        <td id=\"T_e2278_row9_col8\" class=\"data row9 col8\" >0.481541</td>\n                        <td id=\"T_e2278_row9_col9\" class=\"data row9 col9\" >1.000000</td>\n                        <td id=\"T_e2278_row9_col10\" class=\"data row9 col10\" >0.265354</td>\n                        <td id=\"T_e2278_row9_col11\" class=\"data row9 col11\" >-0.057938</td>\n                        <td id=\"T_e2278_row9_col12\" class=\"data row9 col12\" >-0.053835</td>\n                        <td id=\"T_e2278_row9_col13\" class=\"data row9 col13\" >0.036309</td>\n                        <td id=\"T_e2278_row9_col14\" class=\"data row9 col14\" >-0.031605</td>\n                        <td id=\"T_e2278_row9_col15\" class=\"data row9 col15\" >0.268889</td>\n                        <td id=\"T_e2278_row9_col16\" class=\"data row9 col16\" >0.461181</td>\n                        <td id=\"T_e2278_row9_col17\" class=\"data row9 col17\" >0.185683</td>\n            </tr>\n            <tr>\n                        <th id=\"T_e2278_level0_row10\" class=\"row_heading level0 row10\" >Bulk 15</th>\n                        <td id=\"T_e2278_row10_col0\" class=\"data row10 col0\" >-0.045531</td>\n                        <td id=\"T_e2278_row10_col1\" class=\"data row10 col1\" >0.016995</td>\n                        <td id=\"T_e2278_row10_col2\" class=\"data row10 col2\" >0.266414</td>\n                        <td id=\"T_e2278_row10_col3\" class=\"data row10 col3\" >0.175047</td>\n                        <td id=\"T_e2278_row10_col4\" class=\"data row10 col4\" >0.330532</td>\n                        <td id=\"T_e2278_row10_col5\" class=\"data row10 col5\" >-0.012860</td>\n                        <td id=\"T_e2278_row10_col6\" class=\"data row10 col6\" >0.101514</td>\n                        <td id=\"T_e2278_row10_col7\" class=\"data row10 col7\" >-0.109316</td>\n                        <td id=\"T_e2278_row10_col8\" class=\"data row10 col8\" >0.614479</td>\n                        <td id=\"T_e2278_row10_col9\" class=\"data row10 col9\" >0.265354</td>\n                        <td id=\"T_e2278_row10_col10\" class=\"data row10 col10\" >1.000000</td>\n                        <td id=\"T_e2278_row10_col11\" class=\"data row10 col11\" >-0.096157</td>\n                        <td id=\"T_e2278_row10_col12\" class=\"data row10 col12\" >0.118437</td>\n                        <td id=\"T_e2278_row10_col13\" class=\"data row10 col13\" >-0.096415</td>\n                        <td id=\"T_e2278_row10_col14\" class=\"data row10 col14\" >-0.138469</td>\n                        <td id=\"T_e2278_row10_col15\" class=\"data row10 col15\" >0.043624</td>\n                        <td id=\"T_e2278_row10_col16\" class=\"data row10 col16\" >0.295854</td>\n                        <td id=\"T_e2278_row10_col17\" class=\"data row10 col17\" >0.130262</td>\n            </tr>\n            <tr>\n                        <th id=\"T_e2278_level0_row11\" class=\"row_heading level0 row11\" >Bulk_other</th>\n                        <td id=\"T_e2278_row11_col0\" class=\"data row11 col0\" >0.042750</td>\n                        <td id=\"T_e2278_row11_col1\" class=\"data row11 col1\" >-0.042919</td>\n                        <td id=\"T_e2278_row11_col2\" class=\"data row11 col2\" >-0.116145</td>\n                        <td id=\"T_e2278_row11_col3\" class=\"data row11 col3\" >0.187323</td>\n                        <td id=\"T_e2278_row11_col4\" class=\"data row11 col4\" >-0.026985</td>\n                        <td id=\"T_e2278_row11_col5\" class=\"data row11 col5\" >-0.061826</td>\n                        <td id=\"T_e2278_row11_col6\" class=\"data row11 col6\" >-0.016073</td>\n                        <td id=\"T_e2278_row11_col7\" class=\"data row11 col7\" >0.013621</td>\n                        <td id=\"T_e2278_row11_col8\" class=\"data row11 col8\" >0.000652</td>\n                        <td id=\"T_e2278_row11_col9\" class=\"data row11 col9\" >-0.057938</td>\n                        <td id=\"T_e2278_row11_col10\" class=\"data row11 col10\" >-0.096157</td>\n                        <td id=\"T_e2278_row11_col11\" class=\"data row11 col11\" >1.000000</td>\n                        <td id=\"T_e2278_row11_col12\" class=\"data row11 col12\" >-0.121186</td>\n                        <td id=\"T_e2278_row11_col13\" class=\"data row11 col13\" >-0.022410</td>\n                        <td id=\"T_e2278_row11_col14\" class=\"data row11 col14\" >0.336915</td>\n                        <td id=\"T_e2278_row11_col15\" class=\"data row11 col15\" >0.250397</td>\n                        <td id=\"T_e2278_row11_col16\" class=\"data row11 col16\" >0.122757</td>\n                        <td id=\"T_e2278_row11_col17\" class=\"data row11 col17\" >0.301927</td>\n            </tr>\n            <tr>\n                        <th id=\"T_e2278_level0_row12\" class=\"row_heading level0 row12\" >Wire 1</th>\n                        <td id=\"T_e2278_row12_col0\" class=\"data row12 col0\" >-0.013564</td>\n                        <td id=\"T_e2278_row12_col1\" class=\"data row12 col1\" >0.155272</td>\n                        <td id=\"T_e2278_row12_col2\" class=\"data row12 col2\" >0.317575</td>\n                        <td id=\"T_e2278_row12_col3\" class=\"data row12 col3\" >0.138280</td>\n                        <td id=\"T_e2278_row12_col4\" class=\"data row12 col4\" >-0.113784</td>\n                        <td id=\"T_e2278_row12_col5\" class=\"data row12 col5\" >0.039637</td>\n                        <td id=\"T_e2278_row12_col6\" class=\"data row12 col6\" >0.297591</td>\n                        <td id=\"T_e2278_row12_col7\" class=\"data row12 col7\" >-0.235793</td>\n                        <td id=\"T_e2278_row12_col8\" class=\"data row12 col8\" >0.170167</td>\n                        <td id=\"T_e2278_row12_col9\" class=\"data row12 col9\" >-0.053835</td>\n                        <td id=\"T_e2278_row12_col10\" class=\"data row12 col10\" >0.118437</td>\n                        <td id=\"T_e2278_row12_col11\" class=\"data row12 col11\" >-0.121186</td>\n                        <td id=\"T_e2278_row12_col12\" class=\"data row12 col12\" >1.000000</td>\n                        <td id=\"T_e2278_row12_col13\" class=\"data row12 col13\" >-0.068301</td>\n                        <td id=\"T_e2278_row12_col14\" class=\"data row12 col14\" >-0.017959</td>\n                        <td id=\"T_e2278_row12_col15\" class=\"data row12 col15\" >0.117313</td>\n                        <td id=\"T_e2278_row12_col16\" class=\"data row12 col16\" >0.055495</td>\n                        <td id=\"T_e2278_row12_col17\" class=\"data row12 col17\" >0.164251</td>\n            </tr>\n            <tr>\n                        <th id=\"T_e2278_level0_row13\" class=\"row_heading level0 row13\" >Wire 2</th>\n                        <td id=\"T_e2278_row13_col0\" class=\"data row13 col0\" >0.043149</td>\n                        <td id=\"T_e2278_row13_col1\" class=\"data row13 col1\" >-0.106521</td>\n                        <td id=\"T_e2278_row13_col2\" class=\"data row13 col2\" >-0.206672</td>\n                        <td id=\"T_e2278_row13_col3\" class=\"data row13 col3\" >0.078237</td>\n                        <td id=\"T_e2278_row13_col4\" class=\"data row13 col4\" >-0.010163</td>\n                        <td id=\"T_e2278_row13_col5\" class=\"data row13 col5\" >0.095723</td>\n                        <td id=\"T_e2278_row13_col6\" class=\"data row13 col6\" >-0.268142</td>\n                        <td id=\"T_e2278_row13_col7\" class=\"data row13 col7\" >0.204627</td>\n                        <td id=\"T_e2278_row13_col8\" class=\"data row13 col8\" >-0.098263</td>\n                        <td id=\"T_e2278_row13_col9\" class=\"data row13 col9\" >0.036309</td>\n                        <td id=\"T_e2278_row13_col10\" class=\"data row13 col10\" >-0.096415</td>\n                        <td id=\"T_e2278_row13_col11\" class=\"data row13 col11\" >-0.022410</td>\n                        <td id=\"T_e2278_row13_col12\" class=\"data row13 col12\" >-0.068301</td>\n                        <td id=\"T_e2278_row13_col13\" class=\"data row13 col13\" >1.000000</td>\n                        <td id=\"T_e2278_row13_col14\" class=\"data row13 col14\" >0.091209</td>\n                        <td id=\"T_e2278_row13_col15\" class=\"data row13 col15\" >0.104248</td>\n                        <td id=\"T_e2278_row13_col16\" class=\"data row13 col16\" >0.054543</td>\n                        <td id=\"T_e2278_row13_col17\" class=\"data row13 col17\" >0.054025</td>\n            </tr>\n            <tr>\n                        <th id=\"T_e2278_level0_row14\" class=\"row_heading level0 row14\" >Wire_other</th>\n                        <td id=\"T_e2278_row14_col0\" class=\"data row14 col0\" >-0.020594</td>\n                        <td id=\"T_e2278_row14_col1\" class=\"data row14 col1\" >-0.062367</td>\n                        <td id=\"T_e2278_row14_col2\" class=\"data row14 col2\" >-0.091003</td>\n                        <td id=\"T_e2278_row14_col3\" class=\"data row14 col3\" >0.081376</td>\n                        <td id=\"T_e2278_row14_col4\" class=\"data row14 col4\" >0.003971</td>\n                        <td id=\"T_e2278_row14_col5\" class=\"data row14 col5\" >0.001943</td>\n                        <td id=\"T_e2278_row14_col6\" class=\"data row14 col6\" >-0.036253</td>\n                        <td id=\"T_e2278_row14_col7\" class=\"data row14 col7\" >-0.053967</td>\n                        <td id=\"T_e2278_row14_col8\" class=\"data row14 col8\" >-0.138347</td>\n                        <td id=\"T_e2278_row14_col9\" class=\"data row14 col9\" >-0.031605</td>\n                        <td id=\"T_e2278_row14_col10\" class=\"data row14 col10\" >-0.138469</td>\n                        <td id=\"T_e2278_row14_col11\" class=\"data row14 col11\" >0.336915</td>\n                        <td id=\"T_e2278_row14_col12\" class=\"data row14 col12\" >-0.017959</td>\n                        <td id=\"T_e2278_row14_col13\" class=\"data row14 col13\" >0.091209</td>\n                        <td id=\"T_e2278_row14_col14\" class=\"data row14 col14\" >1.000000</td>\n                        <td id=\"T_e2278_row14_col15\" class=\"data row14 col15\" >0.155405</td>\n                        <td id=\"T_e2278_row14_col16\" class=\"data row14 col16\" >0.048902</td>\n                        <td id=\"T_e2278_row14_col17\" class=\"data row14 col17\" >0.146742</td>\n            </tr>\n            <tr>\n                        <th id=\"T_e2278_level0_row15\" class=\"row_heading level0 row15\" >Газ 1</th>\n                        <td id=\"T_e2278_row15_col0\" class=\"data row15 col0\" >-0.043486</td>\n                        <td id=\"T_e2278_row15_col1\" class=\"data row15 col1\" >-0.048104</td>\n                        <td id=\"T_e2278_row15_col2\" class=\"data row15 col2\" >0.059160</td>\n                        <td id=\"T_e2278_row15_col3\" class=\"data row15 col3\" >0.403947</td>\n                        <td id=\"T_e2278_row15_col4\" class=\"data row15 col4\" >0.090084</td>\n                        <td id=\"T_e2278_row15_col5\" class=\"data row15 col5\" >0.059628</td>\n                        <td id=\"T_e2278_row15_col6\" class=\"data row15 col6\" >0.017578</td>\n                        <td id=\"T_e2278_row15_col7\" class=\"data row15 col7\" >0.139625</td>\n                        <td id=\"T_e2278_row15_col8\" class=\"data row15 col8\" >0.217332</td>\n                        <td id=\"T_e2278_row15_col9\" class=\"data row15 col9\" >0.268889</td>\n                        <td id=\"T_e2278_row15_col10\" class=\"data row15 col10\" >0.043624</td>\n                        <td id=\"T_e2278_row15_col11\" class=\"data row15 col11\" >0.250397</td>\n                        <td id=\"T_e2278_row15_col12\" class=\"data row15 col12\" >0.117313</td>\n                        <td id=\"T_e2278_row15_col13\" class=\"data row15 col13\" >0.104248</td>\n                        <td id=\"T_e2278_row15_col14\" class=\"data row15 col14\" >0.155405</td>\n                        <td id=\"T_e2278_row15_col15\" class=\"data row15 col15\" >1.000000</td>\n                        <td id=\"T_e2278_row15_col16\" class=\"data row15 col16\" >0.396306</td>\n                        <td id=\"T_e2278_row15_col17\" class=\"data row15 col17\" >0.454465</td>\n            </tr>\n            <tr>\n                        <th id=\"T_e2278_level0_row16\" class=\"row_heading level0 row16\" >Суммарное время нагрева в секундах</th>\n                        <td id=\"T_e2278_row16_col0\" class=\"data row16 col0\" >-0.029519</td>\n                        <td id=\"T_e2278_row16_col1\" class=\"data row16 col1\" >-0.285718</td>\n                        <td id=\"T_e2278_row16_col2\" class=\"data row16 col2\" >0.278716</td>\n                        <td id=\"T_e2278_row16_col3\" class=\"data row16 col3\" >0.799038</td>\n                        <td id=\"T_e2278_row16_col4\" class=\"data row16 col4\" >0.568778</td>\n                        <td id=\"T_e2278_row16_col5\" class=\"data row16 col5\" >0.092682</td>\n                        <td id=\"T_e2278_row16_col6\" class=\"data row16 col6\" >-0.028237</td>\n                        <td id=\"T_e2278_row16_col7\" class=\"data row16 col7\" >0.161597</td>\n                        <td id=\"T_e2278_row16_col8\" class=\"data row16 col8\" >0.466789</td>\n                        <td id=\"T_e2278_row16_col9\" class=\"data row16 col9\" >0.461181</td>\n                        <td id=\"T_e2278_row16_col10\" class=\"data row16 col10\" >0.295854</td>\n                        <td id=\"T_e2278_row16_col11\" class=\"data row16 col11\" >0.122757</td>\n                        <td id=\"T_e2278_row16_col12\" class=\"data row16 col12\" >0.055495</td>\n                        <td id=\"T_e2278_row16_col13\" class=\"data row16 col13\" >0.054543</td>\n                        <td id=\"T_e2278_row16_col14\" class=\"data row16 col14\" >0.048902</td>\n                        <td id=\"T_e2278_row16_col15\" class=\"data row16 col15\" >0.396306</td>\n                        <td id=\"T_e2278_row16_col16\" class=\"data row16 col16\" >1.000000</td>\n                        <td id=\"T_e2278_row16_col17\" class=\"data row16 col17\" >0.565052</td>\n            </tr>\n            <tr>\n                        <th id=\"T_e2278_level0_row17\" class=\"row_heading level0 row17\" >Время между замерами в секундах</th>\n                        <td id=\"T_e2278_row17_col0\" class=\"data row17 col0\" >-0.002600</td>\n                        <td id=\"T_e2278_row17_col1\" class=\"data row17 col1\" >-0.025283</td>\n                        <td id=\"T_e2278_row17_col2\" class=\"data row17 col2\" >0.097480</td>\n                        <td id=\"T_e2278_row17_col3\" class=\"data row17 col3\" >0.587091</td>\n                        <td id=\"T_e2278_row17_col4\" class=\"data row17 col4\" >0.074563</td>\n                        <td id=\"T_e2278_row17_col5\" class=\"data row17 col5\" >0.025857</td>\n                        <td id=\"T_e2278_row17_col6\" class=\"data row17 col6\" >0.000188</td>\n                        <td id=\"T_e2278_row17_col7\" class=\"data row17 col7\" >0.149048</td>\n                        <td id=\"T_e2278_row17_col8\" class=\"data row17 col8\" >0.220503</td>\n                        <td id=\"T_e2278_row17_col9\" class=\"data row17 col9\" >0.185683</td>\n                        <td id=\"T_e2278_row17_col10\" class=\"data row17 col10\" >0.130262</td>\n                        <td id=\"T_e2278_row17_col11\" class=\"data row17 col11\" >0.301927</td>\n                        <td id=\"T_e2278_row17_col12\" class=\"data row17 col12\" >0.164251</td>\n                        <td id=\"T_e2278_row17_col13\" class=\"data row17 col13\" >0.054025</td>\n                        <td id=\"T_e2278_row17_col14\" class=\"data row17 col14\" >0.146742</td>\n                        <td id=\"T_e2278_row17_col15\" class=\"data row17 col15\" >0.454465</td>\n                        <td id=\"T_e2278_row17_col16\" class=\"data row17 col16\" >0.565052</td>\n                        <td id=\"T_e2278_row17_col17\" class=\"data row17 col17\" >1.000000</td>\n            </tr>\n    </tbody></table>"
     },
     "execution_count": 52,
     "metadata": {},
     "output_type": "execute_result"
    }
   ],
   "source": [
    "data_final.corr().style.background_gradient(cmap='RdPu')\n"
   ]
  },
  {
   "cell_type": "markdown",
   "metadata": {},
   "source": [
    "## План решения задачи"
   ]
  },
  {
   "cell_type": "markdown",
   "metadata": {},
   "source": [
    "Мы получили итоговую таблицу данных. Для дальнейшней работы сформирован план:\n",
    "- Разделить данные на тренировочную и тестовую выборки\n",
    "    - Проверить размерность\n",
    "- Обучить модель RandomForestRegressor\n",
    "- Обучить модель LinearRegression\n",
    "- Обучить модель CatBoostRegressor\n",
    "- Сравнить полученные метрики и выбрать лучшую модель\n",
    "- Вывести важность факторов выбранной модели\n",
    "- Написать общий вывод по всем пунктам"
   ]
  },
  {
   "cell_type": "markdown",
   "metadata": {},
   "source": [
    "## Моделирование"
   ]
  },
  {
   "cell_type": "markdown",
   "metadata": {
    "pycharm": {
     "name": "#%% md\n"
    }
   },
   "source": [
    "### Тестовая и тренировочная выборки"
   ]
  },
  {
   "cell_type": "code",
   "execution_count": 53,
   "metadata": {
    "pycharm": {
     "name": "#%%\n"
    }
   },
   "outputs": [],
   "source": [
    "x = data_final.drop(columns=['Итоговая температура'])\n",
    "y = data_final['Итоговая температура']"
   ]
  },
  {
   "cell_type": "code",
   "execution_count": 54,
   "metadata": {
    "pycharm": {
     "name": "#%%\n"
    }
   },
   "outputs": [],
   "source": [
    "x_train, x_test, y_train, y_test = train_test_split(x,y, test_size=0.25, random_state=42, shuffle=True)"
   ]
  },
  {
   "cell_type": "code",
   "execution_count": 55,
   "metadata": {
    "pycharm": {
     "name": "#%%\n"
    }
   },
   "outputs": [
    {
     "name": "stdout",
     "output_type": "stream",
     "text": [
      "train ((1746, 17), (1746,))\n",
      "test ((583, 17), (583,))\n"
     ]
    }
   ],
   "source": [
    "# Проверим размерность наших выборок\n",
    "print(f'train {x_train.shape, y_train.shape}')\n",
    "print(f'test {x_test.shape, y_test.shape}')"
   ]
  },
  {
   "cell_type": "code",
   "execution_count": 56,
   "metadata": {
    "pycharm": {
     "name": "#%%\n"
    }
   },
   "outputs": [
    {
     "data": {
      "text/plain": "<Figure size 864x576 with 1 Axes>",
      "image/png": "[encoded data removed]"
     },
     "metadata": {},
     "output_type": "display_data"
    }
   ],
   "source": [
    "# Посмотрим на распределение\n",
    "y_train.plot(kind='density', legend=True, alpha=0.7, label='train')\n",
    "y_test.plot(kind='density', legend=True, alpha=0.7, label='test')\n",
    "plt.title('Распределение целевого признака')\n",
    "plt.xlabel('Значение')\n",
    "plt.ylabel('Количество')\n",
    "plt.show()"
   ]
  },
  {
   "cell_type": "markdown",
   "metadata": {
    "pycharm": {
     "name": "#%% md\n"
    }
   },
   "source": [
    "### Первая модель RandomForestRegressor"
   ]
  },
  {
   "cell_type": "code",
   "execution_count": 57,
   "metadata": {
    "pycharm": {
     "name": "#%%\n"
    }
   },
   "outputs": [
    {
     "name": "stderr",
     "output_type": "stream",
     "text": [
      "[Parallel(n_jobs=-1)]: Using backend LokyBackend with 6 concurrent workers.\n",
      "[Parallel(n_jobs=-1)]: Done  29 tasks      | elapsed:    2.5s\n",
      "[Parallel(n_jobs=-1)]: Done 150 out of 150 | elapsed:    3.1s finished\n",
      "[Parallel(n_jobs=6)]: Using backend ThreadingBackend with 6 concurrent workers.\n",
      "[Parallel(n_jobs=6)]: Done  29 tasks      | elapsed:    0.0s\n",
      "[Parallel(n_jobs=6)]: Done 150 out of 150 | elapsed:    0.0s finished\n",
      "[Parallel(n_jobs=-1)]: Using backend LokyBackend with 6 concurrent workers.\n",
      "[Parallel(n_jobs=-1)]: Done  56 tasks      | elapsed:    0.1s\n",
      "[Parallel(n_jobs=-1)]: Done 150 out of 150 | elapsed:    0.4s finished\n",
      "[Parallel(n_jobs=6)]: Using backend ThreadingBackend with 6 concurrent workers.\n",
      "[Parallel(n_jobs=6)]: Done  29 tasks      | elapsed:    0.0s\n",
      "[Parallel(n_jobs=6)]: Done 150 out of 150 | elapsed:    0.0s finished\n",
      "[Parallel(n_jobs=-1)]: Using backend LokyBackend with 6 concurrent workers.\n",
      "[Parallel(n_jobs=-1)]: Done  56 tasks      | elapsed:    0.1s\n",
      "[Parallel(n_jobs=-1)]: Done 150 out of 150 | elapsed:    0.5s finished\n",
      "[Parallel(n_jobs=6)]: Using backend ThreadingBackend with 6 concurrent workers.\n",
      "[Parallel(n_jobs=6)]: Done  29 tasks      | elapsed:    0.0s\n",
      "[Parallel(n_jobs=6)]: Done 150 out of 150 | elapsed:    0.0s finished\n",
      "[Parallel(n_jobs=-1)]: Using backend LokyBackend with 6 concurrent workers.\n",
      "[Parallel(n_jobs=-1)]: Done  56 tasks      | elapsed:    0.3s\n",
      "[Parallel(n_jobs=-1)]: Done 139 out of 150 | elapsed:    0.7s remaining:    0.0s\n",
      "[Parallel(n_jobs=-1)]: Done 150 out of 150 | elapsed:    0.8s finished\n",
      "[Parallel(n_jobs=6)]: Using backend ThreadingBackend with 6 concurrent workers.\n",
      "[Parallel(n_jobs=6)]: Done  29 tasks      | elapsed:    0.0s\n",
      "[Parallel(n_jobs=6)]: Done 150 out of 150 | elapsed:    0.0s finished\n",
      "[Parallel(n_jobs=-1)]: Using backend LokyBackend with 6 concurrent workers.\n",
      "[Parallel(n_jobs=-1)]: Done  56 tasks      | elapsed:    0.2s\n",
      "[Parallel(n_jobs=-1)]: Done 150 out of 150 | elapsed:    0.5s finished\n",
      "[Parallel(n_jobs=6)]: Using backend ThreadingBackend with 6 concurrent workers.\n",
      "[Parallel(n_jobs=6)]: Done  29 tasks      | elapsed:    0.0s\n",
      "[Parallel(n_jobs=6)]: Done 150 out of 150 | elapsed:    0.0s finished\n",
      "[Parallel(n_jobs=-1)]: Using backend LokyBackend with 6 concurrent workers.\n",
      "[Parallel(n_jobs=-1)]: Done  56 tasks      | elapsed:    0.0s\n",
      "[Parallel(n_jobs=-1)]: Done 150 out of 150 | elapsed:    0.1s finished\n",
      "[Parallel(n_jobs=6)]: Using backend ThreadingBackend with 6 concurrent workers.\n",
      "[Parallel(n_jobs=6)]: Done  29 tasks      | elapsed:    0.0s\n",
      "[Parallel(n_jobs=6)]: Done 150 out of 150 | elapsed:    0.0s finished\n",
      "[Parallel(n_jobs=-1)]: Using backend LokyBackend with 6 concurrent workers.\n",
      "[Parallel(n_jobs=-1)]: Done  56 tasks      | elapsed:    0.0s\n",
      "[Parallel(n_jobs=-1)]: Done 139 out of 150 | elapsed:    0.1s remaining:    0.0s\n",
      "[Parallel(n_jobs=-1)]: Done 150 out of 150 | elapsed:    0.1s finished\n",
      "[Parallel(n_jobs=6)]: Using backend ThreadingBackend with 6 concurrent workers.\n",
      "[Parallel(n_jobs=6)]: Done  29 tasks      | elapsed:    0.0s\n",
      "[Parallel(n_jobs=6)]: Done 150 out of 150 | elapsed:    0.0s finished\n",
      "[Parallel(n_jobs=-1)]: Using backend LokyBackend with 6 concurrent workers.\n",
      "[Parallel(n_jobs=-1)]: Done  56 tasks      | elapsed:    0.0s\n",
      "[Parallel(n_jobs=-1)]: Done 139 out of 150 | elapsed:    0.1s remaining:    0.0s\n",
      "[Parallel(n_jobs=-1)]: Done 150 out of 150 | elapsed:    0.1s finished\n",
      "[Parallel(n_jobs=6)]: Using backend ThreadingBackend with 6 concurrent workers.\n",
      "[Parallel(n_jobs=6)]: Done  29 tasks      | elapsed:    0.0s\n",
      "[Parallel(n_jobs=6)]: Done 150 out of 150 | elapsed:    0.0s finished\n",
      "[Parallel(n_jobs=-1)]: Using backend LokyBackend with 6 concurrent workers.\n",
      "[Parallel(n_jobs=-1)]: Done  56 tasks      | elapsed:    0.0s\n",
      "[Parallel(n_jobs=-1)]: Done 150 out of 150 | elapsed:    0.1s finished\n",
      "[Parallel(n_jobs=6)]: Using backend ThreadingBackend with 6 concurrent workers.\n",
      "[Parallel(n_jobs=6)]: Done  29 tasks      | elapsed:    0.0s\n",
      "[Parallel(n_jobs=6)]: Done 150 out of 150 | elapsed:    0.0s finished\n",
      "[Parallel(n_jobs=-1)]: Using backend LokyBackend with 6 concurrent workers.\n",
      "[Parallel(n_jobs=-1)]: Done  56 tasks      | elapsed:    0.0s\n",
      "[Parallel(n_jobs=-1)]: Done 150 out of 150 | elapsed:    0.1s finished\n",
      "[Parallel(n_jobs=6)]: Using backend ThreadingBackend with 6 concurrent workers.\n",
      "[Parallel(n_jobs=6)]: Done  29 tasks      | elapsed:    0.0s\n",
      "[Parallel(n_jobs=6)]: Done 150 out of 150 | elapsed:    0.0s finished\n",
      "[Parallel(n_jobs=-1)]: Using backend LokyBackend with 6 concurrent workers.\n",
      "[Parallel(n_jobs=-1)]: Done  56 tasks      | elapsed:    0.0s\n",
      "[Parallel(n_jobs=-1)]: Done 150 out of 150 | elapsed:    0.1s finished\n",
      "[Parallel(n_jobs=6)]: Using backend ThreadingBackend with 6 concurrent workers.\n",
      "[Parallel(n_jobs=6)]: Done  29 tasks      | elapsed:    0.0s\n",
      "[Parallel(n_jobs=6)]: Done 150 out of 150 | elapsed:    0.0s finished\n",
      "[Parallel(n_jobs=-1)]: Using backend LokyBackend with 6 concurrent workers.\n",
      "[Parallel(n_jobs=-1)]: Done  56 tasks      | elapsed:    0.0s\n",
      "[Parallel(n_jobs=-1)]: Done 150 out of 150 | elapsed:    0.1s finished\n",
      "[Parallel(n_jobs=6)]: Using backend ThreadingBackend with 6 concurrent workers.\n",
      "[Parallel(n_jobs=6)]: Done  29 tasks      | elapsed:    0.0s\n",
      "[Parallel(n_jobs=6)]: Done 150 out of 150 | elapsed:    0.0s finished\n",
      "[Parallel(n_jobs=-1)]: Using backend LokyBackend with 6 concurrent workers.\n",
      "[Parallel(n_jobs=-1)]: Done  56 tasks      | elapsed:    0.0s\n",
      "[Parallel(n_jobs=-1)]: Done 139 out of 150 | elapsed:    0.1s remaining:    0.0s\n",
      "[Parallel(n_jobs=-1)]: Done 150 out of 150 | elapsed:    0.1s finished\n",
      "[Parallel(n_jobs=6)]: Using backend ThreadingBackend with 6 concurrent workers.\n",
      "[Parallel(n_jobs=6)]: Done  29 tasks      | elapsed:    0.0s\n",
      "[Parallel(n_jobs=6)]: Done 150 out of 150 | elapsed:    0.0s finished\n",
      "[Parallel(n_jobs=-1)]: Using backend LokyBackend with 6 concurrent workers.\n",
      "[Parallel(n_jobs=-1)]: Done  56 tasks      | elapsed:    0.0s\n",
      "[Parallel(n_jobs=-1)]: Done 139 out of 150 | elapsed:    0.1s remaining:    0.0s\n",
      "[Parallel(n_jobs=-1)]: Done 150 out of 150 | elapsed:    0.1s finished\n",
      "[Parallel(n_jobs=6)]: Using backend ThreadingBackend with 6 concurrent workers.\n",
      "[Parallel(n_jobs=6)]: Done  29 tasks      | elapsed:    0.0s\n",
      "[Parallel(n_jobs=6)]: Done 150 out of 150 | elapsed:    0.0s finished\n",
      "[Parallel(n_jobs=-1)]: Using backend LokyBackend with 6 concurrent workers.\n",
      "[Parallel(n_jobs=-1)]: Done  56 tasks      | elapsed:    0.0s\n",
      "[Parallel(n_jobs=-1)]: Done 139 out of 150 | elapsed:    0.1s remaining:    0.0s\n",
      "[Parallel(n_jobs=-1)]: Done 150 out of 150 | elapsed:    0.1s finished\n",
      "[Parallel(n_jobs=6)]: Using backend ThreadingBackend with 6 concurrent workers.\n",
      "[Parallel(n_jobs=6)]: Done  29 tasks      | elapsed:    0.0s\n",
      "[Parallel(n_jobs=6)]: Done 150 out of 150 | elapsed:    0.0s finished\n",
      "[Parallel(n_jobs=-1)]: Using backend LokyBackend with 6 concurrent workers.\n",
      "[Parallel(n_jobs=-1)]: Done  56 tasks      | elapsed:    0.0s\n",
      "[Parallel(n_jobs=-1)]: Done 189 out of 200 | elapsed:    0.0s remaining:    0.0s\n",
      "[Parallel(n_jobs=-1)]: Done 200 out of 200 | elapsed:    0.0s finished\n",
      "[Parallel(n_jobs=6)]: Using backend ThreadingBackend with 6 concurrent workers.\n",
      "[Parallel(n_jobs=6)]: Done  29 tasks      | elapsed:    0.0s\n",
      "[Parallel(n_jobs=6)]: Done 150 tasks      | elapsed:    0.0s\n",
      "[Parallel(n_jobs=6)]: Done 200 out of 200 | elapsed:    0.0s finished\n",
      "[Parallel(n_jobs=-1)]: Using backend LokyBackend with 6 concurrent workers.\n",
      "[Parallel(n_jobs=-1)]: Done  56 tasks      | elapsed:    0.0s\n",
      "[Parallel(n_jobs=-1)]: Done 200 out of 200 | elapsed:    0.0s finished\n",
      "[Parallel(n_jobs=6)]: Using backend ThreadingBackend with 6 concurrent workers.\n",
      "[Parallel(n_jobs=6)]: Done  29 tasks      | elapsed:    0.0s\n",
      "[Parallel(n_jobs=6)]: Done 150 tasks      | elapsed:    0.0s\n",
      "[Parallel(n_jobs=6)]: Done 200 out of 200 | elapsed:    0.0s finished\n",
      "[Parallel(n_jobs=-1)]: Using backend LokyBackend with 6 concurrent workers.\n",
      "[Parallel(n_jobs=-1)]: Done  56 tasks      | elapsed:    0.0s\n",
      "[Parallel(n_jobs=-1)]: Done 200 out of 200 | elapsed:    0.0s finished\n",
      "[Parallel(n_jobs=6)]: Using backend ThreadingBackend with 6 concurrent workers.\n",
      "[Parallel(n_jobs=6)]: Done  29 tasks      | elapsed:    0.0s\n",
      "[Parallel(n_jobs=6)]: Done 150 tasks      | elapsed:    0.0s\n",
      "[Parallel(n_jobs=6)]: Done 200 out of 200 | elapsed:    0.0s finished\n",
      "[Parallel(n_jobs=-1)]: Using backend LokyBackend with 6 concurrent workers.\n",
      "[Parallel(n_jobs=-1)]: Done  56 tasks      | elapsed:    0.0s\n",
      "[Parallel(n_jobs=-1)]: Done 200 out of 200 | elapsed:    0.0s finished\n",
      "[Parallel(n_jobs=6)]: Using backend ThreadingBackend with 6 concurrent workers.\n",
      "[Parallel(n_jobs=6)]: Done  29 tasks      | elapsed:    0.0s\n",
      "[Parallel(n_jobs=6)]: Done 150 tasks      | elapsed:    0.0s\n",
      "[Parallel(n_jobs=6)]: Done 200 out of 200 | elapsed:    0.0s finished\n",
      "[Parallel(n_jobs=-1)]: Using backend LokyBackend with 6 concurrent workers.\n",
      "[Parallel(n_jobs=-1)]: Done  56 tasks      | elapsed:    0.0s\n",
      "[Parallel(n_jobs=-1)]: Done 200 out of 200 | elapsed:    0.0s finished\n",
      "[Parallel(n_jobs=6)]: Using backend ThreadingBackend with 6 concurrent workers.\n",
      "[Parallel(n_jobs=6)]: Done  29 tasks      | elapsed:    0.0s\n",
      "[Parallel(n_jobs=6)]: Done 150 tasks      | elapsed:    0.0s\n",
      "[Parallel(n_jobs=6)]: Done 200 out of 200 | elapsed:    0.0s finished\n",
      "[Parallel(n_jobs=-1)]: Using backend LokyBackend with 6 concurrent workers.\n",
      "[Parallel(n_jobs=-1)]: Done  56 tasks      | elapsed:    0.0s\n",
      "[Parallel(n_jobs=-1)]: Done 200 out of 200 | elapsed:    0.0s finished\n",
      "[Parallel(n_jobs=6)]: Using backend ThreadingBackend with 6 concurrent workers.\n",
      "[Parallel(n_jobs=6)]: Done  29 tasks      | elapsed:    0.0s\n",
      "[Parallel(n_jobs=6)]: Done 150 tasks      | elapsed:    0.0s\n",
      "[Parallel(n_jobs=6)]: Done 200 out of 200 | elapsed:    0.0s finished\n",
      "[Parallel(n_jobs=-1)]: Using backend LokyBackend with 6 concurrent workers.\n",
      "[Parallel(n_jobs=-1)]: Done  56 tasks      | elapsed:    0.0s\n",
      "[Parallel(n_jobs=-1)]: Done 200 out of 200 | elapsed:    0.0s finished\n",
      "[Parallel(n_jobs=6)]: Using backend ThreadingBackend with 6 concurrent workers.\n",
      "[Parallel(n_jobs=6)]: Done  29 tasks      | elapsed:    0.0s\n",
      "[Parallel(n_jobs=6)]: Done 150 tasks      | elapsed:    0.0s\n",
      "[Parallel(n_jobs=6)]: Done 200 out of 200 | elapsed:    0.0s finished\n",
      "[Parallel(n_jobs=-1)]: Using backend LokyBackend with 6 concurrent workers.\n",
      "[Parallel(n_jobs=-1)]: Done  56 tasks      | elapsed:    0.0s\n",
      "[Parallel(n_jobs=-1)]: Done 200 out of 200 | elapsed:    0.0s finished\n",
      "[Parallel(n_jobs=6)]: Using backend ThreadingBackend with 6 concurrent workers.\n",
      "[Parallel(n_jobs=6)]: Done  29 tasks      | elapsed:    0.0s\n",
      "[Parallel(n_jobs=6)]: Done 150 tasks      | elapsed:    0.0s\n",
      "[Parallel(n_jobs=6)]: Done 200 out of 200 | elapsed:    0.0s finished\n",
      "[Parallel(n_jobs=-1)]: Using backend LokyBackend with 6 concurrent workers.\n",
      "[Parallel(n_jobs=-1)]: Done  56 tasks      | elapsed:    0.0s\n",
      "[Parallel(n_jobs=-1)]: Done 200 out of 200 | elapsed:    0.0s finished\n",
      "[Parallel(n_jobs=6)]: Using backend ThreadingBackend with 6 concurrent workers.\n",
      "[Parallel(n_jobs=6)]: Done  29 tasks      | elapsed:    0.0s\n",
      "[Parallel(n_jobs=6)]: Done 150 tasks      | elapsed:    0.0s\n",
      "[Parallel(n_jobs=6)]: Done 200 out of 200 | elapsed:    0.0s finished\n",
      "[Parallel(n_jobs=-1)]: Using backend LokyBackend with 6 concurrent workers.\n",
      "[Parallel(n_jobs=-1)]: Done  56 tasks      | elapsed:    0.0s\n",
      "[Parallel(n_jobs=-1)]: Done 200 out of 200 | elapsed:    0.0s finished\n",
      "[Parallel(n_jobs=6)]: Using backend ThreadingBackend with 6 concurrent workers.\n",
      "[Parallel(n_jobs=6)]: Done  29 tasks      | elapsed:    0.0s\n",
      "[Parallel(n_jobs=6)]: Done 150 tasks      | elapsed:    0.0s\n",
      "[Parallel(n_jobs=6)]: Done 200 out of 200 | elapsed:    0.0s finished\n",
      "[Parallel(n_jobs=-1)]: Using backend LokyBackend with 6 concurrent workers.\n",
      "[Parallel(n_jobs=-1)]: Done  46 tasks      | elapsed:    0.7s\n",
      "[Parallel(n_jobs=-1)]: Done 189 out of 200 | elapsed:    2.8s remaining:    0.1s\n",
      "[Parallel(n_jobs=-1)]: Done 200 out of 200 | elapsed:    2.9s finished\n",
      "[Parallel(n_jobs=6)]: Using backend ThreadingBackend with 6 concurrent workers.\n",
      "[Parallel(n_jobs=6)]: Done  29 tasks      | elapsed:    0.0s\n",
      "[Parallel(n_jobs=6)]: Done 150 tasks      | elapsed:    0.0s\n",
      "[Parallel(n_jobs=6)]: Done 200 out of 200 | elapsed:    0.0s finished\n",
      "[Parallel(n_jobs=-1)]: Using backend LokyBackend with 6 concurrent workers.\n",
      "[Parallel(n_jobs=-1)]: Done  46 tasks      | elapsed:    0.6s\n",
      "[Parallel(n_jobs=-1)]: Done 189 out of 200 | elapsed:    2.7s remaining:    0.1s\n",
      "[Parallel(n_jobs=-1)]: Done 200 out of 200 | elapsed:    2.8s finished\n",
      "[Parallel(n_jobs=6)]: Using backend ThreadingBackend with 6 concurrent workers.\n",
      "[Parallel(n_jobs=6)]: Done  29 tasks      | elapsed:    0.0s\n",
      "[Parallel(n_jobs=6)]: Done 150 tasks      | elapsed:    0.0s\n",
      "[Parallel(n_jobs=6)]: Done 200 out of 200 | elapsed:    0.0s finished\n",
      "[Parallel(n_jobs=-1)]: Using backend LokyBackend with 6 concurrent workers.\n",
      "[Parallel(n_jobs=-1)]: Done  46 tasks      | elapsed:    0.6s\n",
      "[Parallel(n_jobs=-1)]: Done 200 out of 200 | elapsed:    2.9s finished\n",
      "[Parallel(n_jobs=6)]: Using backend ThreadingBackend with 6 concurrent workers.\n",
      "[Parallel(n_jobs=6)]: Done  29 tasks      | elapsed:    0.0s\n",
      "[Parallel(n_jobs=6)]: Done 150 tasks      | elapsed:    0.0s\n",
      "[Parallel(n_jobs=6)]: Done 200 out of 200 | elapsed:    0.0s finished\n",
      "[Parallel(n_jobs=-1)]: Using backend LokyBackend with 6 concurrent workers.\n",
      "[Parallel(n_jobs=-1)]: Done  46 tasks      | elapsed:    0.6s\n",
      "[Parallel(n_jobs=-1)]: Done 189 out of 200 | elapsed:    2.7s remaining:    0.1s\n",
      "[Parallel(n_jobs=-1)]: Done 200 out of 200 | elapsed:    2.9s finished\n",
      "[Parallel(n_jobs=6)]: Using backend ThreadingBackend with 6 concurrent workers.\n",
      "[Parallel(n_jobs=6)]: Done  29 tasks      | elapsed:    0.0s\n",
      "[Parallel(n_jobs=6)]: Done 150 tasks      | elapsed:    0.0s\n",
      "[Parallel(n_jobs=6)]: Done 200 out of 200 | elapsed:    0.0s finished\n",
      "[Parallel(n_jobs=-1)]: Using backend LokyBackend with 6 concurrent workers.\n",
      "[Parallel(n_jobs=-1)]: Done  46 tasks      | elapsed:    0.6s\n",
      "[Parallel(n_jobs=-1)]: Done 189 out of 200 | elapsed:    2.6s remaining:    0.1s\n",
      "[Parallel(n_jobs=-1)]: Done 200 out of 200 | elapsed:    2.8s finished\n",
      "[Parallel(n_jobs=6)]: Using backend ThreadingBackend with 6 concurrent workers.\n",
      "[Parallel(n_jobs=6)]: Done  29 tasks      | elapsed:    0.0s\n",
      "[Parallel(n_jobs=6)]: Done 150 tasks      | elapsed:    0.0s\n",
      "[Parallel(n_jobs=6)]: Done 200 out of 200 | elapsed:    0.0s finished\n",
      "[Parallel(n_jobs=-1)]: Using backend LokyBackend with 6 concurrent workers.\n",
      "[Parallel(n_jobs=-1)]: Done  46 tasks      | elapsed:    0.7s\n",
      "[Parallel(n_jobs=-1)]: Done 139 out of 150 | elapsed:    2.2s remaining:    0.1s\n",
      "[Parallel(n_jobs=-1)]: Done 150 out of 150 | elapsed:    2.3s finished\n",
      "[Parallel(n_jobs=6)]: Using backend ThreadingBackend with 6 concurrent workers.\n",
      "[Parallel(n_jobs=6)]: Done  29 tasks      | elapsed:    0.0s\n",
      "[Parallel(n_jobs=6)]: Done 150 out of 150 | elapsed:    0.0s finished\n",
      "[Parallel(n_jobs=-1)]: Using backend LokyBackend with 6 concurrent workers.\n",
      "[Parallel(n_jobs=-1)]: Done  46 tasks      | elapsed:    0.6s\n",
      "[Parallel(n_jobs=-1)]: Done 150 out of 150 | elapsed:    2.1s finished\n",
      "[Parallel(n_jobs=6)]: Using backend ThreadingBackend with 6 concurrent workers.\n",
      "[Parallel(n_jobs=6)]: Done  29 tasks      | elapsed:    0.0s\n",
      "[Parallel(n_jobs=6)]: Done 150 out of 150 | elapsed:    0.0s finished\n",
      "[Parallel(n_jobs=-1)]: Using backend LokyBackend with 6 concurrent workers.\n",
      "[Parallel(n_jobs=-1)]: Done  46 tasks      | elapsed:    0.6s\n",
      "[Parallel(n_jobs=-1)]: Done 150 out of 150 | elapsed:    2.1s finished\n",
      "[Parallel(n_jobs=6)]: Using backend ThreadingBackend with 6 concurrent workers.\n",
      "[Parallel(n_jobs=6)]: Done  29 tasks      | elapsed:    0.0s\n",
      "[Parallel(n_jobs=6)]: Done 150 out of 150 | elapsed:    0.0s finished\n",
      "[Parallel(n_jobs=-1)]: Using backend LokyBackend with 6 concurrent workers.\n",
      "[Parallel(n_jobs=-1)]: Done  46 tasks      | elapsed:    0.6s\n",
      "[Parallel(n_jobs=-1)]: Done 150 out of 150 | elapsed:    2.1s finished\n",
      "[Parallel(n_jobs=6)]: Using backend ThreadingBackend with 6 concurrent workers.\n",
      "[Parallel(n_jobs=6)]: Done  29 tasks      | elapsed:    0.0s\n",
      "[Parallel(n_jobs=6)]: Done 150 out of 150 | elapsed:    0.0s finished\n",
      "[Parallel(n_jobs=-1)]: Using backend LokyBackend with 6 concurrent workers.\n",
      "[Parallel(n_jobs=-1)]: Done  46 tasks      | elapsed:    0.6s\n",
      "[Parallel(n_jobs=-1)]: Done 150 out of 150 | elapsed:    2.0s finished\n",
      "[Parallel(n_jobs=6)]: Using backend ThreadingBackend with 6 concurrent workers.\n",
      "[Parallel(n_jobs=6)]: Done  29 tasks      | elapsed:    0.0s\n",
      "[Parallel(n_jobs=6)]: Done 150 out of 150 | elapsed:    0.0s finished\n",
      "[Parallel(n_jobs=-1)]: Using backend LokyBackend with 6 concurrent workers.\n",
      "[Parallel(n_jobs=-1)]: Done  56 tasks      | elapsed:    0.2s\n",
      "[Parallel(n_jobs=-1)]: Done 150 out of 150 | elapsed:    0.6s finished\n",
      "[Parallel(n_jobs=6)]: Using backend ThreadingBackend with 6 concurrent workers.\n",
      "[Parallel(n_jobs=6)]: Done  29 tasks      | elapsed:    0.0s\n",
      "[Parallel(n_jobs=6)]: Done 150 out of 150 | elapsed:    0.0s finished\n",
      "[Parallel(n_jobs=-1)]: Using backend LokyBackend with 6 concurrent workers.\n",
      "[Parallel(n_jobs=-1)]: Done  56 tasks      | elapsed:    0.2s\n",
      "[Parallel(n_jobs=-1)]: Done 150 out of 150 | elapsed:    0.6s finished\n",
      "[Parallel(n_jobs=6)]: Using backend ThreadingBackend with 6 concurrent workers.\n",
      "[Parallel(n_jobs=6)]: Done  29 tasks      | elapsed:    0.0s\n",
      "[Parallel(n_jobs=6)]: Done 150 out of 150 | elapsed:    0.0s finished\n",
      "[Parallel(n_jobs=-1)]: Using backend LokyBackend with 6 concurrent workers.\n",
      "[Parallel(n_jobs=-1)]: Done  56 tasks      | elapsed:    0.2s\n",
      "[Parallel(n_jobs=-1)]: Done 150 out of 150 | elapsed:    0.6s finished\n",
      "[Parallel(n_jobs=6)]: Using backend ThreadingBackend with 6 concurrent workers.\n",
      "[Parallel(n_jobs=6)]: Done  29 tasks      | elapsed:    0.0s\n",
      "[Parallel(n_jobs=6)]: Done 150 out of 150 | elapsed:    0.0s finished\n",
      "[Parallel(n_jobs=-1)]: Using backend LokyBackend with 6 concurrent workers.\n",
      "[Parallel(n_jobs=-1)]: Done  56 tasks      | elapsed:    0.2s\n",
      "[Parallel(n_jobs=-1)]: Done 150 out of 150 | elapsed:    0.6s finished\n",
      "[Parallel(n_jobs=6)]: Using backend ThreadingBackend with 6 concurrent workers.\n",
      "[Parallel(n_jobs=6)]: Done  29 tasks      | elapsed:    0.0s\n",
      "[Parallel(n_jobs=6)]: Done 150 out of 150 | elapsed:    0.0s finished\n",
      "[Parallel(n_jobs=-1)]: Using backend LokyBackend with 6 concurrent workers.\n",
      "[Parallel(n_jobs=-1)]: Done  56 tasks      | elapsed:    0.2s\n",
      "[Parallel(n_jobs=-1)]: Done 150 out of 150 | elapsed:    0.6s finished\n",
      "[Parallel(n_jobs=6)]: Using backend ThreadingBackend with 6 concurrent workers.\n",
      "[Parallel(n_jobs=6)]: Done  29 tasks      | elapsed:    0.0s\n",
      "[Parallel(n_jobs=6)]: Done 150 out of 150 | elapsed:    0.0s finished\n",
      "[Parallel(n_jobs=-1)]: Using backend LokyBackend with 6 concurrent workers.\n",
      "[Parallel(n_jobs=-1)]: Done  56 tasks      | elapsed:    0.0s\n",
      "[Parallel(n_jobs=-1)]: Done 200 out of 200 | elapsed:    0.0s finished\n",
      "[Parallel(n_jobs=6)]: Using backend ThreadingBackend with 6 concurrent workers.\n",
      "[Parallel(n_jobs=6)]: Done  29 tasks      | elapsed:    0.0s\n",
      "[Parallel(n_jobs=6)]: Done 150 tasks      | elapsed:    0.0s\n",
      "[Parallel(n_jobs=6)]: Done 200 out of 200 | elapsed:    0.0s finished\n",
      "[Parallel(n_jobs=-1)]: Using backend LokyBackend with 6 concurrent workers.\n",
      "[Parallel(n_jobs=-1)]: Done  56 tasks      | elapsed:    0.0s\n",
      "[Parallel(n_jobs=-1)]: Done 200 out of 200 | elapsed:    0.0s finished\n",
      "[Parallel(n_jobs=6)]: Using backend ThreadingBackend with 6 concurrent workers.\n",
      "[Parallel(n_jobs=6)]: Done  29 tasks      | elapsed:    0.0s\n",
      "[Parallel(n_jobs=6)]: Done 150 tasks      | elapsed:    0.0s\n",
      "[Parallel(n_jobs=6)]: Done 200 out of 200 | elapsed:    0.0s finished\n",
      "[Parallel(n_jobs=-1)]: Using backend LokyBackend with 6 concurrent workers.\n",
      "[Parallel(n_jobs=-1)]: Done  56 tasks      | elapsed:    0.0s\n",
      "[Parallel(n_jobs=-1)]: Done 200 out of 200 | elapsed:    0.0s finished\n",
      "[Parallel(n_jobs=6)]: Using backend ThreadingBackend with 6 concurrent workers.\n",
      "[Parallel(n_jobs=6)]: Done  29 tasks      | elapsed:    0.0s\n",
      "[Parallel(n_jobs=6)]: Done 150 tasks      | elapsed:    0.0s\n",
      "[Parallel(n_jobs=6)]: Done 200 out of 200 | elapsed:    0.0s finished\n",
      "[Parallel(n_jobs=-1)]: Using backend LokyBackend with 6 concurrent workers.\n",
      "[Parallel(n_jobs=-1)]: Done  56 tasks      | elapsed:    0.0s\n",
      "[Parallel(n_jobs=-1)]: Done 200 out of 200 | elapsed:    0.0s finished\n",
      "[Parallel(n_jobs=6)]: Using backend ThreadingBackend with 6 concurrent workers.\n",
      "[Parallel(n_jobs=6)]: Done  29 tasks      | elapsed:    0.0s\n",
      "[Parallel(n_jobs=6)]: Done 150 tasks      | elapsed:    0.0s\n",
      "[Parallel(n_jobs=6)]: Done 200 out of 200 | elapsed:    0.0s finished\n",
      "[Parallel(n_jobs=-1)]: Using backend LokyBackend with 6 concurrent workers.\n",
      "[Parallel(n_jobs=-1)]: Done  56 tasks      | elapsed:    0.0s\n",
      "[Parallel(n_jobs=-1)]: Done 200 out of 200 | elapsed:    0.0s finished\n",
      "[Parallel(n_jobs=6)]: Using backend ThreadingBackend with 6 concurrent workers.\n",
      "[Parallel(n_jobs=6)]: Done  29 tasks      | elapsed:    0.0s\n",
      "[Parallel(n_jobs=6)]: Done 150 tasks      | elapsed:    0.0s\n",
      "[Parallel(n_jobs=6)]: Done 200 out of 200 | elapsed:    0.0s finished\n",
      "[Parallel(n_jobs=-1)]: Using backend LokyBackend with 6 concurrent workers.\n",
      "[Parallel(n_jobs=-1)]: Done  56 tasks      | elapsed:    0.0s\n",
      "[Parallel(n_jobs=-1)]: Done 100 out of 100 | elapsed:    0.0s finished\n",
      "[Parallel(n_jobs=6)]: Using backend ThreadingBackend with 6 concurrent workers.\n",
      "[Parallel(n_jobs=6)]: Done  29 tasks      | elapsed:    0.0s\n",
      "[Parallel(n_jobs=6)]: Done 100 out of 100 | elapsed:    0.0s finished\n",
      "[Parallel(n_jobs=-1)]: Using backend LokyBackend with 6 concurrent workers.\n",
      "[Parallel(n_jobs=-1)]: Done  56 tasks      | elapsed:    0.0s\n",
      "[Parallel(n_jobs=-1)]: Done 100 out of 100 | elapsed:    0.0s finished\n",
      "[Parallel(n_jobs=6)]: Using backend ThreadingBackend with 6 concurrent workers.\n",
      "[Parallel(n_jobs=6)]: Done  29 tasks      | elapsed:    0.0s\n",
      "[Parallel(n_jobs=6)]: Done 100 out of 100 | elapsed:    0.0s finished\n",
      "[Parallel(n_jobs=-1)]: Using backend LokyBackend with 6 concurrent workers.\n",
      "[Parallel(n_jobs=-1)]: Done  56 tasks      | elapsed:    0.0s\n",
      "[Parallel(n_jobs=-1)]: Done 100 out of 100 | elapsed:    0.0s finished\n",
      "[Parallel(n_jobs=6)]: Using backend ThreadingBackend with 6 concurrent workers.\n",
      "[Parallel(n_jobs=6)]: Done  29 tasks      | elapsed:    0.0s\n",
      "[Parallel(n_jobs=6)]: Done 100 out of 100 | elapsed:    0.0s finished\n",
      "[Parallel(n_jobs=-1)]: Using backend LokyBackend with 6 concurrent workers.\n",
      "[Parallel(n_jobs=-1)]: Done  56 tasks      | elapsed:    0.0s\n",
      "[Parallel(n_jobs=-1)]: Done 100 out of 100 | elapsed:    0.0s finished\n",
      "[Parallel(n_jobs=6)]: Using backend ThreadingBackend with 6 concurrent workers.\n",
      "[Parallel(n_jobs=6)]: Done  29 tasks      | elapsed:    0.0s\n",
      "[Parallel(n_jobs=6)]: Done 100 out of 100 | elapsed:    0.0s finished\n",
      "[Parallel(n_jobs=-1)]: Using backend LokyBackend with 6 concurrent workers.\n",
      "[Parallel(n_jobs=-1)]: Done  56 tasks      | elapsed:    0.0s\n",
      "[Parallel(n_jobs=-1)]: Done 100 out of 100 | elapsed:    0.0s finished\n",
      "[Parallel(n_jobs=6)]: Using backend ThreadingBackend with 6 concurrent workers.\n",
      "[Parallel(n_jobs=6)]: Done  29 tasks      | elapsed:    0.0s\n",
      "[Parallel(n_jobs=6)]: Done 100 out of 100 | elapsed:    0.0s finished\n",
      "[Parallel(n_jobs=-1)]: Using backend ThreadingBackend with 6 concurrent workers.\n"
     ]
    },
    {
     "name": "stdout",
     "output_type": "stream",
     "text": [
      "building tree 1 of 150\n",
      "building tree 2 of 150building tree 3 of 150\n",
      "\n",
      "building tree 4 of 150building tree 5 of 150\n",
      "\n",
      "building tree 6 of 150\n",
      "building tree 7 of 150\n",
      "building tree 8 of 150\n",
      "building tree 9 of 150\n",
      "building tree 10 of 150\n",
      "building tree 11 of 150\n",
      "building tree 12 of 150\n",
      "building tree 13 of 150\n",
      "building tree 14 of 150\n",
      "building tree 15 of 150\n",
      "building tree 16 of 150\n",
      "building tree 17 of 150building tree 18 of 150\n",
      "\n",
      "building tree 19 of 150\n",
      "building tree 20 of 150\n",
      "building tree 21 of 150\n",
      "building tree 22 of 150\n",
      "building tree 23 of 150\n",
      "building tree 24 of 150\n",
      "building tree 25 of 150\n",
      "building tree 26 of 150\n",
      "building tree 27 of 150building tree 28 of 150\n",
      "\n",
      "building tree 29 of 150\n",
      "building tree 30 of 150\n",
      "building tree 31 of 150\n",
      "building tree 32 of 150building tree 33 of 150\n",
      "\n",
      "building tree 34 of 150building tree 35 of 150\n",
      "\n",
      "building tree 36 of 150\n",
      "building tree 37 of 150building tree 38 of 150\n",
      "\n",
      "building tree 39 of 150\n",
      "building tree 40 of 150\n",
      "building tree 41 of 150\n",
      "building tree 42 of 150\n",
      "building tree 43 of 150\n",
      "building tree 44 of 150\n",
      "building tree 45 of 150\n",
      "building tree 46 of 150\n",
      "building tree 47 of 150\n",
      "building tree 48 of 150\n",
      "building tree 49 of 150\n",
      "building tree 50 of 150\n",
      "building tree 51 of 150\n",
      "building tree 52 of 150\n",
      "building tree 53 of 150\n",
      "building tree 54 of 150\n",
      "building tree 55 of 150\n",
      "building tree 56 of 150\n",
      "building tree 57 of 150\n",
      "building tree 58 of 150\n",
      "building tree 59 of 150\n",
      "building tree 60 of 150\n",
      "building tree 61 of 150\n",
      "building tree 62 of 150\n",
      "building tree 63 of 150\n",
      "building tree 64 of 150\n",
      "building tree 65 of 150\n",
      "building tree 66 of 150\n",
      "building tree 67 of 150\n",
      "building tree 68 of 150\n",
      "building tree 69 of 150\n",
      "building tree 70 of 150\n",
      "building tree 71 of 150\n",
      "building tree 72 of 150\n",
      "building tree 73 of 150\n",
      "building tree 74 of 150\n",
      "building tree 75 of 150\n",
      "building tree 76 of 150\n",
      "building tree 77 of 150building tree 78 of 150\n",
      "\n",
      "building tree 79 of 150\n",
      "building tree 80 of 150\n",
      "building tree 81 of 150\n",
      "building tree 82 of 150\n",
      "building tree 83 of 150\n",
      "building tree 84 of 150\n",
      "building tree 85 of 150building tree 86 of 150\n",
      "\n",
      "building tree 87 of 150\n",
      "building tree 88 of 150\n",
      "building tree 89 of 150\n",
      "building tree 90 of 150\n",
      "building tree 91 of 150\n",
      "building tree 92 of 150\n",
      "building tree 93 of 150building tree 94 of 150\n",
      "\n",
      "building tree 95 of 150building tree 96 of 150\n",
      "\n",
      "building tree 97 of 150\n",
      "building tree 98 of 150\n",
      "building tree 99 of 150\n",
      "building tree 100 of 150\n",
      "building tree 101 of 150\n"
     ]
    },
    {
     "name": "stderr",
     "output_type": "stream",
     "text": [
      "[Parallel(n_jobs=-1)]: Done  29 tasks      | elapsed:    0.0s\n"
     ]
    },
    {
     "name": "stdout",
     "output_type": "stream",
     "text": [
      "building tree 102 of 150building tree 103 of 150\n",
      "\n",
      "building tree 104 of 150\n",
      "building tree 105 of 150building tree 106 of 150\n",
      "\n",
      "building tree 107 of 150\n",
      "building tree 108 of 150\n",
      "building tree 109 of 150\n",
      "building tree 110 of 150\n",
      "building tree 111 of 150\n",
      "building tree 112 of 150\n",
      "building tree 113 of 150\n",
      "building tree 114 of 150building tree 115 of 150\n",
      "\n",
      "building tree 116 of 150\n",
      "building tree 117 of 150\n",
      "building tree 118 of 150building tree 119 of 150\n",
      "\n",
      "building tree 120 of 150\n",
      "building tree 121 of 150\n",
      "building tree 122 of 150\n",
      "building tree 123 of 150building tree 124 of 150\n",
      "\n",
      "building tree 125 of 150\n",
      "building tree 126 of 150\n",
      "building tree 127 of 150\n",
      "building tree 128 of 150\n",
      "building tree 129 of 150\n",
      "building tree 130 of 150\n",
      "building tree 131 of 150\n",
      "building tree 132 of 150\n",
      "building tree 133 of 150\n",
      "building tree 134 of 150\n",
      "building tree 135 of 150\n",
      "building tree 136 of 150\n",
      "building tree 137 of 150\n",
      "building tree 138 of 150\n",
      "building tree 139 of 150\n",
      "building tree 140 of 150\n",
      "building tree 141 of 150\n",
      "building tree 142 of 150building tree 143 of 150\n",
      "\n",
      "building tree 144 of 150\n",
      "building tree 145 of 150\n",
      "building tree 146 of 150\n",
      "building tree 147 of 150\n",
      "building tree 148 of 150\n",
      "building tree 149 of 150\n",
      "building tree 150 of 150\n"
     ]
    },
    {
     "name": "stderr",
     "output_type": "stream",
     "text": [
      "[Parallel(n_jobs=-1)]: Done 150 out of 150 | elapsed:    0.2s finished\n",
      "[Parallel(n_jobs=6)]: Using backend ThreadingBackend with 6 concurrent workers.\n",
      "[Parallel(n_jobs=6)]: Done  29 tasks      | elapsed:    0.0s\n",
      "[Parallel(n_jobs=6)]: Done 150 out of 150 | elapsed:    0.0s finished\n"
     ]
    }
   ],
   "source": [
    "params = {'bootstrap': [True],\n",
    "               'criterion': ['mse', 'mae'],\n",
    "               'max_depth': [5, 7, 9, 12, 20, 30, 42],\n",
    "               'max_features': ['auto', 1/3],\n",
    "               'min_samples_leaf': [1, 2, 4],\n",
    "               'min_samples_split': [5, 10, 15],\n",
    "               'n_estimators': [100, 150, 200]}\n",
    "rfr = RandomForestRegressor(random_state=42, n_jobs=-1, verbose=2)\n",
    "grid_rfr = RandomizedSearchCV(rfr, params, cv=5, scoring='neg_mean_absolute_error')\n",
    "grid_rfr.fit(x_train, y_train)\n",
    "result_rfr = -1*grid_rfr.best_score_\n",
    "predict_rfr = grid_rfr.predict(x_test)"
   ]
  },
  {
   "cell_type": "code",
   "execution_count": 58,
   "metadata": {
    "pycharm": {
     "name": "#%%\n"
    }
   },
   "outputs": [],
   "source": [
    "mae_rfr = mean_absolute_error(y_test, predict_rfr)\n",
    "best_params_rfr = grid_rfr.best_params_"
   ]
  },
  {
   "cell_type": "code",
   "execution_count": 59,
   "metadata": {
    "pycharm": {
     "name": "#%%\n"
    }
   },
   "outputs": [
    {
     "data": {
      "text/plain": "{'n_estimators': 150,\n 'min_samples_split': 5,\n 'min_samples_leaf': 4,\n 'max_features': 'auto',\n 'max_depth': 12,\n 'criterion': 'mse',\n 'bootstrap': True}"
     },
     "execution_count": 59,
     "metadata": {},
     "output_type": "execute_result"
    }
   ],
   "source": [
    "# Наилучшие параметры\n",
    "best_params_rfr"
   ]
  },
  {
   "cell_type": "markdown",
   "metadata": {
    "pycharm": {
     "name": "#%% md\n"
    }
   },
   "source": [
    "MAE полученная при использовании модели RandomForestRegressor."
   ]
  },
  {
   "cell_type": "code",
   "execution_count": 60,
   "metadata": {
    "pycharm": {
     "name": "#%%\n"
    }
   },
   "outputs": [
    {
     "name": "stdout",
     "output_type": "stream",
     "text": [
      "MAE полученное на тренировочной выборке: 4.570262782585499\n",
      "MAE полученное на тестовой выборке: 4.526255469879407\n"
     ]
    }
   ],
   "source": [
    "print(f'MAE полученное на тренировочной выборке: {result_rfr}')\n",
    "print(f'MAE полученное на тестовой выборке: {mae_rfr}')"
   ]
  },
  {
   "cell_type": "markdown",
   "metadata": {
    "pycharm": {
     "name": "#%% md\n"
    }
   },
   "source": [
    "### Вторая модель LinearRegression"
   ]
  },
  {
   "cell_type": "code",
   "execution_count": 61,
   "metadata": {
    "pycharm": {
     "name": "#%%\n"
    }
   },
   "outputs": [],
   "source": [
    "params = {'normalize': [True, False]}\n",
    "lr = LinearRegression(n_jobs=-1)\n",
    "grid_lr = GridSearchCV(lr, params, cv=5, scoring='neg_mean_absolute_error')\n",
    "grid_lr.fit(x_train, y_train)\n",
    "result_lr = -1*grid_lr.best_score_\n",
    "predict_lr = grid_lr.predict(x_test)"
   ]
  },
  {
   "cell_type": "code",
   "execution_count": 62,
   "metadata": {
    "pycharm": {
     "name": "#%%\n"
    }
   },
   "outputs": [],
   "source": [
    "mae_lr = mean_absolute_error(y_test, predict_lr)\n",
    "best_params_lr = grid_lr.best_params_\n"
   ]
  },
  {
   "cell_type": "code",
   "execution_count": 63,
   "metadata": {
    "pycharm": {
     "name": "#%%\n"
    }
   },
   "outputs": [
    {
     "data": {
      "text/plain": "{'normalize': True}"
     },
     "execution_count": 63,
     "metadata": {},
     "output_type": "execute_result"
    }
   ],
   "source": [
    "# Наилучшие параметры\n",
    "best_params_lr\n"
   ]
  },
  {
   "cell_type": "markdown",
   "metadata": {
    "pycharm": {
     "name": "#%% md\n"
    }
   },
   "source": [
    "MAE полученная при использовании модели LinearRegression.\n"
   ]
  },
  {
   "cell_type": "code",
   "execution_count": 64,
   "metadata": {
    "pycharm": {
     "name": "#%%\n"
    }
   },
   "outputs": [
    {
     "name": "stdout",
     "output_type": "stream",
     "text": [
      "MAE полученное на тренировочной выборке: 5.699620008075283\n",
      "MAE полученное на тестовой выборке: 6.096504543012133\n"
     ]
    }
   ],
   "source": [
    "print(f'MAE полученное на тренировочной выборке: {result_lr}')\n",
    "print(f'MAE полученное на тестовой выборке: {mae_lr}')\n"
   ]
  },
  {
   "cell_type": "markdown",
   "metadata": {
    "pycharm": {
     "name": "#%% md\n"
    }
   },
   "source": [
    "### Третья модель CatBoostRegressor"
   ]
  },
  {
   "cell_type": "code",
   "execution_count": 65,
   "metadata": {
    "pycharm": {
     "name": "#%%\n"
    }
   },
   "outputs": [
    {
     "name": "stdout",
     "output_type": "stream",
     "text": [
      "0:\tlearn: 7.9721468\ttest: 8.0360367\tbest: 8.0360367 (0)\ttotal: 141ms\tremaining: 11m 42s\n",
      "100:\tlearn: 5.2967270\ttest: 5.6165278\tbest: 5.6165278 (100)\ttotal: 222ms\tremaining: 10.8s\n",
      "200:\tlearn: 4.7110941\ttest: 5.1334856\tbest: 5.1334856 (200)\ttotal: 290ms\tremaining: 6.92s\n",
      "300:\tlearn: 4.3608067\ttest: 4.8693319\tbest: 4.8693319 (300)\ttotal: 358ms\tremaining: 5.59s\n",
      "400:\tlearn: 4.1070111\ttest: 4.7165364\tbest: 4.7165364 (400)\ttotal: 436ms\tremaining: 5s\n",
      "500:\tlearn: 3.9363604\ttest: 4.6304021\tbest: 4.6304021 (500)\ttotal: 514ms\tremaining: 4.61s\n",
      "600:\tlearn: 3.8017671\ttest: 4.5538278\tbest: 4.5533400 (599)\ttotal: 587ms\tremaining: 4.29s\n",
      "700:\tlearn: 3.6960382\ttest: 4.4983359\tbest: 4.4983359 (700)\ttotal: 664ms\tremaining: 4.07s\n",
      "800:\tlearn: 3.6247134\ttest: 4.4715084\tbest: 4.4707546 (795)\ttotal: 737ms\tremaining: 3.87s\n",
      "900:\tlearn: 3.5489855\ttest: 4.4430248\tbest: 4.4430248 (900)\ttotal: 812ms\tremaining: 3.69s\n",
      "1000:\tlearn: 3.4838097\ttest: 4.4115546\tbest: 4.4106651 (999)\ttotal: 889ms\tremaining: 3.55s\n",
      "1100:\tlearn: 3.4349842\ttest: 4.3971440\tbest: 4.3971440 (1100)\ttotal: 963ms\tremaining: 3.41s\n",
      "1200:\tlearn: 3.3850147\ttest: 4.3829804\tbest: 4.3828737 (1198)\ttotal: 1.04s\tremaining: 3.29s\n",
      "1300:\tlearn: 3.3377275\ttest: 4.3665754\tbest: 4.3665754 (1300)\ttotal: 1.12s\tremaining: 3.18s\n",
      "1400:\tlearn: 3.2924430\ttest: 4.3523658\tbest: 4.3523011 (1399)\ttotal: 1.19s\tremaining: 3.06s\n",
      "1500:\tlearn: 3.2614277\ttest: 4.3377490\tbest: 4.3376310 (1498)\ttotal: 1.26s\tremaining: 2.95s\n",
      "1600:\tlearn: 3.2247045\ttest: 4.3289776\tbest: 4.3288327 (1593)\ttotal: 1.34s\tremaining: 2.84s\n",
      "1700:\tlearn: 3.1933295\ttest: 4.3195007\tbest: 4.3195007 (1700)\ttotal: 1.41s\tremaining: 2.73s\n",
      "1800:\tlearn: 3.1655853\ttest: 4.3121460\tbest: 4.3120969 (1799)\ttotal: 1.48s\tremaining: 2.63s\n",
      "1900:\tlearn: 3.1387102\ttest: 4.3085468\tbest: 4.3076672 (1859)\ttotal: 1.55s\tremaining: 2.54s\n",
      "2000:\tlearn: 3.1143118\ttest: 4.2965675\tbest: 4.2965675 (2000)\ttotal: 1.64s\tremaining: 2.46s\n",
      "2100:\tlearn: 3.0897285\ttest: 4.2954267\tbest: 4.2942474 (2059)\ttotal: 1.72s\tremaining: 2.37s\n",
      "2200:\tlearn: 3.0670950\ttest: 4.2936066\tbest: 4.2929412 (2194)\ttotal: 1.8s\tremaining: 2.29s\n",
      "2300:\tlearn: 3.0451726\ttest: 4.2911919\tbest: 4.2911919 (2300)\ttotal: 1.88s\tremaining: 2.2s\n",
      "2400:\tlearn: 3.0272190\ttest: 4.2869102\tbest: 4.2864730 (2381)\ttotal: 1.95s\tremaining: 2.11s\n",
      "2500:\tlearn: 3.0094002\ttest: 4.2825102\tbest: 4.2820875 (2496)\ttotal: 2.03s\tremaining: 2.02s\n",
      "2600:\tlearn: 2.9911752\ttest: 4.2792202\tbest: 4.2792202 (2600)\ttotal: 2.1s\tremaining: 1.94s\n",
      "2700:\tlearn: 2.9751451\ttest: 4.2786205\tbest: 4.2775165 (2689)\ttotal: 2.17s\tremaining: 1.85s\n",
      "2800:\tlearn: 2.9635286\ttest: 4.2791138\tbest: 4.2775165 (2689)\ttotal: 2.25s\tremaining: 1.77s\n",
      "2900:\tlearn: 2.9494143\ttest: 4.2730953\tbest: 4.2730953 (2900)\ttotal: 2.32s\tremaining: 1.68s\n",
      "3000:\tlearn: 2.9367271\ttest: 4.2729434\tbest: 4.2711035 (2957)\ttotal: 2.39s\tremaining: 1.59s\n",
      "3100:\tlearn: 2.9259549\ttest: 4.2729124\tbest: 4.2711035 (2957)\ttotal: 2.46s\tremaining: 1.51s\n",
      "3200:\tlearn: 2.9099088\ttest: 4.2719343\tbest: 4.2710245 (3147)\ttotal: 2.53s\tremaining: 1.42s\n",
      "3300:\tlearn: 2.8967556\ttest: 4.2708000\tbest: 4.2701304 (3266)\ttotal: 2.6s\tremaining: 1.34s\n",
      "3400:\tlearn: 2.8831266\ttest: 4.2680687\tbest: 4.2680687 (3400)\ttotal: 2.68s\tremaining: 1.26s\n",
      "3500:\tlearn: 2.8718772\ttest: 4.2642250\tbest: 4.2641963 (3499)\ttotal: 2.76s\tremaining: 1.18s\n",
      "3600:\tlearn: 2.8631193\ttest: 4.2612125\tbest: 4.2612125 (3600)\ttotal: 2.83s\tremaining: 1.1s\n",
      "3700:\tlearn: 2.8533403\ttest: 4.2594189\tbest: 4.2593015 (3680)\ttotal: 2.91s\tremaining: 1.02s\n",
      "3800:\tlearn: 2.8408461\ttest: 4.2565018\tbest: 4.2563139 (3795)\ttotal: 2.98s\tremaining: 940ms\n",
      "3900:\tlearn: 2.8281701\ttest: 4.2541828\tbest: 4.2541828 (3900)\ttotal: 3.05s\tremaining: 860ms\n",
      "4000:\tlearn: 2.8196224\ttest: 4.2502286\tbest: 4.2497652 (3989)\ttotal: 3.14s\tremaining: 785ms\n",
      "4100:\tlearn: 2.8101756\ttest: 4.2500134\tbest: 4.2496444 (4028)\ttotal: 3.22s\tremaining: 705ms\n",
      "4200:\tlearn: 2.7995232\ttest: 4.2500670\tbest: 4.2491730 (4111)\ttotal: 3.32s\tremaining: 632ms\n",
      "4300:\tlearn: 2.7898869\ttest: 4.2500908\tbest: 4.2491730 (4111)\ttotal: 3.42s\tremaining: 556ms\n",
      "4400:\tlearn: 2.7798820\ttest: 4.2484781\tbest: 4.2481926 (4364)\ttotal: 3.5s\tremaining: 477ms\n",
      "4500:\tlearn: 2.7677716\ttest: 4.2488829\tbest: 4.2471518 (4438)\ttotal: 3.58s\tremaining: 397ms\n",
      "4600:\tlearn: 2.7566273\ttest: 4.2470857\tbest: 4.2468978 (4562)\ttotal: 3.65s\tremaining: 316ms\n",
      "4700:\tlearn: 2.7485874\ttest: 4.2466959\tbest: 4.2465535 (4693)\ttotal: 3.71s\tremaining: 236ms\n",
      "4800:\tlearn: 2.7400693\ttest: 4.2477020\tbest: 4.2457822 (4717)\ttotal: 3.78s\tremaining: 157ms\n",
      "4900:\tlearn: 2.7313825\ttest: 4.2478080\tbest: 4.2457822 (4717)\ttotal: 3.87s\tremaining: 78.1ms\n",
      "4999:\tlearn: 2.7233734\ttest: 4.2470597\tbest: 4.2457822 (4717)\ttotal: 3.95s\tremaining: 0us\n",
      "\n",
      "bestTest = 4.24578224\n",
      "bestIteration = 4717\n",
      "\n",
      "Shrink model to first 4718 iterations.\n"
     ]
    },
    {
     "data": {
      "text/plain": "<catboost.core.CatBoostRegressor at 0x1ac509e3580>"
     },
     "execution_count": 65,
     "metadata": {},
     "output_type": "execute_result"
    }
   ],
   "source": [
    "model = CatBoostRegressor(iterations=5000, depth=3, loss_function='MAE', verbose=100)\n",
    "model.fit(x_train,y_train, eval_set=(x_test,y_test))"
   ]
  },
  {
   "cell_type": "code",
   "execution_count": 66,
   "metadata": {
    "pycharm": {
     "name": "#%%\n"
    }
   },
   "outputs": [],
   "source": [
    "cat_predict = model.predict(x_test)\n",
    "mae_cat = mean_absolute_error(y_test, cat_predict)"
   ]
  },
  {
   "cell_type": "code",
   "execution_count": 67,
   "metadata": {
    "pycharm": {
     "name": "#%%\n"
    }
   },
   "outputs": [
    {
     "name": "stdout",
     "output_type": "stream",
     "text": [
      "MAE полученное на тестовой выборке: 4.245783239894193\n"
     ]
    }
   ],
   "source": [
    "print(f'MAE полученное на тестовой выборке: {mae_cat}')"
   ]
  },
  {
   "cell_type": "markdown",
   "metadata": {
    "pycharm": {
     "name": "#%% md\n"
    }
   },
   "source": [
    "## Выбор лучшей модели"
   ]
  },
  {
   "cell_type": "code",
   "execution_count": 68,
   "metadata": {
    "pycharm": {
     "name": "#%%\n"
    }
   },
   "outputs": [
    {
     "data": {
      "text/plain": "                            MAE\nRandomForestRegressor  4.526255\nLinearRegression       6.096505\nCatBoostRegressor      4.245783",
      "text/html": "<div>\n<style scoped>\n    .dataframe tbody tr th:only-of-type {\n        vertical-align: middle;\n    }\n\n    .dataframe tbody tr th {\n        vertical-align: top;\n    }\n\n    .dataframe thead th {\n        text-align: right;\n    }\n</style>\n<table border=\"1\" class=\"dataframe\">\n  <thead>\n    <tr style=\"text-align: right;\">\n      <th></th>\n      <th>MAE</th>\n    </tr>\n  </thead>\n  <tbody>\n    <tr>\n      <th>RandomForestRegressor</th>\n      <td>4.526255</td>\n    </tr>\n    <tr>\n      <th>LinearRegression</th>\n      <td>6.096505</td>\n    </tr>\n    <tr>\n      <th>CatBoostRegressor</th>\n      <td>4.245783</td>\n    </tr>\n  </tbody>\n</table>\n</div>"
     },
     "execution_count": 68,
     "metadata": {},
     "output_type": "execute_result"
    }
   ],
   "source": [
    "table = pd.DataFrame(index=['RandomForestRegressor','LinearRegression','CatBoostRegressor'], columns=['MAE'])\n",
    "table['MAE'] = mae_rfr,mae_lr,mae_cat\n",
    "\n",
    "table"
   ]
  },
  {
   "cell_type": "markdown",
   "metadata": {},
   "source": [
    "Две модели показали примерно одинаковый результат, но третья модель обучается куда быстрее чем первая, поэтому далее\n",
    " работаем с CatBoostRegressor."
   ]
  },
  {
   "cell_type": "markdown",
   "metadata": {},
   "source": [
    "## Важность факторов (feature importance)"
   ]
  },
  {
   "cell_type": "code",
   "execution_count": 69,
   "metadata": {
    "pycharm": {
     "name": "#%%\n"
    }
   },
   "outputs": [],
   "source": [
    "importances = model.feature_importances_\n",
    "std = np.std([model.feature_importances_],\n",
    "             axis=0)\n",
    "indices = np.argsort(importances)\n",
    "feature_names = model.feature_names_"
   ]
  },
  {
   "cell_type": "code",
   "execution_count": 70,
   "metadata": {
    "pycharm": {
     "name": "#%%\n"
    }
   },
   "outputs": [
    {
     "data": {
      "text/plain": "<Figure size 864x576 with 1 Axes>",
      "image/png": "[encoded data removed]"
     },
     "metadata": {},
     "output_type": "display_data"
    }
   ],
   "source": [
    "plt.figure()\n",
    "plt.title(\"Feature importances\")\n",
    "plt.barh(range(x.shape[1]), importances[indices],\n",
    "       color=\"pink\", xerr=std[indices], align=\"center\")\n",
    "# If you want to define your own labels,\n",
    "# change indices to a list of labels on the following line.\n",
    "plt.yticks(range(x.shape[1]), [feature_names[i] for i in indices])\n",
    "plt.ylim([-1, x.shape[1]])\n",
    "plt.show()"
   ]
  },
  {
   "cell_type": "markdown",
   "metadata": {
    "pycharm": {
     "name": "#%% md\n"
    }
   },
   "source": [
    "Мы помним, что у нас были довольно сильно скоррелированы признаки `Суммарное время нагрева в секундах` и\n",
    "`Количество запусков нагрева`(0.799038). Мы видим, что для модели более важным признаком является первый из\n",
    "перечисленных, второй же почти незначим. Избавимся на него и посмотрим на итоговую метрику."
   ]
  },
  {
   "cell_type": "code",
   "execution_count": 71,
   "metadata": {
    "pycharm": {
     "name": "#%%\n"
    }
   },
   "outputs": [],
   "source": [
    "x_train = x_train.drop(columns=['Количество запусков нагрева', 'Wire_other', 'Bulk 3', 'Bulk 4', 'Bulk_other', 'Газ 1', 'Bulk 15'])\n",
    "x_test = x_test.drop(columns=['Количество запусков нагрева', 'Wire_other', 'Bulk 3', 'Bulk 4', 'Bulk_other', 'Газ 1', 'Bulk 15'])"
   ]
  },
  {
   "cell_type": "code",
   "execution_count": 72,
   "metadata": {
    "pycharm": {
     "name": "#%%\n"
    }
   },
   "outputs": [
    {
     "name": "stdout",
     "output_type": "stream",
     "text": [
      "0:\tlearn: 7.9582464\ttest: 8.0192100\tbest: 8.0192100 (0)\ttotal: 739us\tremaining: 3.7s\n",
      "100:\tlearn: 5.2835728\ttest: 5.5799771\tbest: 5.5799771 (100)\ttotal: 61.9ms\tremaining: 3s\n",
      "200:\tlearn: 4.6892637\ttest: 5.0712613\tbest: 5.0712613 (200)\ttotal: 154ms\tremaining: 3.68s\n",
      "300:\tlearn: 4.3371391\ttest: 4.7944917\tbest: 4.7944917 (300)\ttotal: 234ms\tremaining: 3.65s\n",
      "400:\tlearn: 4.0934406\ttest: 4.6253213\tbest: 4.6247967 (399)\ttotal: 302ms\tremaining: 3.47s\n",
      "500:\tlearn: 3.9320542\ttest: 4.5375637\tbest: 4.5375637 (500)\ttotal: 364ms\tremaining: 3.27s\n",
      "600:\tlearn: 3.8185514\ttest: 4.4812729\tbest: 4.4810759 (598)\ttotal: 426ms\tremaining: 3.12s\n",
      "700:\tlearn: 3.7308960\ttest: 4.4387026\tbest: 4.4387026 (700)\ttotal: 486ms\tremaining: 2.98s\n",
      "800:\tlearn: 3.6560890\ttest: 4.4077814\tbest: 4.4076751 (799)\ttotal: 548ms\tremaining: 2.87s\n",
      "900:\tlearn: 3.5876123\ttest: 4.3908434\tbest: 4.3908434 (900)\ttotal: 619ms\tremaining: 2.81s\n",
      "1000:\tlearn: 3.5279819\ttest: 4.3746263\tbest: 4.3745043 (999)\ttotal: 760ms\tremaining: 3.04s\n",
      "1100:\tlearn: 3.4731421\ttest: 4.3593391\tbest: 4.3593391 (1100)\ttotal: 831ms\tremaining: 2.94s\n",
      "1200:\tlearn: 3.4262370\ttest: 4.3432943\tbest: 4.3432418 (1199)\ttotal: 893ms\tremaining: 2.82s\n",
      "1300:\tlearn: 3.3842349\ttest: 4.3313675\tbest: 4.3308320 (1288)\ttotal: 955ms\tremaining: 2.72s\n",
      "1400:\tlearn: 3.3457639\ttest: 4.3126698\tbest: 4.3126372 (1396)\ttotal: 1.03s\tremaining: 2.65s\n",
      "1500:\tlearn: 3.3123298\ttest: 4.3006287\tbest: 4.3005070 (1498)\ttotal: 1.1s\tremaining: 2.56s\n",
      "1600:\tlearn: 3.2751937\ttest: 4.2921398\tbest: 4.2919889 (1599)\ttotal: 1.16s\tremaining: 2.46s\n",
      "1700:\tlearn: 3.2470522\ttest: 4.2890486\tbest: 4.2886687 (1696)\ttotal: 1.22s\tremaining: 2.37s\n",
      "1800:\tlearn: 3.2247359\ttest: 4.2816846\tbest: 4.2808285 (1780)\ttotal: 1.28s\tremaining: 2.28s\n",
      "1900:\tlearn: 3.1985462\ttest: 4.2687216\tbest: 4.2687216 (1900)\ttotal: 1.35s\tremaining: 2.2s\n",
      "2000:\tlearn: 3.1728860\ttest: 4.2606780\tbest: 4.2596634 (1985)\ttotal: 1.41s\tremaining: 2.11s\n",
      "2100:\tlearn: 3.1493053\ttest: 4.2538805\tbest: 4.2536678 (2094)\ttotal: 1.47s\tremaining: 2.03s\n",
      "2200:\tlearn: 3.1266947\ttest: 4.2475813\tbest: 4.2474567 (2199)\ttotal: 1.53s\tremaining: 1.95s\n",
      "2300:\tlearn: 3.1054090\ttest: 4.2384080\tbest: 4.2384080 (2300)\ttotal: 1.59s\tremaining: 1.87s\n",
      "2400:\tlearn: 3.0860261\ttest: 4.2290132\tbest: 4.2290054 (2395)\ttotal: 1.65s\tremaining: 1.79s\n",
      "2500:\tlearn: 3.0670418\ttest: 4.2206990\tbest: 4.2206990 (2500)\ttotal: 1.71s\tremaining: 1.71s\n",
      "2600:\tlearn: 3.0462584\ttest: 4.2176249\tbest: 4.2176201 (2599)\ttotal: 1.77s\tremaining: 1.64s\n",
      "2700:\tlearn: 3.0346859\ttest: 4.2132669\tbest: 4.2126514 (2677)\ttotal: 1.83s\tremaining: 1.56s\n",
      "2800:\tlearn: 3.0195933\ttest: 4.2109448\tbest: 4.2098280 (2787)\ttotal: 1.89s\tremaining: 1.49s\n",
      "2900:\tlearn: 3.0052754\ttest: 4.2095046\tbest: 4.2092271 (2890)\ttotal: 1.95s\tremaining: 1.41s\n",
      "3000:\tlearn: 2.9902945\ttest: 4.2068037\tbest: 4.2051879 (2968)\ttotal: 2.01s\tremaining: 1.34s\n",
      "3100:\tlearn: 2.9773100\ttest: 4.2073289\tbest: 4.2051879 (2968)\ttotal: 2.07s\tremaining: 1.27s\n",
      "3200:\tlearn: 2.9652104\ttest: 4.2060214\tbest: 4.2051879 (2968)\ttotal: 2.13s\tremaining: 1.2s\n",
      "3300:\tlearn: 2.9521419\ttest: 4.2040547\tbest: 4.2028027 (3285)\ttotal: 2.19s\tremaining: 1.13s\n",
      "3400:\tlearn: 2.9380683\ttest: 4.2036924\tbest: 4.2028027 (3285)\ttotal: 2.26s\tremaining: 1.06s\n",
      "3500:\tlearn: 2.9240839\ttest: 4.2034261\tbest: 4.2028027 (3285)\ttotal: 2.33s\tremaining: 1000ms\n",
      "3600:\tlearn: 2.9109058\ttest: 4.2031473\tbest: 4.2028027 (3285)\ttotal: 2.4s\tremaining: 931ms\n",
      "3700:\tlearn: 2.8997770\ttest: 4.2068573\tbest: 4.2028027 (3285)\ttotal: 2.46s\tremaining: 863ms\n",
      "3800:\tlearn: 2.8905571\ttest: 4.2066552\tbest: 4.2028027 (3285)\ttotal: 2.52s\tremaining: 794ms\n",
      "3900:\tlearn: 2.8797002\ttest: 4.2056899\tbest: 4.2028027 (3285)\ttotal: 2.58s\tremaining: 726ms\n",
      "4000:\tlearn: 2.8705147\ttest: 4.2036829\tbest: 4.2028027 (3285)\ttotal: 2.63s\tremaining: 658ms\n",
      "4100:\tlearn: 2.8608245\ttest: 4.2010209\tbest: 4.2008691 (4098)\ttotal: 2.7s\tremaining: 591ms\n",
      "4200:\tlearn: 2.8497696\ttest: 4.1989787\tbest: 4.1989583 (4196)\ttotal: 2.76s\tremaining: 525ms\n",
      "4300:\tlearn: 2.8399172\ttest: 4.1988596\tbest: 4.1979136 (4249)\ttotal: 2.82s\tremaining: 458ms\n",
      "4400:\tlearn: 2.8303641\ttest: 4.1943554\tbest: 4.1942366 (4397)\ttotal: 2.89s\tremaining: 393ms\n",
      "4500:\tlearn: 2.8225429\ttest: 4.1912883\tbest: 4.1912883 (4500)\ttotal: 2.95s\tremaining: 327ms\n",
      "4600:\tlearn: 2.8123499\ttest: 4.1882173\tbest: 4.1874457 (4575)\ttotal: 3.01s\tremaining: 261ms\n",
      "4700:\tlearn: 2.8049706\ttest: 4.1888796\tbest: 4.1874457 (4575)\ttotal: 3.07s\tremaining: 195ms\n",
      "4800:\tlearn: 2.7982935\ttest: 4.1885766\tbest: 4.1874457 (4575)\ttotal: 3.14s\tremaining: 130ms\n",
      "4900:\tlearn: 2.7925940\ttest: 4.1871700\tbest: 4.1869677 (4896)\ttotal: 3.2s\tremaining: 64.7ms\n",
      "4999:\tlearn: 2.7867706\ttest: 4.1860878\tbest: 4.1860878 (4999)\ttotal: 3.26s\tremaining: 0us\n",
      "\n",
      "bestTest = 4.186087778\n",
      "bestIteration = 4999\n",
      "\n"
     ]
    }
   ],
   "source": [
    "model = CatBoostRegressor(iterations=5000, depth=3, loss_function='MAE', verbose=100)\n",
    "model.fit(x_train, y_train, eval_set=(x_test,y_test))\n",
    "cat_predict=model.predict(x_test)"
   ]
  },
  {
   "cell_type": "markdown",
   "source": [
    "## Вывод\n"
   ],
   "metadata": {
    "collapsed": false,
    "pycharm": {
     "name": "#%% md\n"
    }
   }
  },
  {
   "cell_type": "markdown",
   "source": [
    "Мы добились требуемого результата сразу на трех моделях. Линейная регрессия показала себя хуже всех, тем не менее\n",
    " удалось достигнуть mae ~ 6. Лучшими моделями оказались CatBoost и случайный лес. Выбрали модель CatBoost из-за скорости\n",
    " обучения. Построили график важности факторов. Благодаря графику смогли избавиться от мультиколлинеарности путем\n",
    " удаления менее значимого скорелированного признака. Также удалили незначимые признаки, благодаря чему получили прирост\n",
    " требуемой метрики. Итоговое значение mae ~ 4.18"
   ],
   "metadata": {
    "collapsed": false,
    "pycharm": {
     "name": "#%% md\n"
    }
   }
  },
  {
   "cell_type": "markdown",
   "source": [
    "## Отчет по решению"
   ],
   "metadata": {
    "collapsed": false,
    "pycharm": {
     "name": "#%% md\n"
    }
   }
  },
  {
   "cell_type": "markdown",
   "source": [
    "Представленный план работы был выполнен в полном объеме. В результате проделанной работы нам удалось:\n",
    "\n",
    "- Изучить полученные данные\n",
    "    - избавиться от выбросов в данных;\n",
    "    - построить распределение мощностей;\n",
    "    - заменить сильнокоррелирующие между собой мощности на полную мощность по формуле;\n",
    "- Произвести расчет дополнительных значений\n",
    "    - вычислили суммарное время нагрева электродами;\n",
    "    - рассчитали количество запусков нагрева электродами;\n",
    "    - добавили отдельную группу в данные о подаче для редких сыпучих материалов;\n",
    "    - вычислили первую и последнюю температуры при замерах\n",
    "        - удалили записи с пропущенными значениями (т.к. конечная температура -- целевой признак);\n",
    "    - объединили данные о редких проволочных материалов в одну группу;\n",
    "    - заменили пропущенные значения нулями там, где это было возможно (см. пункт о температуре)\n",
    "- Получили итоговую таблицу\n",
    "    - соединили промежуточные таблицы в одну итоговую;\n",
    "    - удалили записи содержащие NaN значения;\n",
    "    - перевели время между замерами и суммарное время нагрева электродами в секунды;\n",
    "    - удалили признаки формата datetime;\n",
    "    - построили матрицу корреляций;\n",
    "- Составили план моделирования\n",
    "- Провели моделирование\n",
    "    - разделили данные на тренировочную и тестовую выборки\n",
    "        - убедились в правильности распределения и размерах выборок;\n",
    "    - обучили модель RandomForestRegressor(mae <5)\n",
    "        - вывели набор лучших гиперпараметров при рандомсерче;\n",
    "        - вывели mae полученное на выборках;\n",
    "    - обучили модель LinearRegression(mae ~6)\n",
    "        CatBoostRegressor\n",
    "    - обучили модель CatBoostRegressor(mae <5)\n",
    "        - вывели mae полученное на выборках;\n",
    "- Выбрали наилучшую модель (в нашем случае, таких оказалось две, выбрали CatBoostRegressor)\n",
    "    - построили график важности факторов(feature importance);\n",
    "    - избавились от мультиколлинеарности путем удаления менее значимого скорелированного признака;\n",
    "    - так же удалили наименее значимые признаки, для улучшения метрики;\n",
    "    - повторно вычислили метрику на измененном наборе данных;\n",
    "\n",
    "Основная задача компании -- уменьшение потребления электроэнергии на этапе обработки стали. К сожалению мы не можем\n",
    "повлиять на это напрямую. Перед нами стояла задача предсказания конечной температуры сплава.\n",
    " Судя по результатам, самые значимые признаки -- первоначальная температура стали,\n",
    " суммарное время нагрева в секундах, средняя полная мощность.\n"
   ],
   "metadata": {
    "collapsed": false,
    "pycharm": {
     "name": "#%% md\n"
    }
   }
  }
 ],
 "metadata": {
  "ExecuteTimeLog": [
   {
    "duration": 722,
    "start_time": "2021-06-29T15:16:35.478Z"
   },
   {
    "duration": 57,
    "start_time": "2021-06-29T15:17:42.510Z"
   },
   {
    "duration": 23,
    "start_time": "2021-06-29T15:17:47.926Z"
   },
   {
    "duration": 52,
    "start_time": "2021-06-29T15:18:46.056Z"
   },
   {
    "duration": 13,
    "start_time": "2021-06-29T15:18:46.929Z"
   },
   {
    "duration": 89,
    "start_time": "2021-06-29T15:20:28.130Z"
   },
   {
    "duration": 192,
    "start_time": "2021-06-29T15:20:47.752Z"
   },
   {
    "duration": 21,
    "start_time": "2021-06-29T15:21:15.644Z"
   },
   {
    "duration": 27,
    "start_time": "2021-06-29T15:23:58.791Z"
   },
   {
    "duration": 26,
    "start_time": "2021-06-29T15:24:33.166Z"
   },
   {
    "duration": 15,
    "start_time": "2021-06-29T15:25:23.887Z"
   },
   {
    "duration": 15,
    "start_time": "2021-06-29T15:25:50.673Z"
   },
   {
    "duration": 19,
    "start_time": "2021-06-29T15:26:16.179Z"
   },
   {
    "duration": 21,
    "start_time": "2021-06-29T15:26:39.593Z"
   },
   {
    "duration": 15,
    "start_time": "2021-06-29T15:27:27.504Z"
   },
   {
    "duration": 11,
    "start_time": "2021-06-29T15:27:39.516Z"
   },
   {
    "duration": 10,
    "start_time": "2021-06-29T15:27:58.199Z"
   },
   {
    "duration": 12,
    "start_time": "2021-06-29T15:28:11.486Z"
   },
   {
    "duration": 8,
    "start_time": "2021-06-29T15:28:16.615Z"
   },
   {
    "duration": 9,
    "start_time": "2021-06-29T15:28:24.316Z"
   },
   {
    "duration": 9,
    "start_time": "2021-06-29T15:28:32.037Z"
   },
   {
    "duration": 10,
    "start_time": "2021-06-29T15:28:39.288Z"
   },
   {
    "duration": 330,
    "start_time": "2021-06-29T15:29:27.914Z"
   },
   {
    "duration": 299,
    "start_time": "2021-06-29T15:30:10.977Z"
   },
   {
    "duration": 258,
    "start_time": "2021-06-29T15:31:00.982Z"
   },
   {
    "duration": 276,
    "start_time": "2021-06-29T15:31:20.690Z"
   },
   {
    "duration": 273,
    "start_time": "2021-06-29T15:31:44.194Z"
   },
   {
    "duration": 265,
    "start_time": "2021-06-29T15:31:59.554Z"
   },
   {
    "duration": 202,
    "start_time": "2021-06-29T15:34:47.691Z"
   },
   {
    "duration": 16,
    "start_time": "2021-06-29T15:34:49.314Z"
   },
   {
    "duration": 8,
    "start_time": "2021-06-29T15:34:52.047Z"
   },
   {
    "duration": 191,
    "start_time": "2021-06-29T15:35:07.287Z"
   },
   {
    "duration": 16,
    "start_time": "2021-06-29T15:35:09.259Z"
   },
   {
    "duration": 10,
    "start_time": "2021-06-29T15:35:10.507Z"
   },
   {
    "duration": 9,
    "start_time": "2021-06-29T15:35:11.676Z"
   },
   {
    "duration": 17,
    "start_time": "2021-06-29T15:35:14.369Z"
   },
   {
    "duration": 197,
    "start_time": "2021-06-29T15:35:15.989Z"
   },
   {
    "duration": 17,
    "start_time": "2021-06-29T15:35:16.421Z"
   },
   {
    "duration": 10,
    "start_time": "2021-06-29T15:35:16.828Z"
   },
   {
    "duration": 398,
    "start_time": "2021-06-29T15:38:22.475Z"
   },
   {
    "duration": 199,
    "start_time": "2021-06-29T15:38:28.717Z"
   },
   {
    "duration": 14,
    "start_time": "2021-06-29T15:38:34.966Z"
   },
   {
    "duration": 8,
    "start_time": "2021-06-29T15:38:37.095Z"
   },
   {
    "duration": 4,
    "start_time": "2021-06-29T15:38:57.205Z"
   },
   {
    "duration": 206,
    "start_time": "2021-06-29T15:38:57.211Z"
   },
   {
    "duration": 16,
    "start_time": "2021-06-29T15:38:57.420Z"
   },
   {
    "duration": 14,
    "start_time": "2021-06-29T15:38:57.438Z"
   },
   {
    "duration": 30,
    "start_time": "2021-06-29T15:38:57.454Z"
   },
   {
    "duration": 10,
    "start_time": "2021-06-29T15:38:57.486Z"
   },
   {
    "duration": 28,
    "start_time": "2021-06-29T15:38:57.498Z"
   },
   {
    "duration": 38,
    "start_time": "2021-06-29T15:38:57.528Z"
   },
   {
    "duration": 12,
    "start_time": "2021-06-29T15:38:57.570Z"
   },
   {
    "duration": 14,
    "start_time": "2021-06-29T15:38:57.584Z"
   },
   {
    "duration": 13,
    "start_time": "2021-06-29T15:38:57.601Z"
   },
   {
    "duration": 40,
    "start_time": "2021-06-29T15:38:57.617Z"
   },
   {
    "duration": 30,
    "start_time": "2021-06-29T15:38:57.659Z"
   },
   {
    "duration": 14,
    "start_time": "2021-06-29T15:38:57.691Z"
   },
   {
    "duration": 21,
    "start_time": "2021-06-29T15:38:57.708Z"
   },
   {
    "duration": 32,
    "start_time": "2021-06-29T15:38:57.731Z"
   },
   {
    "duration": 698,
    "start_time": "2021-06-29T15:40:13.402Z"
   },
   {
    "duration": 81,
    "start_time": "2021-06-29T15:41:01.382Z"
   },
   {
    "duration": 301,
    "start_time": "2021-06-29T15:41:05.957Z"
   },
   {
    "duration": 26,
    "start_time": "2021-06-29T15:41:23.884Z"
   },
   {
    "duration": 249,
    "start_time": "2021-06-29T15:42:00.587Z"
   },
   {
    "duration": 255,
    "start_time": "2021-06-29T15:42:06.357Z"
   },
   {
    "duration": 240,
    "start_time": "2021-06-29T15:42:14.051Z"
   },
   {
    "duration": 260,
    "start_time": "2021-06-29T15:43:17.238Z"
   },
   {
    "duration": 261,
    "start_time": "2021-06-29T15:43:21.607Z"
   },
   {
    "duration": 266,
    "start_time": "2021-06-29T15:43:36.156Z"
   },
   {
    "duration": 319,
    "start_time": "2021-06-29T15:44:05.482Z"
   },
   {
    "duration": 317,
    "start_time": "2021-06-29T15:44:32.898Z"
   },
   {
    "duration": 376,
    "start_time": "2021-06-29T15:44:40.803Z"
   },
   {
    "duration": 347,
    "start_time": "2021-06-29T15:44:47.022Z"
   },
   {
    "duration": 304,
    "start_time": "2021-06-29T15:44:51.955Z"
   },
   {
    "duration": 352,
    "start_time": "2021-06-29T15:44:56.672Z"
   },
   {
    "duration": 376,
    "start_time": "2021-06-29T15:45:33.166Z"
   },
   {
    "duration": 7,
    "start_time": "2021-06-29T15:47:19.191Z"
   },
   {
    "duration": 9,
    "start_time": "2021-06-29T15:47:28.702Z"
   },
   {
    "duration": 31,
    "start_time": "2021-06-29T15:47:39.357Z"
   },
   {
    "duration": 7,
    "start_time": "2021-06-29T15:48:15.049Z"
   },
   {
    "duration": 30,
    "start_time": "2021-06-29T15:48:15.996Z"
   },
   {
    "duration": 29,
    "start_time": "2021-06-29T15:48:18.518Z"
   },
   {
    "duration": 6,
    "start_time": "2021-06-29T15:48:30.216Z"
   },
   {
    "duration": 31,
    "start_time": "2021-06-29T15:48:31.111Z"
   },
   {
    "duration": 7,
    "start_time": "2021-06-29T15:48:34.478Z"
   },
   {
    "duration": 30,
    "start_time": "2021-06-29T15:48:35.145Z"
   },
   {
    "duration": 7,
    "start_time": "2021-06-29T15:48:56.061Z"
   },
   {
    "duration": 252,
    "start_time": "2021-06-29T15:48:56.745Z"
   },
   {
    "duration": 252,
    "start_time": "2021-06-29T15:49:03.042Z"
   },
   {
    "duration": 4,
    "start_time": "2021-06-29T15:49:04.914Z"
   },
   {
    "duration": 4,
    "start_time": "2021-06-29T15:49:07.615Z"
   },
   {
    "duration": 258,
    "start_time": "2021-06-29T15:49:10.655Z"
   },
   {
    "duration": 3,
    "start_time": "2021-06-29T15:49:14.980Z"
   },
   {
    "duration": 331,
    "start_time": "2021-06-29T15:49:18.917Z"
   },
   {
    "duration": 265,
    "start_time": "2021-06-29T15:49:42.408Z"
   },
   {
    "duration": 1480,
    "start_time": "2021-06-29T15:49:51.027Z"
   },
   {
    "duration": 200,
    "start_time": "2021-06-29T15:49:52.509Z"
   },
   {
    "duration": 21,
    "start_time": "2021-06-29T15:49:52.715Z"
   },
   {
    "duration": 22,
    "start_time": "2021-06-29T15:49:52.739Z"
   },
   {
    "duration": 25,
    "start_time": "2021-06-29T15:49:52.764Z"
   },
   {
    "duration": 12,
    "start_time": "2021-06-29T15:49:52.792Z"
   },
   {
    "duration": 51,
    "start_time": "2021-06-29T15:49:52.806Z"
   },
   {
    "duration": 12,
    "start_time": "2021-06-29T15:49:52.862Z"
   },
   {
    "duration": 13,
    "start_time": "2021-06-29T15:49:52.876Z"
   },
   {
    "duration": 10,
    "start_time": "2021-06-29T15:49:52.891Z"
   },
   {
    "duration": 53,
    "start_time": "2021-06-29T15:49:52.904Z"
   },
   {
    "duration": 9,
    "start_time": "2021-06-29T15:49:52.959Z"
   },
   {
    "duration": 18,
    "start_time": "2021-06-29T15:49:52.971Z"
   },
   {
    "duration": 20,
    "start_time": "2021-06-29T15:49:52.991Z"
   },
   {
    "duration": 46,
    "start_time": "2021-06-29T15:49:53.013Z"
   },
   {
    "duration": 14,
    "start_time": "2021-06-29T15:49:53.061Z"
   },
   {
    "duration": 28,
    "start_time": "2021-06-29T15:49:53.077Z"
   },
   {
    "duration": 384,
    "start_time": "2021-06-29T15:49:53.107Z"
   },
   {
    "duration": 7,
    "start_time": "2021-06-29T15:49:53.493Z"
   },
   {
    "duration": 20,
    "start_time": "2021-06-29T15:49:53.503Z"
   },
   {
    "duration": 761,
    "start_time": "2021-06-29T15:50:47.104Z"
   },
   {
    "duration": 805,
    "start_time": "2021-06-29T15:51:03.769Z"
   },
   {
    "duration": 385,
    "start_time": "2021-06-29T15:51:11.780Z"
   },
   {
    "duration": 966,
    "start_time": "2021-06-29T15:51:38.000Z"
   },
   {
    "duration": 651,
    "start_time": "2021-06-29T15:52:43.392Z"
   },
   {
    "duration": 4,
    "start_time": "2021-06-29T15:53:36.401Z"
   },
   {
    "duration": 752,
    "start_time": "2021-06-29T15:53:42.880Z"
   },
   {
    "duration": 4,
    "start_time": "2021-06-29T15:54:03.105Z"
   },
   {
    "duration": 666,
    "start_time": "2021-06-29T15:54:03.948Z"
   },
   {
    "duration": 3,
    "start_time": "2021-06-29T15:54:42.172Z"
   },
   {
    "duration": 743,
    "start_time": "2021-06-29T15:54:43.448Z"
   },
   {
    "duration": 4,
    "start_time": "2021-06-29T15:55:24.005Z"
   },
   {
    "duration": 379,
    "start_time": "2021-06-29T15:55:28.704Z"
   },
   {
    "duration": 7,
    "start_time": "2021-06-29T15:55:31.600Z"
   },
   {
    "duration": 999,
    "start_time": "2021-06-29T15:55:32.248Z"
   },
   {
    "duration": 952,
    "start_time": "2021-06-29T15:55:54.876Z"
   },
   {
    "duration": 804,
    "start_time": "2021-06-29T15:56:08.058Z"
   },
   {
    "duration": 928,
    "start_time": "2021-06-29T15:56:21.924Z"
   },
   {
    "duration": 1197,
    "start_time": "2021-06-29T15:56:46.642Z"
   },
   {
    "duration": 1037,
    "start_time": "2021-06-29T15:56:55.730Z"
   },
   {
    "duration": 1004,
    "start_time": "2021-06-29T15:57:09.338Z"
   },
   {
    "duration": 801,
    "start_time": "2021-06-29T15:57:33.971Z"
   },
   {
    "duration": 1044,
    "start_time": "2021-06-29T15:57:43.340Z"
   },
   {
    "duration": 1385,
    "start_time": "2021-06-29T15:57:55.452Z"
   },
   {
    "duration": 1162,
    "start_time": "2021-06-29T15:58:07.123Z"
   },
   {
    "duration": 1212,
    "start_time": "2021-06-29T15:58:23.792Z"
   },
   {
    "duration": 1055,
    "start_time": "2021-06-29T15:58:29.254Z"
   },
   {
    "duration": 1088,
    "start_time": "2021-06-29T15:59:00.351Z"
   },
   {
    "duration": 380,
    "start_time": "2021-06-29T15:59:19.207Z"
   },
   {
    "duration": 1359,
    "start_time": "2021-06-29T16:20:52.842Z"
   },
   {
    "duration": 237,
    "start_time": "2021-06-29T16:20:54.204Z"
   },
   {
    "duration": 21,
    "start_time": "2021-06-29T16:20:54.445Z"
   },
   {
    "duration": 10,
    "start_time": "2021-06-29T16:20:54.468Z"
   },
   {
    "duration": 26,
    "start_time": "2021-06-29T16:20:54.480Z"
   },
   {
    "duration": 9,
    "start_time": "2021-06-29T16:20:54.508Z"
   },
   {
    "duration": 27,
    "start_time": "2021-06-29T16:20:54.558Z"
   },
   {
    "duration": 13,
    "start_time": "2021-06-29T16:20:54.587Z"
   },
   {
    "duration": 12,
    "start_time": "2021-06-29T16:20:54.602Z"
   },
   {
    "duration": 44,
    "start_time": "2021-06-29T16:20:54.616Z"
   },
   {
    "duration": 15,
    "start_time": "2021-06-29T16:20:54.662Z"
   },
   {
    "duration": 9,
    "start_time": "2021-06-29T16:20:54.680Z"
   },
   {
    "duration": 27,
    "start_time": "2021-06-29T16:20:54.691Z"
   },
   {
    "duration": 42,
    "start_time": "2021-06-29T16:20:54.721Z"
   },
   {
    "duration": 20,
    "start_time": "2021-06-29T16:20:54.765Z"
   },
   {
    "duration": 12,
    "start_time": "2021-06-29T16:20:54.788Z"
   },
   {
    "duration": 68,
    "start_time": "2021-06-29T16:20:54.802Z"
   },
   {
    "duration": 412,
    "start_time": "2021-06-29T16:20:54.872Z"
   },
   {
    "duration": 7,
    "start_time": "2021-06-29T16:20:55.286Z"
   },
   {
    "duration": 1115,
    "start_time": "2021-06-29T16:20:55.295Z"
   },
   {
    "duration": 79,
    "start_time": "2021-06-29T16:22:08.281Z"
   },
   {
    "duration": 10,
    "start_time": "2021-06-29T16:22:28.642Z"
   },
   {
    "duration": 32,
    "start_time": "2021-06-29T16:22:55.057Z"
   },
   {
    "duration": 5,
    "start_time": "2021-06-29T16:23:59.983Z"
   },
   {
    "duration": 12,
    "start_time": "2021-06-29T16:35:32.538Z"
   },
   {
    "duration": 37,
    "start_time": "2021-06-29T16:35:34.931Z"
   },
   {
    "duration": 383,
    "start_time": "2021-06-29T16:36:39.294Z"
   },
   {
    "duration": 265,
    "start_time": "2021-06-29T16:36:46.940Z"
   },
   {
    "duration": 25,
    "start_time": "2021-06-29T16:37:14.817Z"
   },
   {
    "duration": 45,
    "start_time": "2021-06-29T16:37:17.590Z"
   },
   {
    "duration": 10,
    "start_time": "2021-06-29T16:41:15.325Z"
   },
   {
    "duration": 1343,
    "start_time": "2021-06-29T16:42:22.270Z"
   },
   {
    "duration": 217,
    "start_time": "2021-06-29T16:42:23.615Z"
   },
   {
    "duration": 22,
    "start_time": "2021-06-29T16:42:23.836Z"
   },
   {
    "duration": 10,
    "start_time": "2021-06-29T16:42:23.861Z"
   },
   {
    "duration": 28,
    "start_time": "2021-06-29T16:42:23.873Z"
   },
   {
    "duration": 10,
    "start_time": "2021-06-29T16:42:23.903Z"
   },
   {
    "duration": 60,
    "start_time": "2021-06-29T16:42:23.915Z"
   },
   {
    "duration": 13,
    "start_time": "2021-06-29T16:42:23.978Z"
   },
   {
    "duration": 13,
    "start_time": "2021-06-29T16:42:23.995Z"
   },
   {
    "duration": 46,
    "start_time": "2021-06-29T16:42:24.010Z"
   },
   {
    "duration": 14,
    "start_time": "2021-06-29T16:42:24.059Z"
   },
   {
    "duration": 8,
    "start_time": "2021-06-29T16:42:24.076Z"
   },
   {
    "duration": 22,
    "start_time": "2021-06-29T16:42:24.087Z"
   },
   {
    "duration": 45,
    "start_time": "2021-06-29T16:42:24.111Z"
   },
   {
    "duration": 20,
    "start_time": "2021-06-29T16:42:24.158Z"
   },
   {
    "duration": 11,
    "start_time": "2021-06-29T16:42:24.180Z"
   },
   {
    "duration": 25,
    "start_time": "2021-06-29T16:42:24.194Z"
   },
   {
    "duration": 439,
    "start_time": "2021-06-29T16:42:24.221Z"
   },
   {
    "duration": 7,
    "start_time": "2021-06-29T16:42:24.663Z"
   },
   {
    "duration": 1077,
    "start_time": "2021-06-29T16:42:24.673Z"
   },
   {
    "duration": 11,
    "start_time": "2021-06-29T16:42:54.788Z"
   },
   {
    "duration": 38,
    "start_time": "2021-06-29T16:42:58.444Z"
   },
   {
    "duration": 16,
    "start_time": "2021-06-29T16:43:11.213Z"
   },
   {
    "duration": 12,
    "start_time": "2021-06-29T16:46:11.597Z"
   },
   {
    "duration": 39,
    "start_time": "2021-06-29T16:46:16.640Z"
   },
   {
    "duration": 1344,
    "start_time": "2021-06-29T16:50:20.466Z"
   },
   {
    "duration": 210,
    "start_time": "2021-06-29T16:50:21.813Z"
   },
   {
    "duration": 25,
    "start_time": "2021-06-29T16:50:22.029Z"
   },
   {
    "duration": 10,
    "start_time": "2021-06-29T16:50:22.057Z"
   },
   {
    "duration": 30,
    "start_time": "2021-06-29T16:50:22.070Z"
   },
   {
    "duration": 11,
    "start_time": "2021-06-29T16:50:22.103Z"
   },
   {
    "duration": 61,
    "start_time": "2021-06-29T16:50:22.117Z"
   },
   {
    "duration": 12,
    "start_time": "2021-06-29T16:50:22.181Z"
   },
   {
    "duration": 13,
    "start_time": "2021-06-29T16:50:22.196Z"
   },
   {
    "duration": 45,
    "start_time": "2021-06-29T16:50:22.212Z"
   },
   {
    "duration": 14,
    "start_time": "2021-06-29T16:50:22.260Z"
   },
   {
    "duration": 9,
    "start_time": "2021-06-29T16:50:22.276Z"
   },
   {
    "duration": 20,
    "start_time": "2021-06-29T16:50:22.287Z"
   },
   {
    "duration": 50,
    "start_time": "2021-06-29T16:50:22.309Z"
   },
   {
    "duration": 22,
    "start_time": "2021-06-29T16:50:22.362Z"
   },
   {
    "duration": 12,
    "start_time": "2021-06-29T16:50:22.386Z"
   },
   {
    "duration": 59,
    "start_time": "2021-06-29T16:50:22.401Z"
   },
   {
    "duration": 418,
    "start_time": "2021-06-29T16:50:22.462Z"
   },
   {
    "duration": 7,
    "start_time": "2021-06-29T16:50:22.882Z"
   },
   {
    "duration": 1051,
    "start_time": "2021-06-29T16:50:22.891Z"
   },
   {
    "duration": 11,
    "start_time": "2021-06-29T16:50:23.945Z"
   },
   {
    "duration": 32,
    "start_time": "2021-06-29T16:50:39.481Z"
   },
   {
    "duration": 13,
    "start_time": "2021-06-29T16:51:19.339Z"
   },
   {
    "duration": 21,
    "start_time": "2021-06-29T17:12:48.723Z"
   },
   {
    "duration": 306,
    "start_time": "2021-06-30T08:54:16.998Z"
   },
   {
    "duration": 86,
    "start_time": "2021-06-30T08:54:32.720Z"
   },
   {
    "duration": 1442,
    "start_time": "2021-06-30T08:54:37.995Z"
   },
   {
    "duration": 326,
    "start_time": "2021-06-30T08:54:43.719Z"
   },
   {
    "duration": 4,
    "start_time": "2021-06-30T08:54:52.202Z"
   },
   {
    "duration": 220,
    "start_time": "2021-06-30T08:54:52.877Z"
   },
   {
    "duration": 22,
    "start_time": "2021-06-30T08:54:53.601Z"
   },
   {
    "duration": 10,
    "start_time": "2021-06-30T08:54:55.643Z"
   },
   {
    "duration": 28,
    "start_time": "2021-06-30T08:54:56.039Z"
   },
   {
    "duration": 11,
    "start_time": "2021-06-30T08:54:56.530Z"
   },
   {
    "duration": 29,
    "start_time": "2021-06-30T08:54:56.996Z"
   },
   {
    "duration": 14,
    "start_time": "2021-06-30T08:54:57.514Z"
   },
   {
    "duration": 13,
    "start_time": "2021-06-30T08:54:58.051Z"
   },
   {
    "duration": 8,
    "start_time": "2021-06-30T08:54:58.467Z"
   },
   {
    "duration": 15,
    "start_time": "2021-06-30T08:54:58.956Z"
   },
   {
    "duration": 9,
    "start_time": "2021-06-30T08:54:59.360Z"
   },
   {
    "duration": 20,
    "start_time": "2021-06-30T08:55:00.212Z"
   },
   {
    "duration": 9,
    "start_time": "2021-06-30T08:55:00.804Z"
   },
   {
    "duration": 26,
    "start_time": "2021-06-30T08:55:01.856Z"
   },
   {
    "duration": 11,
    "start_time": "2021-06-30T08:55:02.744Z"
   },
   {
    "duration": 28,
    "start_time": "2021-06-30T08:55:04.880Z"
   },
   {
    "duration": 398,
    "start_time": "2021-06-30T08:55:05.629Z"
   },
   {
    "duration": 7,
    "start_time": "2021-06-30T08:55:07.737Z"
   },
   {
    "duration": 1153,
    "start_time": "2021-06-30T08:55:08.862Z"
   },
   {
    "duration": 2512,
    "start_time": "2021-06-30T08:55:15.192Z"
   },
   {
    "duration": 6,
    "start_time": "2021-06-30T08:55:42.404Z"
   },
   {
    "duration": 20,
    "start_time": "2021-06-30T08:55:47.466Z"
   },
   {
    "duration": 18,
    "start_time": "2021-06-30T08:57:19.028Z"
   },
   {
    "duration": 6,
    "start_time": "2021-06-30T08:57:30.321Z"
   },
   {
    "duration": 16,
    "start_time": "2021-06-30T08:57:38.441Z"
   },
   {
    "duration": 805,
    "start_time": "2021-06-30T08:58:50.932Z"
   },
   {
    "duration": 928,
    "start_time": "2021-06-30T08:59:30.365Z"
   },
   {
    "duration": 797,
    "start_time": "2021-06-30T08:59:37.701Z"
   },
   {
    "duration": 10,
    "start_time": "2021-06-30T09:00:46.435Z"
   },
   {
    "duration": 10,
    "start_time": "2021-06-30T09:07:01.807Z"
   },
   {
    "duration": 9,
    "start_time": "2021-06-30T09:17:59.784Z"
   },
   {
    "duration": 34,
    "start_time": "2021-06-30T09:18:05.907Z"
   },
   {
    "duration": 14,
    "start_time": "2021-06-30T09:18:23.606Z"
   },
   {
    "duration": 15,
    "start_time": "2021-06-30T09:18:41.118Z"
   },
   {
    "duration": 13,
    "start_time": "2021-06-30T09:19:28.244Z"
   },
   {
    "duration": 32,
    "start_time": "2021-06-30T09:19:36.452Z"
   },
   {
    "duration": 269,
    "start_time": "2021-06-30T09:20:21.221Z"
   },
   {
    "duration": 25,
    "start_time": "2021-06-30T09:20:30.259Z"
   },
   {
    "duration": 270,
    "start_time": "2021-06-30T09:20:45.171Z"
   },
   {
    "duration": 320,
    "start_time": "2021-06-30T09:21:00.557Z"
   },
   {
    "duration": 263,
    "start_time": "2021-06-30T09:21:11.996Z"
   },
   {
    "duration": 259,
    "start_time": "2021-06-30T09:21:25.031Z"
   },
   {
    "duration": 266,
    "start_time": "2021-06-30T09:21:44.604Z"
   },
   {
    "duration": 301,
    "start_time": "2021-06-30T09:21:56.578Z"
   },
   {
    "duration": 21,
    "start_time": "2021-06-30T09:22:10.474Z"
   },
   {
    "duration": 1460,
    "start_time": "2021-06-30T09:22:54.987Z"
   },
   {
    "duration": 220,
    "start_time": "2021-06-30T09:22:56.449Z"
   },
   {
    "duration": 22,
    "start_time": "2021-06-30T09:22:56.672Z"
   },
   {
    "duration": 45,
    "start_time": "2021-06-30T09:22:56.696Z"
   },
   {
    "duration": 54,
    "start_time": "2021-06-30T09:22:56.743Z"
   },
   {
    "duration": 10,
    "start_time": "2021-06-30T09:22:56.800Z"
   },
   {
    "duration": 46,
    "start_time": "2021-06-30T09:22:56.813Z"
   },
   {
    "duration": 35,
    "start_time": "2021-06-30T09:22:56.862Z"
   },
   {
    "duration": 24,
    "start_time": "2021-06-30T09:22:56.900Z"
   },
   {
    "duration": 26,
    "start_time": "2021-06-30T09:22:56.926Z"
   },
   {
    "duration": 34,
    "start_time": "2021-06-30T09:22:56.954Z"
   },
   {
    "duration": 28,
    "start_time": "2021-06-30T09:22:56.990Z"
   },
   {
    "duration": 33,
    "start_time": "2021-06-30T09:22:57.021Z"
   },
   {
    "duration": 25,
    "start_time": "2021-06-30T09:22:57.057Z"
   },
   {
    "duration": 33,
    "start_time": "2021-06-30T09:22:57.085Z"
   },
   {
    "duration": 33,
    "start_time": "2021-06-30T09:22:57.121Z"
   },
   {
    "duration": 35,
    "start_time": "2021-06-30T09:22:57.158Z"
   },
   {
    "duration": 414,
    "start_time": "2021-06-30T09:22:57.195Z"
   },
   {
    "duration": 6,
    "start_time": "2021-06-30T09:22:57.612Z"
   },
   {
    "duration": 1143,
    "start_time": "2021-06-30T09:22:57.620Z"
   },
   {
    "duration": 19,
    "start_time": "2021-06-30T09:22:58.766Z"
   },
   {
    "duration": 7,
    "start_time": "2021-06-30T09:22:58.787Z"
   },
   {
    "duration": 811,
    "start_time": "2021-06-30T09:22:58.798Z"
   },
   {
    "duration": 10,
    "start_time": "2021-06-30T09:22:59.612Z"
   },
   {
    "duration": 36,
    "start_time": "2021-06-30T09:22:59.624Z"
   },
   {
    "duration": 21,
    "start_time": "2021-06-30T09:22:59.662Z"
   },
   {
    "duration": 37,
    "start_time": "2021-06-30T09:22:59.685Z"
   },
   {
    "duration": 32,
    "start_time": "2021-06-30T09:22:59.725Z"
   },
   {
    "duration": 21,
    "start_time": "2021-06-30T09:28:30.951Z"
   },
   {
    "duration": 419,
    "start_time": "2021-06-30T09:29:56.463Z"
   },
   {
    "duration": 6,
    "start_time": "2021-06-30T09:30:02.160Z"
   },
   {
    "duration": 4,
    "start_time": "2021-06-30T09:30:08.096Z"
   },
   {
    "duration": 6,
    "start_time": "2021-06-30T09:30:10.085Z"
   },
   {
    "duration": 15,
    "start_time": "2021-06-30T09:30:16.447Z"
   },
   {
    "duration": 8,
    "start_time": "2021-06-30T09:31:16.137Z"
   },
   {
    "duration": 16,
    "start_time": "2021-06-30T09:31:28.925Z"
   },
   {
    "duration": 21,
    "start_time": "2021-06-30T09:32:27.113Z"
   },
   {
    "duration": 8,
    "start_time": "2021-06-30T09:32:33.757Z"
   },
   {
    "duration": 22,
    "start_time": "2021-06-30T10:38:53.767Z"
   },
   {
    "duration": 10,
    "start_time": "2021-06-30T11:03:22.392Z"
   },
   {
    "duration": 27,
    "start_time": "2021-06-30T11:03:28.895Z"
   },
   {
    "duration": 12,
    "start_time": "2021-06-30T11:04:29.925Z"
   },
   {
    "duration": 11,
    "start_time": "2021-06-30T11:05:41.477Z"
   },
   {
    "duration": 11,
    "start_time": "2021-06-30T11:06:22.517Z"
   },
   {
    "duration": 26,
    "start_time": "2021-06-30T11:06:23.901Z"
   },
   {
    "duration": 11,
    "start_time": "2021-06-30T11:06:32.505Z"
   },
   {
    "duration": 38,
    "start_time": "2021-06-30T11:06:37.986Z"
   },
   {
    "duration": 1484,
    "start_time": "2021-06-30T11:08:04.733Z"
   },
   {
    "duration": 248,
    "start_time": "2021-06-30T11:08:06.220Z"
   },
   {
    "duration": 21,
    "start_time": "2021-06-30T11:08:06.474Z"
   },
   {
    "duration": 20,
    "start_time": "2021-06-30T11:08:06.498Z"
   },
   {
    "duration": 44,
    "start_time": "2021-06-30T11:08:06.520Z"
   },
   {
    "duration": 10,
    "start_time": "2021-06-30T11:08:06.567Z"
   },
   {
    "duration": 35,
    "start_time": "2021-06-30T11:08:06.580Z"
   },
   {
    "duration": 38,
    "start_time": "2021-06-30T11:08:06.619Z"
   },
   {
    "duration": 14,
    "start_time": "2021-06-30T11:08:06.661Z"
   },
   {
    "duration": 9,
    "start_time": "2021-06-30T11:08:06.678Z"
   },
   {
    "duration": 15,
    "start_time": "2021-06-30T11:08:06.689Z"
   },
   {
    "duration": 50,
    "start_time": "2021-06-30T11:08:06.706Z"
   },
   {
    "duration": 20,
    "start_time": "2021-06-30T11:08:06.758Z"
   },
   {
    "duration": 11,
    "start_time": "2021-06-30T11:08:06.781Z"
   },
   {
    "duration": 20,
    "start_time": "2021-06-30T11:08:06.795Z"
   },
   {
    "duration": 46,
    "start_time": "2021-06-30T11:08:06.818Z"
   },
   {
    "duration": 32,
    "start_time": "2021-06-30T11:08:06.866Z"
   },
   {
    "duration": 594,
    "start_time": "2021-06-30T11:08:06.901Z"
   },
   {
    "duration": 8,
    "start_time": "2021-06-30T11:08:07.499Z"
   },
   {
    "duration": 1554,
    "start_time": "2021-06-30T11:08:07.510Z"
   },
   {
    "duration": 11,
    "start_time": "2021-06-30T11:08:09.068Z"
   },
   {
    "duration": 8,
    "start_time": "2021-06-30T11:08:09.082Z"
   },
   {
    "duration": 908,
    "start_time": "2021-06-30T11:08:09.092Z"
   },
   {
    "duration": 9,
    "start_time": "2021-06-30T11:08:10.003Z"
   },
   {
    "duration": 16,
    "start_time": "2021-06-30T11:08:10.014Z"
   },
   {
    "duration": 21,
    "start_time": "2021-06-30T11:08:10.036Z"
   },
   {
    "duration": 22,
    "start_time": "2021-06-30T11:08:10.060Z"
   },
   {
    "duration": 12,
    "start_time": "2021-06-30T11:08:10.084Z"
   },
   {
    "duration": 57,
    "start_time": "2021-06-30T11:08:10.098Z"
   },
   {
    "duration": 11,
    "start_time": "2021-06-30T11:08:10.158Z"
   },
   {
    "duration": 8,
    "start_time": "2021-06-30T11:08:10.172Z"
   },
   {
    "duration": 13,
    "start_time": "2021-06-30T11:08:10.182Z"
   },
   {
    "duration": 61,
    "start_time": "2021-06-30T11:08:10.198Z"
   },
   {
    "duration": 10,
    "start_time": "2021-06-30T11:08:10.261Z"
   },
   {
    "duration": 97,
    "start_time": "2021-06-30T11:10:19.988Z"
   },
   {
    "duration": 46,
    "start_time": "2021-06-30T11:10:27.132Z"
   },
   {
    "duration": 65,
    "start_time": "2021-06-30T11:12:36.979Z"
   },
   {
    "duration": 64,
    "start_time": "2021-06-30T11:12:43.984Z"
   },
   {
    "duration": 38,
    "start_time": "2021-06-30T11:13:37.305Z"
   },
   {
    "duration": 38,
    "start_time": "2021-06-30T11:13:51.786Z"
   },
   {
    "duration": 50,
    "start_time": "2021-06-30T11:15:14.202Z"
   },
   {
    "duration": 47,
    "start_time": "2021-06-30T11:16:05.877Z"
   },
   {
    "duration": 12,
    "start_time": "2021-06-30T11:16:47.132Z"
   },
   {
    "duration": 11,
    "start_time": "2021-06-30T11:18:44.549Z"
   },
   {
    "duration": 416,
    "start_time": "2021-06-30T11:21:41.772Z"
   },
   {
    "duration": 50,
    "start_time": "2021-06-30T11:22:06.234Z"
   },
   {
    "duration": 4,
    "start_time": "2021-06-30T11:22:56.360Z"
   },
   {
    "duration": 9,
    "start_time": "2021-06-30T11:23:01.169Z"
   },
   {
    "duration": 7,
    "start_time": "2021-06-30T11:23:23.522Z"
   },
   {
    "duration": 284,
    "start_time": "2021-06-30T11:24:35.241Z"
   },
   {
    "duration": 13,
    "start_time": "2021-06-30T11:24:42.210Z"
   },
   {
    "duration": 302,
    "start_time": "2021-06-30T11:32:00.159Z"
   },
   {
    "duration": 9,
    "start_time": "2021-06-30T11:32:06.676Z"
   },
   {
    "duration": 5,
    "start_time": "2021-06-30T11:32:35.071Z"
   },
   {
    "duration": 13,
    "start_time": "2021-06-30T11:32:54.315Z"
   },
   {
    "duration": 42,
    "start_time": "2021-06-30T11:33:00.532Z"
   },
   {
    "duration": 1411,
    "start_time": "2021-06-30T11:36:31.991Z"
   },
   {
    "duration": 235,
    "start_time": "2021-06-30T11:36:33.405Z"
   },
   {
    "duration": 21,
    "start_time": "2021-06-30T11:36:33.643Z"
   },
   {
    "duration": 8,
    "start_time": "2021-06-30T11:36:33.667Z"
   },
   {
    "duration": 32,
    "start_time": "2021-06-30T11:36:33.678Z"
   },
   {
    "duration": 47,
    "start_time": "2021-06-30T11:36:33.712Z"
   },
   {
    "duration": 27,
    "start_time": "2021-06-30T11:36:33.761Z"
   },
   {
    "duration": 13,
    "start_time": "2021-06-30T11:36:33.792Z"
   },
   {
    "duration": 55,
    "start_time": "2021-06-30T11:36:33.808Z"
   },
   {
    "duration": 8,
    "start_time": "2021-06-30T11:36:33.865Z"
   },
   {
    "duration": 25,
    "start_time": "2021-06-30T11:36:33.876Z"
   },
   {
    "duration": 22,
    "start_time": "2021-06-30T11:36:33.904Z"
   },
   {
    "duration": 48,
    "start_time": "2021-06-30T11:36:33.929Z"
   },
   {
    "duration": 11,
    "start_time": "2021-06-30T11:36:33.980Z"
   },
   {
    "duration": 21,
    "start_time": "2021-06-30T11:36:33.994Z"
   },
   {
    "duration": 47,
    "start_time": "2021-06-30T11:36:34.017Z"
   },
   {
    "duration": 37,
    "start_time": "2021-06-30T11:36:34.067Z"
   },
   {
    "duration": 583,
    "start_time": "2021-06-30T11:36:34.107Z"
   },
   {
    "duration": 8,
    "start_time": "2021-06-30T11:36:34.693Z"
   },
   {
    "duration": 1100,
    "start_time": "2021-06-30T11:36:34.705Z"
   },
   {
    "duration": 12,
    "start_time": "2021-06-30T11:36:35.808Z"
   },
   {
    "duration": 19,
    "start_time": "2021-06-30T11:36:35.822Z"
   },
   {
    "duration": 788,
    "start_time": "2021-06-30T11:36:35.854Z"
   },
   {
    "duration": 15,
    "start_time": "2021-06-30T11:36:36.645Z"
   },
   {
    "duration": 11,
    "start_time": "2021-06-30T11:36:36.662Z"
   },
   {
    "duration": 4,
    "start_time": "2021-06-30T11:36:36.676Z"
   },
   {
    "duration": 15,
    "start_time": "2021-06-30T11:36:36.683Z"
   },
   {
    "duration": 86,
    "start_time": "2021-06-30T11:36:36.700Z"
   },
   {
    "duration": 3,
    "start_time": "2021-06-30T11:36:36.789Z"
   },
   {
    "duration": 15,
    "start_time": "2021-06-30T11:36:36.795Z"
   },
   {
    "duration": 15,
    "start_time": "2021-06-30T11:36:36.813Z"
   },
   {
    "duration": 29,
    "start_time": "2021-06-30T11:36:36.831Z"
   },
   {
    "duration": 9,
    "start_time": "2021-06-30T11:36:36.863Z"
   },
   {
    "duration": 4,
    "start_time": "2021-06-30T11:36:36.874Z"
   },
   {
    "duration": 11,
    "start_time": "2021-06-30T11:37:19.584Z"
   },
   {
    "duration": 29,
    "start_time": "2021-06-30T11:37:22.746Z"
   },
   {
    "duration": 18,
    "start_time": "2021-06-30T11:37:48.660Z"
   },
   {
    "duration": 6,
    "start_time": "2021-06-30T11:42:26.627Z"
   },
   {
    "duration": 21,
    "start_time": "2021-06-30T11:42:32.014Z"
   },
   {
    "duration": 6,
    "start_time": "2021-06-30T11:43:13.925Z"
   },
   {
    "duration": 19,
    "start_time": "2021-06-30T11:43:14.590Z"
   },
   {
    "duration": 496,
    "start_time": "2021-06-30T11:44:27.477Z"
   },
   {
    "duration": 6,
    "start_time": "2021-06-30T11:46:37.371Z"
   },
   {
    "duration": 740,
    "start_time": "2021-06-30T11:47:32.722Z"
   },
   {
    "duration": 257,
    "start_time": "2021-06-30T11:52:03.944Z"
   },
   {
    "duration": 17,
    "start_time": "2021-06-30T11:52:21.923Z"
   },
   {
    "duration": 20,
    "start_time": "2021-06-30T11:53:36.631Z"
   },
   {
    "duration": 20,
    "start_time": "2021-06-30T11:53:38.257Z"
   },
   {
    "duration": 18,
    "start_time": "2021-06-30T11:55:54.688Z"
   },
   {
    "duration": 27,
    "start_time": "2021-06-30T11:55:58.288Z"
   },
   {
    "duration": 11,
    "start_time": "2021-06-30T11:56:31.331Z"
   },
   {
    "duration": 19,
    "start_time": "2021-06-30T11:56:35.552Z"
   },
   {
    "duration": 7,
    "start_time": "2021-06-30T12:01:21.882Z"
   },
   {
    "duration": 18,
    "start_time": "2021-06-30T12:01:33.653Z"
   },
   {
    "duration": 8,
    "start_time": "2021-06-30T12:02:05.660Z"
   },
   {
    "duration": 12,
    "start_time": "2021-06-30T12:02:13.280Z"
   },
   {
    "duration": 12,
    "start_time": "2021-06-30T12:02:23.210Z"
   },
   {
    "duration": 257,
    "start_time": "2021-06-30T12:02:58.530Z"
   },
   {
    "duration": 269,
    "start_time": "2021-06-30T12:03:12.689Z"
   },
   {
    "duration": 1431,
    "start_time": "2021-06-30T12:03:26.685Z"
   },
   {
    "duration": 236,
    "start_time": "2021-06-30T12:03:28.119Z"
   },
   {
    "duration": 20,
    "start_time": "2021-06-30T12:03:28.358Z"
   },
   {
    "duration": 25,
    "start_time": "2021-06-30T12:03:28.381Z"
   },
   {
    "duration": 43,
    "start_time": "2021-06-30T12:03:28.408Z"
   },
   {
    "duration": 20,
    "start_time": "2021-06-30T12:03:28.453Z"
   },
   {
    "duration": 44,
    "start_time": "2021-06-30T12:03:28.475Z"
   },
   {
    "duration": 18,
    "start_time": "2021-06-30T12:03:28.523Z"
   },
   {
    "duration": 33,
    "start_time": "2021-06-30T12:03:28.544Z"
   },
   {
    "duration": 32,
    "start_time": "2021-06-30T12:03:28.580Z"
   },
   {
    "duration": 27,
    "start_time": "2021-06-30T12:03:28.615Z"
   },
   {
    "duration": 29,
    "start_time": "2021-06-30T12:03:28.645Z"
   },
   {
    "duration": 37,
    "start_time": "2021-06-30T12:03:28.677Z"
   },
   {
    "duration": 33,
    "start_time": "2021-06-30T12:03:28.718Z"
   },
   {
    "duration": 38,
    "start_time": "2021-06-30T12:03:28.754Z"
   },
   {
    "duration": 38,
    "start_time": "2021-06-30T12:03:28.796Z"
   },
   {
    "duration": 42,
    "start_time": "2021-06-30T12:03:28.837Z"
   },
   {
    "duration": 419,
    "start_time": "2021-06-30T12:03:28.883Z"
   },
   {
    "duration": 8,
    "start_time": "2021-06-30T12:03:29.305Z"
   },
   {
    "duration": 1211,
    "start_time": "2021-06-30T12:03:29.315Z"
   },
   {
    "duration": 11,
    "start_time": "2021-06-30T12:03:30.528Z"
   },
   {
    "duration": 30,
    "start_time": "2021-06-30T12:03:30.541Z"
   },
   {
    "duration": 815,
    "start_time": "2021-06-30T12:03:30.577Z"
   },
   {
    "duration": 419,
    "start_time": "2021-06-30T12:03:31.395Z"
   },
   {
    "duration": 49,
    "start_time": "2021-06-30T12:03:31.767Z"
   },
   {
    "duration": 46,
    "start_time": "2021-06-30T12:03:31.772Z"
   },
   {
    "duration": 46,
    "start_time": "2021-06-30T12:03:31.773Z"
   },
   {
    "duration": 46,
    "start_time": "2021-06-30T12:03:31.775Z"
   },
   {
    "duration": 47,
    "start_time": "2021-06-30T12:03:31.776Z"
   },
   {
    "duration": 46,
    "start_time": "2021-06-30T12:03:31.778Z"
   },
   {
    "duration": 47,
    "start_time": "2021-06-30T12:03:31.779Z"
   },
   {
    "duration": 46,
    "start_time": "2021-06-30T12:03:31.781Z"
   },
   {
    "duration": 47,
    "start_time": "2021-06-30T12:03:31.782Z"
   },
   {
    "duration": 42,
    "start_time": "2021-06-30T12:03:31.788Z"
   },
   {
    "duration": 42,
    "start_time": "2021-06-30T12:03:31.790Z"
   },
   {
    "duration": 41,
    "start_time": "2021-06-30T12:03:31.792Z"
   },
   {
    "duration": 42,
    "start_time": "2021-06-30T12:03:31.793Z"
   },
   {
    "duration": 42,
    "start_time": "2021-06-30T12:03:31.794Z"
   },
   {
    "duration": 41,
    "start_time": "2021-06-30T12:03:31.796Z"
   },
   {
    "duration": 40,
    "start_time": "2021-06-30T12:03:31.798Z"
   },
   {
    "duration": 41,
    "start_time": "2021-06-30T12:03:31.799Z"
   },
   {
    "duration": 17,
    "start_time": "2021-06-30T12:04:58.115Z"
   },
   {
    "duration": 1451,
    "start_time": "2021-06-30T12:05:10.365Z"
   },
   {
    "duration": 227,
    "start_time": "2021-06-30T12:05:11.819Z"
   },
   {
    "duration": 22,
    "start_time": "2021-06-30T12:05:12.049Z"
   },
   {
    "duration": 19,
    "start_time": "2021-06-30T12:05:12.073Z"
   },
   {
    "duration": 30,
    "start_time": "2021-06-30T12:05:12.095Z"
   },
   {
    "duration": 34,
    "start_time": "2021-06-30T12:05:12.128Z"
   },
   {
    "duration": 28,
    "start_time": "2021-06-30T12:05:12.164Z"
   },
   {
    "duration": 12,
    "start_time": "2021-06-30T12:05:12.198Z"
   },
   {
    "duration": 49,
    "start_time": "2021-06-30T12:05:12.214Z"
   },
   {
    "duration": 9,
    "start_time": "2021-06-30T12:05:12.266Z"
   },
   {
    "duration": 17,
    "start_time": "2021-06-30T12:05:12.277Z"
   },
   {
    "duration": 9,
    "start_time": "2021-06-30T12:05:12.297Z"
   },
   {
    "duration": 60,
    "start_time": "2021-06-30T12:05:12.309Z"
   },
   {
    "duration": 13,
    "start_time": "2021-06-30T12:05:12.372Z"
   },
   {
    "duration": 29,
    "start_time": "2021-06-30T12:05:12.388Z"
   },
   {
    "duration": 42,
    "start_time": "2021-06-30T12:05:12.420Z"
   },
   {
    "duration": 28,
    "start_time": "2021-06-30T12:05:12.465Z"
   },
   {
    "duration": 455,
    "start_time": "2021-06-30T12:05:12.495Z"
   },
   {
    "duration": 7,
    "start_time": "2021-06-30T12:05:12.954Z"
   },
   {
    "duration": 1073,
    "start_time": "2021-06-30T12:05:12.963Z"
   },
   {
    "duration": 15,
    "start_time": "2021-06-30T12:05:14.039Z"
   },
   {
    "duration": 6,
    "start_time": "2021-06-30T12:05:14.057Z"
   },
   {
    "duration": 799,
    "start_time": "2021-06-30T12:05:14.068Z"
   },
   {
    "duration": 17,
    "start_time": "2021-06-30T12:05:14.870Z"
   },
   {
    "duration": 6,
    "start_time": "2021-06-30T12:05:14.889Z"
   },
   {
    "duration": 808,
    "start_time": "2021-06-30T12:05:14.897Z"
   },
   {
    "duration": 15,
    "start_time": "2021-06-30T12:05:15.708Z"
   },
   {
    "duration": 29,
    "start_time": "2021-06-30T12:05:15.725Z"
   },
   {
    "duration": 10,
    "start_time": "2021-06-30T12:05:15.757Z"
   },
   {
    "duration": 12,
    "start_time": "2021-06-30T12:05:15.769Z"
   },
   {
    "duration": 21,
    "start_time": "2021-06-30T12:05:15.783Z"
   },
   {
    "duration": 59,
    "start_time": "2021-06-30T12:05:15.806Z"
   },
   {
    "duration": 3,
    "start_time": "2021-06-30T12:05:15.868Z"
   },
   {
    "duration": 16,
    "start_time": "2021-06-30T12:05:15.873Z"
   },
   {
    "duration": 8,
    "start_time": "2021-06-30T12:05:15.892Z"
   },
   {
    "duration": 8,
    "start_time": "2021-06-30T12:05:15.903Z"
   },
   {
    "duration": 42,
    "start_time": "2021-06-30T12:05:15.913Z"
   },
   {
    "duration": 9,
    "start_time": "2021-06-30T12:05:15.958Z"
   },
   {
    "duration": 5,
    "start_time": "2021-06-30T12:05:15.969Z"
   },
   {
    "duration": 12,
    "start_time": "2021-06-30T12:05:15.976Z"
   },
   {
    "duration": 20,
    "start_time": "2021-06-30T12:05:15.990Z"
   },
   {
    "duration": 13,
    "start_time": "2021-06-30T12:06:40.785Z"
   },
   {
    "duration": 22,
    "start_time": "2021-06-30T12:06:43.865Z"
   },
   {
    "duration": 31,
    "start_time": "2021-06-30T12:07:36.736Z"
   },
   {
    "duration": 13,
    "start_time": "2021-06-30T12:08:30.789Z"
   },
   {
    "duration": 27,
    "start_time": "2021-06-30T12:08:34.641Z"
   },
   {
    "duration": 11,
    "start_time": "2021-06-30T12:09:59.338Z"
   },
   {
    "duration": 391,
    "start_time": "2021-06-30T12:10:23.080Z"
   },
   {
    "duration": 12,
    "start_time": "2021-06-30T12:10:28.133Z"
   },
   {
    "duration": 13,
    "start_time": "2021-06-30T12:10:34.179Z"
   },
   {
    "duration": 43,
    "start_time": "2021-06-30T12:10:37.095Z"
   },
   {
    "duration": 13,
    "start_time": "2021-06-30T12:11:41.530Z"
   },
   {
    "duration": 9,
    "start_time": "2021-06-30T12:12:54.791Z"
   },
   {
    "duration": 39,
    "start_time": "2021-06-30T12:13:36.680Z"
   },
   {
    "duration": 31,
    "start_time": "2021-06-30T12:15:43.413Z"
   },
   {
    "duration": 256,
    "start_time": "2021-06-30T12:16:11.368Z"
   },
   {
    "duration": 5,
    "start_time": "2021-06-30T12:16:23.840Z"
   },
   {
    "duration": 36,
    "start_time": "2021-06-30T12:16:26.795Z"
   },
   {
    "duration": 253,
    "start_time": "2021-06-30T12:17:45.669Z"
   },
   {
    "duration": 282,
    "start_time": "2021-06-30T12:17:51.297Z"
   },
   {
    "duration": 254,
    "start_time": "2021-06-30T12:17:55.199Z"
   },
   {
    "duration": 5,
    "start_time": "2021-06-30T12:25:00.369Z"
   },
   {
    "duration": 9,
    "start_time": "2021-06-30T12:26:47.450Z"
   },
   {
    "duration": 53,
    "start_time": "2021-06-30T12:26:55.207Z"
   },
   {
    "duration": 9,
    "start_time": "2021-06-30T12:27:09.394Z"
   },
   {
    "duration": 54,
    "start_time": "2021-06-30T12:27:11.029Z"
   },
   {
    "duration": 1465,
    "start_time": "2021-06-30T12:28:14.857Z"
   },
   {
    "duration": 226,
    "start_time": "2021-06-30T12:28:16.325Z"
   },
   {
    "duration": 21,
    "start_time": "2021-06-30T12:28:16.554Z"
   },
   {
    "duration": 10,
    "start_time": "2021-06-30T12:28:16.577Z"
   },
   {
    "duration": 43,
    "start_time": "2021-06-30T12:28:16.589Z"
   },
   {
    "duration": 10,
    "start_time": "2021-06-30T12:28:16.655Z"
   },
   {
    "duration": 32,
    "start_time": "2021-06-30T12:28:16.668Z"
   },
   {
    "duration": 23,
    "start_time": "2021-06-30T12:28:16.704Z"
   },
   {
    "duration": 13,
    "start_time": "2021-06-30T12:28:16.755Z"
   },
   {
    "duration": 26,
    "start_time": "2021-06-30T12:28:16.770Z"
   },
   {
    "duration": 28,
    "start_time": "2021-06-30T12:28:16.799Z"
   },
   {
    "duration": 28,
    "start_time": "2021-06-30T12:28:16.830Z"
   },
   {
    "duration": 24,
    "start_time": "2021-06-30T12:28:16.861Z"
   },
   {
    "duration": 20,
    "start_time": "2021-06-30T12:28:16.887Z"
   },
   {
    "duration": 44,
    "start_time": "2021-06-30T12:28:16.910Z"
   },
   {
    "duration": 11,
    "start_time": "2021-06-30T12:28:16.957Z"
   },
   {
    "duration": 59,
    "start_time": "2021-06-30T12:28:16.971Z"
   },
   {
    "duration": 430,
    "start_time": "2021-06-30T12:28:17.032Z"
   },
   {
    "duration": 7,
    "start_time": "2021-06-30T12:28:17.465Z"
   },
   {
    "duration": 1211,
    "start_time": "2021-06-30T12:28:17.474Z"
   },
   {
    "duration": 10,
    "start_time": "2021-06-30T12:28:18.688Z"
   },
   {
    "duration": 21,
    "start_time": "2021-06-30T12:28:18.700Z"
   },
   {
    "duration": 919,
    "start_time": "2021-06-30T12:28:18.726Z"
   },
   {
    "duration": 17,
    "start_time": "2021-06-30T12:28:19.655Z"
   },
   {
    "duration": 22,
    "start_time": "2021-06-30T12:28:19.675Z"
   },
   {
    "duration": 770,
    "start_time": "2021-06-30T12:28:19.700Z"
   },
   {
    "duration": 15,
    "start_time": "2021-06-30T12:28:20.472Z"
   },
   {
    "duration": 25,
    "start_time": "2021-06-30T12:28:20.490Z"
   },
   {
    "duration": 23,
    "start_time": "2021-06-30T12:28:20.518Z"
   },
   {
    "duration": 33,
    "start_time": "2021-06-30T12:28:20.543Z"
   },
   {
    "duration": 36,
    "start_time": "2021-06-30T12:28:20.579Z"
   },
   {
    "duration": 64,
    "start_time": "2021-06-30T12:28:20.618Z"
   },
   {
    "duration": 5,
    "start_time": "2021-06-30T12:28:20.684Z"
   },
   {
    "duration": 33,
    "start_time": "2021-06-30T12:28:20.692Z"
   },
   {
    "duration": 27,
    "start_time": "2021-06-30T12:28:20.728Z"
   },
   {
    "duration": 26,
    "start_time": "2021-06-30T12:28:20.757Z"
   },
   {
    "duration": 27,
    "start_time": "2021-06-30T12:28:20.786Z"
   },
   {
    "duration": 27,
    "start_time": "2021-06-30T12:28:20.816Z"
   },
   {
    "duration": 17,
    "start_time": "2021-06-30T12:28:20.846Z"
   },
   {
    "duration": 33,
    "start_time": "2021-06-30T12:28:20.866Z"
   },
   {
    "duration": 46,
    "start_time": "2021-06-30T12:28:20.902Z"
   },
   {
    "duration": 11,
    "start_time": "2021-06-30T12:28:20.951Z"
   },
   {
    "duration": 29,
    "start_time": "2021-06-30T12:28:20.965Z"
   },
   {
    "duration": 27,
    "start_time": "2021-06-30T12:28:20.997Z"
   },
   {
    "duration": 22,
    "start_time": "2021-06-30T12:28:21.027Z"
   },
   {
    "duration": 33,
    "start_time": "2021-06-30T12:28:21.052Z"
   },
   {
    "duration": 18,
    "start_time": "2021-06-30T12:28:21.088Z"
   },
   {
    "duration": 55,
    "start_time": "2021-06-30T12:28:21.108Z"
   },
   {
    "duration": 24,
    "start_time": "2021-06-30T12:28:21.165Z"
   },
   {
    "duration": 39,
    "start_time": "2021-06-30T12:28:21.191Z"
   },
   {
    "duration": 11,
    "start_time": "2021-06-30T12:31:36.708Z"
   },
   {
    "duration": 27,
    "start_time": "2021-06-30T12:31:41.265Z"
   },
   {
    "duration": 421,
    "start_time": "2021-06-30T12:43:27.675Z"
   },
   {
    "duration": 42,
    "start_time": "2021-06-30T12:43:32.238Z"
   },
   {
    "duration": 2030,
    "start_time": "2021-06-30T12:43:47.040Z"
   },
   {
    "duration": 1502,
    "start_time": "2021-06-30T12:49:51.928Z"
   },
   {
    "duration": 277,
    "start_time": "2021-06-30T12:51:02.571Z"
   },
   {
    "duration": 741,
    "start_time": "2021-06-30T12:51:12.770Z"
   },
   {
    "duration": 38,
    "start_time": "2021-06-30T13:01:53.474Z"
   },
   {
    "duration": 158,
    "start_time": "2021-06-30T13:02:05.637Z"
   },
   {
    "duration": 163,
    "start_time": "2021-06-30T13:02:33.445Z"
   },
   {
    "duration": 1526,
    "start_time": "2021-06-30T13:12:43.062Z"
   },
   {
    "duration": 229,
    "start_time": "2021-06-30T13:12:44.592Z"
   },
   {
    "duration": 22,
    "start_time": "2021-06-30T13:12:44.823Z"
   },
   {
    "duration": 28,
    "start_time": "2021-06-30T13:12:44.847Z"
   },
   {
    "duration": 38,
    "start_time": "2021-06-30T13:12:44.877Z"
   },
   {
    "duration": 26,
    "start_time": "2021-06-30T13:12:44.917Z"
   },
   {
    "duration": 40,
    "start_time": "2021-06-30T13:12:44.945Z"
   },
   {
    "duration": 39,
    "start_time": "2021-06-30T13:12:44.989Z"
   },
   {
    "duration": 32,
    "start_time": "2021-06-30T13:12:45.032Z"
   },
   {
    "duration": 30,
    "start_time": "2021-06-30T13:12:45.066Z"
   },
   {
    "duration": 36,
    "start_time": "2021-06-30T13:12:45.098Z"
   },
   {
    "duration": 27,
    "start_time": "2021-06-30T13:12:45.137Z"
   },
   {
    "duration": 55,
    "start_time": "2021-06-30T13:12:45.167Z"
   },
   {
    "duration": 35,
    "start_time": "2021-06-30T13:12:45.239Z"
   },
   {
    "duration": 51,
    "start_time": "2021-06-30T13:12:45.278Z"
   },
   {
    "duration": 26,
    "start_time": "2021-06-30T13:12:45.332Z"
   },
   {
    "duration": 66,
    "start_time": "2021-06-30T13:12:45.363Z"
   },
   {
    "duration": 448,
    "start_time": "2021-06-30T13:12:45.432Z"
   },
   {
    "duration": 6,
    "start_time": "2021-06-30T13:12:45.883Z"
   },
   {
    "duration": 1095,
    "start_time": "2021-06-30T13:12:45.891Z"
   },
   {
    "duration": 12,
    "start_time": "2021-06-30T13:12:46.989Z"
   },
   {
    "duration": 17,
    "start_time": "2021-06-30T13:12:47.003Z"
   },
   {
    "duration": 787,
    "start_time": "2021-06-30T13:12:47.025Z"
   },
   {
    "duration": 17,
    "start_time": "2021-06-30T13:12:47.816Z"
   },
   {
    "duration": 22,
    "start_time": "2021-06-30T13:12:47.835Z"
   },
   {
    "duration": 767,
    "start_time": "2021-06-30T13:12:47.860Z"
   },
   {
    "duration": 29,
    "start_time": "2021-06-30T13:12:48.629Z"
   },
   {
    "duration": 9,
    "start_time": "2021-06-30T13:12:48.660Z"
   },
   {
    "duration": 17,
    "start_time": "2021-06-30T13:12:48.672Z"
   },
   {
    "duration": 7,
    "start_time": "2021-06-30T13:12:48.691Z"
   },
   {
    "duration": 31,
    "start_time": "2021-06-30T13:12:48.700Z"
   },
   {
    "duration": 63,
    "start_time": "2021-06-30T13:12:48.733Z"
   },
   {
    "duration": 4,
    "start_time": "2021-06-30T13:12:48.799Z"
   },
   {
    "duration": 29,
    "start_time": "2021-06-30T13:12:48.806Z"
   },
   {
    "duration": 26,
    "start_time": "2021-06-30T13:12:48.837Z"
   },
   {
    "duration": 22,
    "start_time": "2021-06-30T13:12:48.865Z"
   },
   {
    "duration": 30,
    "start_time": "2021-06-30T13:12:48.889Z"
   },
   {
    "duration": 12,
    "start_time": "2021-06-30T13:12:48.922Z"
   },
   {
    "duration": 15,
    "start_time": "2021-06-30T13:12:48.937Z"
   },
   {
    "duration": 30,
    "start_time": "2021-06-30T13:12:48.954Z"
   },
   {
    "duration": 42,
    "start_time": "2021-06-30T13:12:48.987Z"
   },
   {
    "duration": 13,
    "start_time": "2021-06-30T13:12:49.032Z"
   },
   {
    "duration": 16,
    "start_time": "2021-06-30T13:12:49.047Z"
   },
   {
    "duration": 24,
    "start_time": "2021-06-30T13:12:49.066Z"
   },
   {
    "duration": 17,
    "start_time": "2021-06-30T13:12:49.092Z"
   },
   {
    "duration": 25,
    "start_time": "2021-06-30T13:12:49.111Z"
   },
   {
    "duration": 9,
    "start_time": "2021-06-30T13:12:49.138Z"
   },
   {
    "duration": 39,
    "start_time": "2021-06-30T13:12:49.149Z"
   },
   {
    "duration": 15,
    "start_time": "2021-06-30T13:12:49.191Z"
   },
   {
    "duration": 27,
    "start_time": "2021-06-30T13:12:49.209Z"
   },
   {
    "duration": 45,
    "start_time": "2021-06-30T13:12:49.239Z"
   },
   {
    "duration": 814,
    "start_time": "2021-06-30T13:12:49.287Z"
   },
   {
    "duration": 1677,
    "start_time": "2021-07-01T09:22:53.415Z"
   },
   {
    "duration": 2544,
    "start_time": "2021-07-01T09:22:55.095Z"
   },
   {
    "duration": -1266,
    "start_time": "2021-07-01T09:22:58.911Z"
   },
   {
    "duration": -1270,
    "start_time": "2021-07-01T09:22:58.917Z"
   },
   {
    "duration": -1271,
    "start_time": "2021-07-01T09:22:58.919Z"
   },
   {
    "duration": -1271,
    "start_time": "2021-07-01T09:22:58.921Z"
   },
   {
    "duration": -1272,
    "start_time": "2021-07-01T09:22:58.924Z"
   },
   {
    "duration": -1272,
    "start_time": "2021-07-01T09:22:58.926Z"
   },
   {
    "duration": -1273,
    "start_time": "2021-07-01T09:22:58.928Z"
   },
   {
    "duration": -1279,
    "start_time": "2021-07-01T09:22:58.935Z"
   },
   {
    "duration": -1279,
    "start_time": "2021-07-01T09:22:58.937Z"
   },
   {
    "duration": -1279,
    "start_time": "2021-07-01T09:22:58.939Z"
   },
   {
    "duration": -1281,
    "start_time": "2021-07-01T09:22:58.942Z"
   },
   {
    "duration": -1281,
    "start_time": "2021-07-01T09:22:58.944Z"
   },
   {
    "duration": -1282,
    "start_time": "2021-07-01T09:22:58.946Z"
   },
   {
    "duration": -1287,
    "start_time": "2021-07-01T09:22:58.953Z"
   },
   {
    "duration": -1303,
    "start_time": "2021-07-01T09:22:58.970Z"
   },
   {
    "duration": -1305,
    "start_time": "2021-07-01T09:22:58.974Z"
   },
   {
    "duration": -1306,
    "start_time": "2021-07-01T09:22:58.976Z"
   },
   {
    "duration": -1307,
    "start_time": "2021-07-01T09:22:58.979Z"
   },
   {
    "duration": -1317,
    "start_time": "2021-07-01T09:22:58.990Z"
   },
   {
    "duration": -1318,
    "start_time": "2021-07-01T09:22:58.993Z"
   },
   {
    "duration": -1330,
    "start_time": "2021-07-01T09:22:59.007Z"
   },
   {
    "duration": -1332,
    "start_time": "2021-07-01T09:22:59.010Z"
   },
   {
    "duration": -1333,
    "start_time": "2021-07-01T09:22:59.013Z"
   },
   {
    "duration": -1342,
    "start_time": "2021-07-01T09:22:59.023Z"
   },
   {
    "duration": -1344,
    "start_time": "2021-07-01T09:22:59.027Z"
   },
   {
    "duration": -1346,
    "start_time": "2021-07-01T09:22:59.030Z"
   },
   {
    "duration": -1355,
    "start_time": "2021-07-01T09:22:59.041Z"
   },
   {
    "duration": -1357,
    "start_time": "2021-07-01T09:22:59.044Z"
   },
   {
    "duration": -1366,
    "start_time": "2021-07-01T09:22:59.055Z"
   },
   {
    "duration": -1368,
    "start_time": "2021-07-01T09:22:59.058Z"
   },
   {
    "duration": -1369,
    "start_time": "2021-07-01T09:22:59.061Z"
   },
   {
    "duration": -1378,
    "start_time": "2021-07-01T09:22:59.072Z"
   },
   {
    "duration": -1381,
    "start_time": "2021-07-01T09:22:59.076Z"
   },
   {
    "duration": -1381,
    "start_time": "2021-07-01T09:22:59.078Z"
   },
   {
    "duration": -1392,
    "start_time": "2021-07-01T09:22:59.090Z"
   },
   {
    "duration": -1416,
    "start_time": "2021-07-01T09:22:59.116Z"
   },
   {
    "duration": -1420,
    "start_time": "2021-07-01T09:22:59.121Z"
   },
   {
    "duration": -1421,
    "start_time": "2021-07-01T09:22:59.124Z"
   },
   {
    "duration": -1422,
    "start_time": "2021-07-01T09:22:59.126Z"
   },
   {
    "duration": -1422,
    "start_time": "2021-07-01T09:22:59.128Z"
   },
   {
    "duration": -1431,
    "start_time": "2021-07-01T09:22:59.138Z"
   },
   {
    "duration": -1433,
    "start_time": "2021-07-01T09:22:59.142Z"
   },
   {
    "duration": -1437,
    "start_time": "2021-07-01T09:22:59.147Z"
   },
   {
    "duration": -1443,
    "start_time": "2021-07-01T09:22:59.155Z"
   },
   {
    "duration": -1445,
    "start_time": "2021-07-01T09:22:59.158Z"
   },
   {
    "duration": -1493,
    "start_time": "2021-07-01T09:22:59.208Z"
   },
   {
    "duration": -1516,
    "start_time": "2021-07-01T09:22:59.233Z"
   },
   {
    "duration": -1517,
    "start_time": "2021-07-01T09:22:59.235Z"
   },
   {
    "duration": -1517,
    "start_time": "2021-07-01T09:22:59.237Z"
   },
   {
    "duration": -1517,
    "start_time": "2021-07-01T09:22:59.239Z"
   },
   {
    "duration": -1518,
    "start_time": "2021-07-01T09:22:59.241Z"
   },
   {
    "duration": -1458,
    "start_time": "2021-07-01T09:22:59.243Z"
   },
   {
    "duration": -1569,
    "start_time": "2021-07-01T09:22:59.356Z"
   },
   {
    "duration": -1569,
    "start_time": "2021-07-01T09:22:59.358Z"
   },
   {
    "duration": -1614,
    "start_time": "2021-07-01T09:22:59.404Z"
   },
   {
    "duration": -1614,
    "start_time": "2021-07-01T09:22:59.406Z"
   },
   {
    "duration": -1614,
    "start_time": "2021-07-01T09:22:59.408Z"
   },
   {
    "duration": -1614,
    "start_time": "2021-07-01T09:22:59.410Z"
   },
   {
    "duration": -1615,
    "start_time": "2021-07-01T09:22:59.412Z"
   },
   {
    "duration": -1619,
    "start_time": "2021-07-01T09:22:59.418Z"
   },
   {
    "duration": -1621,
    "start_time": "2021-07-01T09:22:59.422Z"
   },
   {
    "duration": -1622,
    "start_time": "2021-07-01T09:22:59.424Z"
   },
   {
    "duration": -1622,
    "start_time": "2021-07-01T09:22:59.426Z"
   },
   {
    "duration": -1622,
    "start_time": "2021-07-01T09:22:59.428Z"
   },
   {
    "duration": -1629,
    "start_time": "2021-07-01T09:22:59.436Z"
   },
   {
    "duration": -1629,
    "start_time": "2021-07-01T09:22:59.438Z"
   },
   {
    "duration": -1632,
    "start_time": "2021-07-01T09:22:59.442Z"
   },
   {
    "duration": -1634,
    "start_time": "2021-07-01T09:22:59.446Z"
   },
   {
    "duration": -1641,
    "start_time": "2021-07-01T09:22:59.454Z"
   },
   {
    "duration": -1643,
    "start_time": "2021-07-01T09:22:59.458Z"
   },
   {
    "duration": 6,
    "start_time": "2021-07-01T09:23:12.305Z"
   },
   {
    "duration": 288,
    "start_time": "2021-07-01T09:23:12.314Z"
   },
   {
    "duration": 22,
    "start_time": "2021-07-01T09:23:12.605Z"
   },
   {
    "duration": 9,
    "start_time": "2021-07-01T09:23:12.630Z"
   },
   {
    "duration": 69,
    "start_time": "2021-07-01T09:23:12.643Z"
   },
   {
    "duration": 13,
    "start_time": "2021-07-01T09:23:12.715Z"
   },
   {
    "duration": 57,
    "start_time": "2021-07-01T09:23:12.731Z"
   },
   {
    "duration": 12,
    "start_time": "2021-07-01T09:23:12.791Z"
   },
   {
    "duration": 27,
    "start_time": "2021-07-01T09:23:12.807Z"
   },
   {
    "duration": 10,
    "start_time": "2021-07-01T09:23:12.838Z"
   },
   {
    "duration": 41,
    "start_time": "2021-07-01T09:23:12.851Z"
   },
   {
    "duration": 11,
    "start_time": "2021-07-01T09:23:12.895Z"
   },
   {
    "duration": 24,
    "start_time": "2021-07-01T09:23:12.909Z"
   },
   {
    "duration": 14,
    "start_time": "2021-07-01T09:23:12.935Z"
   },
   {
    "duration": 53,
    "start_time": "2021-07-01T09:23:12.952Z"
   },
   {
    "duration": 14,
    "start_time": "2021-07-01T09:23:13.008Z"
   },
   {
    "duration": 29,
    "start_time": "2021-07-01T09:23:13.025Z"
   },
   {
    "duration": 421,
    "start_time": "2021-07-01T09:23:13.085Z"
   },
   {
    "duration": 9,
    "start_time": "2021-07-01T09:23:13.509Z"
   },
   {
    "duration": 1204,
    "start_time": "2021-07-01T09:23:13.522Z"
   },
   {
    "duration": 15,
    "start_time": "2021-07-01T09:23:14.729Z"
   },
   {
    "duration": 9,
    "start_time": "2021-07-01T09:23:14.747Z"
   },
   {
    "duration": 866,
    "start_time": "2021-07-01T09:23:14.759Z"
   },
   {
    "duration": 21,
    "start_time": "2021-07-01T09:23:15.628Z"
   },
   {
    "duration": 34,
    "start_time": "2021-07-01T09:23:15.652Z"
   },
   {
    "duration": 911,
    "start_time": "2021-07-01T09:23:15.689Z"
   },
   {
    "duration": 17,
    "start_time": "2021-07-01T09:23:16.606Z"
   },
   {
    "duration": 11,
    "start_time": "2021-07-01T09:23:16.626Z"
   },
   {
    "duration": 14,
    "start_time": "2021-07-01T09:23:16.639Z"
   },
   {
    "duration": 33,
    "start_time": "2021-07-01T09:23:16.656Z"
   },
   {
    "duration": 21,
    "start_time": "2021-07-01T09:23:16.692Z"
   },
   {
    "duration": 50,
    "start_time": "2021-07-01T09:23:16.715Z"
   },
   {
    "duration": 17,
    "start_time": "2021-07-01T09:23:16.768Z"
   },
   {
    "duration": 16,
    "start_time": "2021-07-01T09:23:16.788Z"
   },
   {
    "duration": 8,
    "start_time": "2021-07-01T09:23:16.807Z"
   },
   {
    "duration": 10,
    "start_time": "2021-07-01T09:23:16.817Z"
   },
   {
    "duration": 15,
    "start_time": "2021-07-01T09:23:16.830Z"
   },
   {
    "duration": 38,
    "start_time": "2021-07-01T09:23:16.848Z"
   },
   {
    "duration": 4,
    "start_time": "2021-07-01T09:23:16.889Z"
   },
   {
    "duration": 18,
    "start_time": "2021-07-01T09:23:16.895Z"
   },
   {
    "duration": 33,
    "start_time": "2021-07-01T09:23:16.915Z"
   },
   {
    "duration": 44,
    "start_time": "2021-07-01T09:23:16.950Z"
   },
   {
    "duration": 11,
    "start_time": "2021-07-01T09:23:16.997Z"
   },
   {
    "duration": 11,
    "start_time": "2021-07-01T09:23:17.010Z"
   },
   {
    "duration": 11,
    "start_time": "2021-07-01T09:23:17.024Z"
   },
   {
    "duration": 54,
    "start_time": "2021-07-01T09:23:17.038Z"
   },
   {
    "duration": 8,
    "start_time": "2021-07-01T09:23:17.094Z"
   },
   {
    "duration": 34,
    "start_time": "2021-07-01T09:23:17.105Z"
   },
   {
    "duration": 44,
    "start_time": "2021-07-01T09:23:17.143Z"
   },
   {
    "duration": 13,
    "start_time": "2021-07-01T09:23:17.190Z"
   },
   {
    "duration": 30,
    "start_time": "2021-07-01T09:23:17.206Z"
   },
   {
    "duration": 109328,
    "start_time": "2021-07-01T09:23:17.239Z"
   },
   {
    "duration": 16,
    "start_time": "2021-07-01T09:25:06.570Z"
   },
   {
    "duration": 10,
    "start_time": "2021-07-01T09:25:06.588Z"
   },
   {
    "duration": 22,
    "start_time": "2021-07-01T09:25:06.601Z"
   },
   {
    "duration": 1266,
    "start_time": "2021-07-01T09:25:06.625Z"
   },
   {
    "duration": 488096,
    "start_time": "2021-07-01T09:25:07.894Z"
   },
   {
    "duration": 4,
    "start_time": "2021-07-01T09:33:15.993Z"
   },
   {
    "duration": 11,
    "start_time": "2021-07-01T09:33:15.999Z"
   },
   {
    "duration": 12,
    "start_time": "2021-07-01T09:33:16.013Z"
   },
   {
    "duration": 458,
    "start_time": "2021-07-01T09:33:16.027Z"
   },
   {
    "duration": 95,
    "start_time": "2021-07-01T09:33:16.489Z"
   },
   {
    "duration": 12,
    "start_time": "2021-07-01T09:33:16.587Z"
   },
   {
    "duration": 12,
    "start_time": "2021-07-01T09:33:16.602Z"
   },
   {
    "duration": 10865,
    "start_time": "2021-07-01T09:33:16.616Z"
   },
   {
    "duration": 8,
    "start_time": "2021-07-01T09:33:27.483Z"
   },
   {
    "duration": 7,
    "start_time": "2021-07-01T09:33:27.493Z"
   },
   {
    "duration": 15,
    "start_time": "2021-07-01T09:33:27.502Z"
   },
   {
    "duration": 13,
    "start_time": "2021-07-01T09:33:27.519Z"
   },
   {
    "duration": 645,
    "start_time": "2021-07-01T09:33:27.534Z"
   },
   {
    "duration": 6,
    "start_time": "2021-07-01T09:33:28.185Z"
   },
   {
    "duration": 10129,
    "start_time": "2021-07-01T09:33:28.194Z"
   },
   {
    "duration": 21,
    "start_time": "2021-07-01T10:01:28.118Z"
   },
   {
    "duration": 10412,
    "start_time": "2021-07-01T10:51:36.358Z"
   }
  ],
  "kernelspec": {
   "name": "conda-root-py",
   "language": "python",
   "display_name": "Python [conda env:root]"
  },
  "language_info": {
   "codemirror_mode": {
    "name": "ipython",
    "version": 3
   },
   "file_extension": ".py",
   "mimetype": "text/x-python",
   "name": "python",
   "nbconvert_exporter": "python",
   "pygments_lexer": "ipython3",
   "version": "3.7.8"
  },
  "toc": {
   "base_numbering": 1,
   "nav_menu": {},
   "number_sections": true,
   "sideBar": true,
   "skip_h1_title": true,
   "title_cell": "Table of Contents",
   "title_sidebar": "Contents",
   "toc_cell": false,
   "toc_position": {},
   "toc_section_display": true,
   "toc_window_display": false
  }
 },
 "nbformat": 4,
 "nbformat_minor": 2
}